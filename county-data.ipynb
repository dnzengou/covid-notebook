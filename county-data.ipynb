{
 "cells": [
  {
   "cell_type": "code",
   "execution_count": 1,
   "metadata": {},
   "outputs": [],
   "source": [
    "import pandas as pd\n",
    "import numpy as np\n",
    "import altair as alt\n",
    "import locale\n",
    "\n",
    "# Needed for datasets with more than 5k entries. Does not work in all cloud environments.\n",
    "#alt.data_transformers.enable('data_server')\n",
    "\n",
    "# Uncomment these if 'data_server' is not working in your environment\n",
    "# Might result in large notebooks, see https://altair-viz.github.io/user_guide/faq.html#why-does-altair-lead-to-such-extremely-large-notebooks\n",
    "alt.data_transformers.enable('default') #\n",
    "alt.data_transformers.disable_max_rows() # Warning: remove this after testing\n",
    "\n",
    "locale.setlocale(locale.LC_ALL, 'sv_SE') # Needed to parse date strings from SCB\n",
    "%config InlineBackend.figure_format = 'retina'"
   ]
  },
  {
   "cell_type": "code",
   "execution_count": 2,
   "metadata": {},
   "outputs": [],
   "source": [
    "location=\"https://scb.se/hitta-statistik/statistik-efter-amne/befolkning/befolkningens-sammansattning/befolkningsstatistik/pong/tabell-och-diagram/preliminar-statistik-over-doda/\"\n",
    "\n",
    "source = pd.read_excel(location, sheet_name=\"Tabell 3\", skiprows=5, header=1, usecols='A:W', na_values=\"..\")\n",
    "source['date'] = pd.to_datetime(source['Unnamed: 0'] + source['Year'].apply(str), format='%d %B%Y', errors='coerce')\n",
    "source.drop(['Unnamed: 0', 'Year'], axis=1, inplace=True)\n",
    "source.drop(source.index[[0,1]], inplace=True)\n",
    "source.drop([850, 851, 852], inplace=True) # Drop summary rows\n",
    "\n",
    "# This should really be done by combining column names with the first row. Brute force will do for now\n",
    "rename_columns = {'Söderman-':'Södermanland', 'Öster-': 'Östergötland', 'Västra': 'Västra Götaland', 'Västman-': 'Västmanland', 'Västernorr-': 'Västernorrland', 'Väster-': 'Västerbotten', 'Norr-': 'Norrbotten'}\n",
    "source.rename(columns=rename_columns, inplace=True)\n",
    "source=source.set_index('date').stack().reset_index()\n",
    "source.rename(columns={'level_1': 'county', 0: 'deaths'}, inplace=True)\n",
    "source.deaths = source.deaths.astype(int)\n",
    "source.county = source.county.astype('category')\n",
    "weekly = source.groupby('county').resample('W', on='date').sum().reset_index()"
   ]
  },
  {
   "cell_type": "code",
   "execution_count": 3,
   "metadata": {},
   "outputs": [
    {
     "output_type": "execute_result",
     "data": {
      "text/html": "\n<div id=\"altair-viz-c02d6ffaafd84747831043936ffdb161\"></div>\n<script type=\"text/javascript\">\n  (function(spec, embedOpt){\n    let outputDiv = document.currentScript.previousElementSibling;\n    if (outputDiv.id !== \"altair-viz-c02d6ffaafd84747831043936ffdb161\") {\n      outputDiv = document.getElementById(\"altair-viz-c02d6ffaafd84747831043936ffdb161\");\n    }\n    const paths = {\n      \"vega\": \"https://cdn.jsdelivr.net/npm//vega@5?noext\",\n      \"vega-lib\": \"https://cdn.jsdelivr.net/npm//vega-lib?noext\",\n      \"vega-lite\": \"https://cdn.jsdelivr.net/npm//vega-lite@4.8.1?noext\",\n      \"vega-embed\": \"https://cdn.jsdelivr.net/npm//vega-embed@6?noext\",\n    };\n\n    function loadScript(lib) {\n      return new Promise(function(resolve, reject) {\n        var s = document.createElement('script');\n        s.src = paths[lib];\n        s.async = true;\n        s.onload = () => resolve(paths[lib]);\n        s.onerror = () => reject(`Error loading script: ${paths[lib]}`);\n        document.getElementsByTagName(\"head\")[0].appendChild(s);\n      });\n    }\n\n    function showError(err) {\n      outputDiv.innerHTML = `<div class=\"error\" style=\"color:red;\">${err}</div>`;\n      throw err;\n    }\n\n    function displayChart(vegaEmbed) {\n      vegaEmbed(outputDiv, spec, embedOpt)\n        .catch(err => showError(`Javascript Error: ${err.message}<br>This usually means there's a typo in your chart specification. See the javascript console for the full traceback.`));\n    }\n\n    if(typeof define === \"function\" && define.amd) {\n      requirejs.config({paths});\n      require([\"vega-embed\"], displayChart, err => showError(`Error loading script: ${err.message}`));\n    } else if (typeof vegaEmbed === \"function\") {\n      displayChart(vegaEmbed);\n    } else {\n      loadScript(\"vega\")\n        .then(() => loadScript(\"vega-lite\"))\n        .then(() => loadScript(\"vega-embed\"))\n        .catch(showError)\n        .then(() => displayChart(vegaEmbed));\n    }\n  })({\"config\": {\"view\": {\"continuousWidth\": 400, \"continuousHeight\": 300}}, \"data\": {\"url\": \"http://localhost:21712/8c2059ff8ada1f6223fcffa87cb60f7f.json\"}, \"mark\": \"bar\", \"encoding\": {\"color\": {\"type\": \"nominal\", \"field\": \"county\"}, \"opacity\": {\"condition\": {\"value\": 1, \"selection\": \"selector001\"}, \"value\": 0.2}, \"x\": {\"type\": \"ordinal\", \"field\": \"date\", \"timeUnit\": \"yearmonthdate\"}, \"y\": {\"type\": \"quantitative\", \"aggregate\": \"sum\", \"field\": \"deaths\"}}, \"height\": 600, \"selection\": {\"selector001\": {\"type\": \"multi\", \"fields\": [\"county\"], \"bind\": \"legend\"}}, \"width\": 800, \"$schema\": \"https://vega.github.io/schema/vega-lite/v4.8.1.json\"}, {\"mode\": \"vega-lite\"});\n</script>",
      "text/plain": "alt.Chart(...)"
     },
     "metadata": {},
     "execution_count": 3
    }
   ],
   "source": [
    "df = weekly\n",
    "\n",
    "selection = alt.selection_multi(fields=['county'], bind='legend')\n",
    "\n",
    "alt.Chart(df, height=600, width=800).mark_bar().encode(\n",
    "    alt.X('yearmonthdate(date):O'),\n",
    "    alt.Y('sum(deaths):Q'),\n",
    "    color='county:N',\n",
    "    opacity=alt.condition(selection, alt.value(1), alt.value(0.2))\n",
    ").add_selection(selection)"
   ]
  },
  {
   "cell_type": "code",
   "execution_count": 4,
   "metadata": {},
   "outputs": [
    {
     "output_type": "execute_result",
     "data": {
      "text/html": "\n<div id=\"altair-viz-77617701025e41d188794efa41f1f6c2\"></div>\n<script type=\"text/javascript\">\n  (function(spec, embedOpt){\n    let outputDiv = document.currentScript.previousElementSibling;\n    if (outputDiv.id !== \"altair-viz-77617701025e41d188794efa41f1f6c2\") {\n      outputDiv = document.getElementById(\"altair-viz-77617701025e41d188794efa41f1f6c2\");\n    }\n    const paths = {\n      \"vega\": \"https://cdn.jsdelivr.net/npm//vega@5?noext\",\n      \"vega-lib\": \"https://cdn.jsdelivr.net/npm//vega-lib?noext\",\n      \"vega-lite\": \"https://cdn.jsdelivr.net/npm//vega-lite@4.8.1?noext\",\n      \"vega-embed\": \"https://cdn.jsdelivr.net/npm//vega-embed@6?noext\",\n    };\n\n    function loadScript(lib) {\n      return new Promise(function(resolve, reject) {\n        var s = document.createElement('script');\n        s.src = paths[lib];\n        s.async = true;\n        s.onload = () => resolve(paths[lib]);\n        s.onerror = () => reject(`Error loading script: ${paths[lib]}`);\n        document.getElementsByTagName(\"head\")[0].appendChild(s);\n      });\n    }\n\n    function showError(err) {\n      outputDiv.innerHTML = `<div class=\"error\" style=\"color:red;\">${err}</div>`;\n      throw err;\n    }\n\n    function displayChart(vegaEmbed) {\n      vegaEmbed(outputDiv, spec, embedOpt)\n        .catch(err => showError(`Javascript Error: ${err.message}<br>This usually means there's a typo in your chart specification. See the javascript console for the full traceback.`));\n    }\n\n    if(typeof define === \"function\" && define.amd) {\n      requirejs.config({paths});\n      require([\"vega-embed\"], displayChart, err => showError(`Error loading script: ${err.message}`));\n    } else if (typeof vegaEmbed === \"function\") {\n      displayChart(vegaEmbed);\n    } else {\n      loadScript(\"vega\")\n        .then(() => loadScript(\"vega-lite\"))\n        .then(() => loadScript(\"vega-embed\"))\n        .catch(showError)\n        .then(() => displayChart(vegaEmbed));\n    }\n  })({\"config\": {\"view\": {\"continuousWidth\": 400, \"continuousHeight\": 300}}, \"hconcat\": [{\"layer\": [{\"mark\": {\"type\": \"point\", \"opacity\": 0.4}, \"encoding\": {\"color\": {\"type\": \"nominal\", \"field\": \"county\", \"legend\": null, \"scale\": {\"scheme\": \"category20\"}}, \"x\": {\"type\": \"temporal\", \"field\": \"date\", \"timeUnit\": \"monthdate\", \"title\": \"Date\"}, \"y\": {\"type\": \"quantitative\", \"field\": \"deaths\"}}, \"height\": 600, \"title\": \"Weekly Deaths in 2020 Compared to Weekly Average for 2018-2019\", \"transform\": [{\"filter\": {\"selection\": \"selector002\"}}, {\"filter\": \"year(datum.date) < 2020\"}], \"width\": 800}, {\"mark\": {\"type\": \"rule\", \"opacity\": 0.5}, \"encoding\": {\"color\": {\"type\": \"nominal\", \"field\": \"county\", \"legend\": null, \"scale\": {\"scheme\": \"category20\"}}, \"size\": {\"value\": 5}, \"y\": {\"type\": \"quantitative\", \"aggregate\": \"average\", \"field\": \"deaths\", \"title\": \"Deaths\"}}, \"height\": 600, \"title\": \"Weekly Deaths in 2020 Compared to Weekly Average for 2018-2019\", \"transform\": [{\"filter\": {\"selection\": \"selector002\"}}, {\"filter\": \"year(datum.date) < 2020\"}], \"width\": 800}, {\"mark\": {\"type\": \"line\", \"interpolate\": \"step-before\", \"point\": true}, \"encoding\": {\"color\": {\"type\": \"nominal\", \"field\": \"county\", \"legend\": null, \"scale\": {\"scheme\": \"category20\"}}, \"tooltip\": [{\"type\": \"nominal\", \"field\": \"county\"}, {\"type\": \"quantitative\", \"field\": \"deaths\"}, {\"type\": \"temporal\", \"field\": \"date\"}], \"x\": {\"type\": \"temporal\", \"field\": \"date\", \"timeUnit\": \"monthdate\"}, \"y\": {\"type\": \"quantitative\", \"field\": \"deaths\"}}, \"height\": 600, \"title\": \"Weekly Deaths in 2020 Compared to Weekly Average for 2018-2019\", \"transform\": [{\"filter\": {\"selection\": \"selector002\"}}, {\"filter\": \"year(datum.date) == 2020 & week(datum.date) < 17\"}], \"width\": 800}]}, {\"mark\": \"bar\", \"encoding\": {\"color\": {\"condition\": {\"type\": \"nominal\", \"field\": \"county\", \"selection\": \"selector002\"}, \"value\": \"lightgray\"}, \"y\": {\"type\": \"nominal\", \"axis\": {\"orient\": \"right\"}, \"field\": \"county\", \"title\": null}}, \"selection\": {\"selector002\": {\"type\": \"multi\", \"encodings\": [\"color\"]}}}], \"data\": {\"url\": \"http://localhost:21712/8c2059ff8ada1f6223fcffa87cb60f7f.json\"}, \"$schema\": \"https://vega.github.io/schema/vega-lite/v4.8.1.json\"}, {\"mode\": \"vega-lite\"});\n</script>",
      "text/plain": "alt.HConcatChart(...)"
     },
     "metadata": {},
     "execution_count": 4
    }
   ],
   "source": [
    "df = weekly\n",
    "\n",
    "# Don't show last week due to lag in reporting\n",
    "#last_date_to_show = str(df.date.max() - pd.Timedelta('7d'))\n",
    "# This filter will not work when saving to HTML and rendering in browser. Will debug later if at all.\n",
    "#current_filter = f'year(datum.date) == 2020 & datetime(datum.date) < datetime(\"{last_date_to_show}\")'\n",
    "\n",
    "# Don't show last week due to lag in reporting\n",
    "last_week_to_show = df.date.max().week - 1\n",
    "current_filter = f'year(datum.date) == 2020 & week(datum.date) < {last_week_to_show}'\n",
    "\n",
    "click = alt.selection_multi(encodings=['color'])\n",
    "\n",
    "base = alt.Chart(df, height=600, width=800, title=\"Weekly Deaths in 2020 Compared to Weekly Average for 2018-2019\").encode(\n",
    "    color=alt.Color('county', legend=None, scale=alt.Scale(scheme='category20')),\n",
    ").transform_filter(\n",
    "    click\n",
    ")\n",
    "\n",
    "history = base.mark_point(opacity=0.4).encode(\n",
    "    alt.X('monthdate(date)', title='Date'),\n",
    "    y='deaths',\n",
    ").transform_filter(\n",
    "    'year(datum.date) < 2020'\n",
    ")\n",
    "\n",
    "current = base.mark_line(point=True, interpolate='step-before').encode(\n",
    "    x='monthdate(date)',\n",
    "    y='deaths',\n",
    "    tooltip=['county', 'deaths', 'date']\n",
    ").transform_filter(\n",
    "    current_filter\n",
    ")\n",
    "\n",
    "rule = base.mark_rule(opacity=0.5).encode(\n",
    "    y=alt.Y('average(deaths)', title='Deaths'),\n",
    "    size=alt.value(5)\n",
    ").transform_filter(\n",
    "    'year(datum.date) < 2020'\n",
    ")\n",
    "\n",
    "legend = alt.Chart(df).mark_bar().encode(\n",
    "    y=alt.Y('county:N', axis=alt.Axis(orient='right'), title=None),\n",
    "    color=alt.condition(click, 'county', alt.value('lightgray')),\n",
    ").add_selection(\n",
    "    click\n",
    ")\n",
    "\n",
    "chart = history + rule + current | legend\n",
    "chart.save('charts/county.html')\n",
    "chart"
   ]
  },
  {
   "cell_type": "code",
   "execution_count": 5,
   "metadata": {},
   "outputs": [
    {
     "output_type": "execute_result",
     "data": {
      "text/html": "\n<div id=\"altair-viz-ab5dda96e9f845908b4411afa6165c99\"></div>\n<script type=\"text/javascript\">\n  (function(spec, embedOpt){\n    let outputDiv = document.currentScript.previousElementSibling;\n    if (outputDiv.id !== \"altair-viz-ab5dda96e9f845908b4411afa6165c99\") {\n      outputDiv = document.getElementById(\"altair-viz-ab5dda96e9f845908b4411afa6165c99\");\n    }\n    const paths = {\n      \"vega\": \"https://cdn.jsdelivr.net/npm//vega@5?noext\",\n      \"vega-lib\": \"https://cdn.jsdelivr.net/npm//vega-lib?noext\",\n      \"vega-lite\": \"https://cdn.jsdelivr.net/npm//vega-lite@4.8.1?noext\",\n      \"vega-embed\": \"https://cdn.jsdelivr.net/npm//vega-embed@6?noext\",\n    };\n\n    function loadScript(lib) {\n      return new Promise(function(resolve, reject) {\n        var s = document.createElement('script');\n        s.src = paths[lib];\n        s.async = true;\n        s.onload = () => resolve(paths[lib]);\n        s.onerror = () => reject(`Error loading script: ${paths[lib]}`);\n        document.getElementsByTagName(\"head\")[0].appendChild(s);\n      });\n    }\n\n    function showError(err) {\n      outputDiv.innerHTML = `<div class=\"error\" style=\"color:red;\">${err}</div>`;\n      throw err;\n    }\n\n    function displayChart(vegaEmbed) {\n      vegaEmbed(outputDiv, spec, embedOpt)\n        .catch(err => showError(`Javascript Error: ${err.message}<br>This usually means there's a typo in your chart specification. See the javascript console for the full traceback.`));\n    }\n\n    if(typeof define === \"function\" && define.amd) {\n      requirejs.config({paths});\n      require([\"vega-embed\"], displayChart, err => showError(`Error loading script: ${err.message}`));\n    } else if (typeof vegaEmbed === \"function\") {\n      displayChart(vegaEmbed);\n    } else {\n      loadScript(\"vega\")\n        .then(() => loadScript(\"vega-lite\"))\n        .then(() => loadScript(\"vega-embed\"))\n        .catch(showError)\n        .then(() => displayChart(vegaEmbed));\n    }\n  })({\"config\": {\"view\": {\"continuousWidth\": 400, \"continuousHeight\": 300}}, \"layer\": [{\"mark\": {\"type\": \"line\", \"size\": 4}, \"encoding\": {\"color\": {\"type\": \"nominal\", \"field\": \"date\", \"scale\": {\"range\": [\"#d9d9d9\", \"#b9b9b9\", \"#e6550d\"]}, \"timeUnit\": \"year\", \"title\": \"Year\"}, \"x\": {\"type\": \"temporal\", \"field\": \"date\", \"timeUnit\": \"monthdate\"}, \"y\": {\"type\": \"quantitative\", \"field\": \"rolling_mean\"}}, \"height\": 600, \"title\": \"Daily Deaths in Sweden 2018-2020\", \"transform\": [{\"aggregate\": [{\"op\": \"sum\", \"field\": \"deaths\", \"as\": \"sum_deaths\"}], \"groupby\": [\"date\"]}, {\"filter\": \"year(datum.date) == 2018\"}, {\"window\": [{\"op\": \"mean\", \"field\": \"sum_deaths\", \"as\": \"rolling_mean\"}], \"frame\": [-10, 10]}], \"width\": 800}, {\"mark\": {\"type\": \"line\", \"size\": 4}, \"encoding\": {\"color\": {\"type\": \"nominal\", \"field\": \"date\", \"scale\": {\"range\": [\"#d9d9d9\", \"#b9b9b9\", \"#e6550d\"]}, \"timeUnit\": \"year\", \"title\": \"Year\"}, \"x\": {\"type\": \"temporal\", \"field\": \"date\", \"timeUnit\": \"monthdate\"}, \"y\": {\"type\": \"quantitative\", \"field\": \"rolling_mean\"}}, \"height\": 600, \"title\": \"Daily Deaths in Sweden 2018-2020\", \"transform\": [{\"aggregate\": [{\"op\": \"sum\", \"field\": \"deaths\", \"as\": \"sum_deaths\"}], \"groupby\": [\"date\"]}, {\"filter\": \"year(datum.date) == 2019\"}, {\"window\": [{\"op\": \"mean\", \"field\": \"sum_deaths\", \"as\": \"rolling_mean\"}], \"frame\": [-10, 10]}], \"width\": 800}, {\"mark\": \"point\", \"encoding\": {\"color\": {\"type\": \"nominal\", \"field\": \"date\", \"scale\": {\"range\": [\"#d9d9d9\", \"#b9b9b9\", \"#e6550d\"]}, \"timeUnit\": \"year\", \"title\": \"Year\"}, \"x\": {\"type\": \"temporal\", \"field\": \"date\", \"timeUnit\": \"monthdate\"}, \"y\": {\"type\": \"quantitative\", \"field\": \"sum_deaths\"}}, \"height\": 600, \"title\": \"Daily Deaths in Sweden 2018-2020\", \"transform\": [{\"aggregate\": [{\"op\": \"sum\", \"field\": \"deaths\", \"as\": \"sum_deaths\"}], \"groupby\": [\"date\"]}], \"width\": 800}, {\"mark\": {\"type\": \"line\", \"size\": 4}, \"encoding\": {\"color\": {\"type\": \"nominal\", \"field\": \"date\", \"scale\": {\"range\": [\"#d9d9d9\", \"#b9b9b9\", \"#e6550d\"]}, \"timeUnit\": \"year\", \"title\": \"Year\"}, \"x\": {\"type\": \"temporal\", \"field\": \"date\", \"timeUnit\": \"monthdate\"}, \"y\": {\"type\": \"quantitative\", \"field\": \"rolling_mean\"}}, \"height\": 600, \"title\": \"Daily Deaths in Sweden 2018-2020\", \"transform\": [{\"aggregate\": [{\"op\": \"sum\", \"field\": \"deaths\", \"as\": \"sum_deaths\"}], \"groupby\": [\"date\"]}, {\"filter\": \"year(datum.date) == 2020 & datetime(datum.date) < datetime(\\\"2020-04-22 00:00:00\\\")\"}, {\"window\": [{\"op\": \"mean\", \"field\": \"sum_deaths\", \"as\": \"rolling_mean\"}], \"frame\": [-10, 10]}], \"width\": 800}], \"data\": {\"url\": \"http://localhost:21712/56a97ef78d0fd14827d08098d9fd18dc.json\"}, \"$schema\": \"https://vega.github.io/schema/vega-lite/v4.8.1.json\"}, {\"mode\": \"vega-lite\"});\n</script>",
      "text/plain": "alt.LayerChart(...)"
     },
     "metadata": {},
     "execution_count": 5
    }
   ],
   "source": [
    "df=source[source.date.notna()]\n",
    "\n",
    "last_date_for_mean_calculation = str(df.date.max() - pd.Timedelta('7d'))\n",
    "current = f'year(datum.date) == 2020 & datetime(datum.date) < datetime(\"{last_date_for_mean_calculation}\")'\n",
    "history_2019 = 'year(datum.date) == 2019'\n",
    "history_2018 = 'year(datum.date) == 2018'\n",
    "\n",
    "base = alt.Chart(\n",
    "    df,\n",
    "    height=600,\n",
    "    width=800,\n",
    "    title=\"Daily Deaths in Sweden 2018-2020\"\n",
    ").transform_aggregate(\n",
    "    sum_deaths='sum(deaths)',\n",
    "    groupby=['date']\n",
    ").encode(\n",
    "    x='monthdate(date)',\n",
    "    color=alt.Color('year(date):N', title='Year', scale=alt.Scale(range=['#d9d9d9', '#b9b9b9', '#e6550d']))\n",
    ")\n",
    "\n",
    "points = base.mark_point().encode(\n",
    "    y='sum_deaths:Q',\n",
    ")\n",
    "\n",
    "# https://vega.github.io/vega/docs/expressions/#datetime-functions\n",
    "def plot_mean(time_filter):\n",
    "    mean = base.transform_filter(\n",
    "        time_filter\n",
    "    ).transform_window(\n",
    "        rolling_mean='mean(sum_deaths)',\n",
    "        frame=[-10, 10]\n",
    "    ).mark_line(\n",
    "        size=4\n",
    "    ).encode(\n",
    "        y=alt.Y('rolling_mean:Q'),\n",
    "    )\n",
    "\n",
    "    return mean\n",
    "\n",
    "chart = plot_mean(history_2018) + plot_mean(history_2019) + points + plot_mean(current)\n",
    "chart.save('charts/daily-deaths.html')\n",
    "chart"
   ]
  },
  {
   "cell_type": "code",
   "execution_count": 6,
   "metadata": {},
   "outputs": [
    {
     "output_type": "execute_result",
     "data": {
      "text/html": "\n<div id=\"altair-viz-7a895212506c4589871e6dc578ed6c58\"></div>\n<script type=\"text/javascript\">\n  (function(spec, embedOpt){\n    let outputDiv = document.currentScript.previousElementSibling;\n    if (outputDiv.id !== \"altair-viz-7a895212506c4589871e6dc578ed6c58\") {\n      outputDiv = document.getElementById(\"altair-viz-7a895212506c4589871e6dc578ed6c58\");\n    }\n    const paths = {\n      \"vega\": \"https://cdn.jsdelivr.net/npm//vega@5?noext\",\n      \"vega-lib\": \"https://cdn.jsdelivr.net/npm//vega-lib?noext\",\n      \"vega-lite\": \"https://cdn.jsdelivr.net/npm//vega-lite@4.8.1?noext\",\n      \"vega-embed\": \"https://cdn.jsdelivr.net/npm//vega-embed@6?noext\",\n    };\n\n    function loadScript(lib) {\n      return new Promise(function(resolve, reject) {\n        var s = document.createElement('script');\n        s.src = paths[lib];\n        s.async = true;\n        s.onload = () => resolve(paths[lib]);\n        s.onerror = () => reject(`Error loading script: ${paths[lib]}`);\n        document.getElementsByTagName(\"head\")[0].appendChild(s);\n      });\n    }\n\n    function showError(err) {\n      outputDiv.innerHTML = `<div class=\"error\" style=\"color:red;\">${err}</div>`;\n      throw err;\n    }\n\n    function displayChart(vegaEmbed) {\n      vegaEmbed(outputDiv, spec, embedOpt)\n        .catch(err => showError(`Javascript Error: ${err.message}<br>This usually means there's a typo in your chart specification. See the javascript console for the full traceback.`));\n    }\n\n    if(typeof define === \"function\" && define.amd) {\n      requirejs.config({paths});\n      require([\"vega-embed\"], displayChart, err => showError(`Error loading script: ${err.message}`));\n    } else if (typeof vegaEmbed === \"function\") {\n      displayChart(vegaEmbed);\n    } else {\n      loadScript(\"vega\")\n        .then(() => loadScript(\"vega-lite\"))\n        .then(() => loadScript(\"vega-embed\"))\n        .catch(showError)\n        .then(() => displayChart(vegaEmbed));\n    }\n  })({\"config\": {\"view\": {\"continuousWidth\": 400, \"continuousHeight\": 300}}, \"hconcat\": [{\"vconcat\": [{\"mark\": \"bar\", \"encoding\": {\"color\": {\"type\": \"nominal\", \"field\": \"county\", \"legend\": null}, \"opacity\": {\"condition\": {\"value\": 1, \"selection\": \"selector004\"}, \"value\": 0.2}, \"tooltip\": [{\"type\": \"nominal\", \"field\": \"county\"}, {\"type\": \"quantitative\", \"field\": \"deaths\"}, {\"type\": \"temporal\", \"field\": \"date\"}], \"x\": {\"type\": \"ordinal\", \"field\": \"date\", \"timeUnit\": \"yearmonthdate\", \"title\": \"Date\"}, \"y\": {\"type\": \"quantitative\", \"aggregate\": \"sum\", \"field\": \"deaths\", \"title\": \"Weekly Deaths\"}}, \"selection\": {\"selector004\": {\"type\": \"interval\", \"encodings\": [\"x\"]}, \"selector005\": {\"type\": \"interval\", \"bind\": \"scales\", \"encodings\": [\"x\", \"y\"]}}, \"title\": \"Weekly Deaths in Sweden 2018-2020\", \"transform\": [{\"filter\": {\"selection\": \"selector003\"}}], \"width\": 800}, {\"mark\": \"bar\", \"encoding\": {\"color\": {\"type\": \"nominal\", \"field\": \"county\"}, \"opacity\": {\"condition\": {\"value\": 1, \"selection\": \"selector003\"}, \"value\": 0.2}, \"x\": {\"type\": \"quantitative\", \"aggregate\": \"sum\", \"field\": \"deaths\", \"title\": \"Total Deaths During Selected Period\"}, \"y\": {\"type\": \"nominal\", \"field\": \"county\", \"title\": \"\"}}, \"height\": 300, \"selection\": {\"selector003\": {\"type\": \"multi\", \"encodings\": [\"color\"]}}, \"transform\": [{\"filter\": {\"selection\": \"selector004\"}}], \"width\": 800}]}, {\"mark\": \"bar\", \"encoding\": {\"color\": {\"condition\": {\"type\": \"nominal\", \"field\": \"county\", \"selection\": \"selector003\"}, \"value\": \"lightgray\"}, \"y\": {\"type\": \"nominal\", \"axis\": {\"orient\": \"right\"}, \"field\": \"county\", \"title\": null}}, \"height\": 250, \"selection\": {\"selector003\": {\"type\": \"multi\", \"encodings\": [\"color\"]}, \"selector006\": {\"type\": \"interval\", \"bind\": \"scales\", \"encodings\": [\"x\", \"y\"]}}}], \"data\": {\"url\": \"http://localhost:21712/8c2059ff8ada1f6223fcffa87cb60f7f.json\"}, \"$schema\": \"https://vega.github.io/schema/vega-lite/v4.8.1.json\"}, {\"mode\": \"vega-lite\"});\n</script>",
      "text/plain": "alt.HConcatChart(...)"
     },
     "metadata": {},
     "execution_count": 6
    }
   ],
   "source": [
    "df = weekly\n",
    "\n",
    "click = alt.selection_multi(encodings=['color'])\n",
    "brush = alt.selection_interval(encodings=['x'])\n",
    "\n",
    "bars = alt.Chart(\n",
    "    df,\n",
    "    width=800,\n",
    "    title=\"Weekly Deaths in Sweden 2018-2020\"\n",
    ").mark_bar(\n",
    ").encode(\n",
    "    alt.X('yearmonthdate(date):O', title='Date'),\n",
    "    alt.Y('sum(deaths):Q', title=\"Weekly Deaths\"),\n",
    "    color=alt.Color('county:N', legend=None),\n",
    "    opacity=alt.condition(brush, alt.value(1), alt.value(0.2)),\n",
    "    tooltip=['county', 'deaths', 'date'],\n",
    ").add_selection(\n",
    "    brush\n",
    ").transform_filter(\n",
    "    click\n",
    ").interactive()\n",
    "\n",
    "county_list = alt.Chart(\n",
    "    df,\n",
    "    width=800,\n",
    "    height=300\n",
    ").mark_bar(\n",
    ").encode(\n",
    "    x=alt.X('sum(deaths)', title='Total Deaths During Selected Period'),\n",
    "    y=alt.Y('county:N', title=''),\n",
    "    opacity=alt.condition(click, alt.value(1), alt.value(0.2)),\n",
    "    color='county'\n",
    ").add_selection(\n",
    "    click\n",
    ").transform_filter(\n",
    "    brush\n",
    ")\n",
    "\n",
    "legend = alt.Chart(df, height=250).mark_bar().encode(\n",
    "    y=alt.Y('county:N', axis=alt.Axis(orient='right'), title=None),\n",
    "    color=alt.condition(click, 'county', alt.value('lightgray')),\n",
    ").add_selection(\n",
    "    click\n",
    ").interactive()\n",
    "\n",
    "chart = bars & county_list | legend\n",
    "chart.save('charts/weekly-deaths.html')\n",
    "chart"
   ]
  },
  {
   "cell_type": "code",
   "execution_count": 7,
   "metadata": {},
   "outputs": [
    {
     "output_type": "execute_result",
     "data": {
      "text/html": "\n<div id=\"altair-viz-4c66fdc5484940a3b7fea53ec0df1572\"></div>\n<script type=\"text/javascript\">\n  (function(spec, embedOpt){\n    let outputDiv = document.currentScript.previousElementSibling;\n    if (outputDiv.id !== \"altair-viz-4c66fdc5484940a3b7fea53ec0df1572\") {\n      outputDiv = document.getElementById(\"altair-viz-4c66fdc5484940a3b7fea53ec0df1572\");\n    }\n    const paths = {\n      \"vega\": \"https://cdn.jsdelivr.net/npm//vega@5?noext\",\n      \"vega-lib\": \"https://cdn.jsdelivr.net/npm//vega-lib?noext\",\n      \"vega-lite\": \"https://cdn.jsdelivr.net/npm//vega-lite@4.8.1?noext\",\n      \"vega-embed\": \"https://cdn.jsdelivr.net/npm//vega-embed@6?noext\",\n    };\n\n    function loadScript(lib) {\n      return new Promise(function(resolve, reject) {\n        var s = document.createElement('script');\n        s.src = paths[lib];\n        s.async = true;\n        s.onload = () => resolve(paths[lib]);\n        s.onerror = () => reject(`Error loading script: ${paths[lib]}`);\n        document.getElementsByTagName(\"head\")[0].appendChild(s);\n      });\n    }\n\n    function showError(err) {\n      outputDiv.innerHTML = `<div class=\"error\" style=\"color:red;\">${err}</div>`;\n      throw err;\n    }\n\n    function displayChart(vegaEmbed) {\n      vegaEmbed(outputDiv, spec, embedOpt)\n        .catch(err => showError(`Javascript Error: ${err.message}<br>This usually means there's a typo in your chart specification. See the javascript console for the full traceback.`));\n    }\n\n    if(typeof define === \"function\" && define.amd) {\n      requirejs.config({paths});\n      require([\"vega-embed\"], displayChart, err => showError(`Error loading script: ${err.message}`));\n    } else if (typeof vegaEmbed === \"function\") {\n      displayChart(vegaEmbed);\n    } else {\n      loadScript(\"vega\")\n        .then(() => loadScript(\"vega-lite\"))\n        .then(() => loadScript(\"vega-embed\"))\n        .catch(showError)\n        .then(() => displayChart(vegaEmbed));\n    }\n  })({\"config\": {\"view\": {\"continuousWidth\": 400, \"continuousHeight\": 300}}, \"layer\": [{\"mark\": {\"type\": \"line\", \"opacity\": 0.4}, \"encoding\": {\"color\": {\"type\": \"nominal\", \"field\": \"date\", \"timeUnit\": \"year\"}, \"x\": {\"type\": \"temporal\", \"field\": \"date\", \"timeUnit\": \"monthdate\"}, \"y\": {\"type\": \"quantitative\", \"aggregate\": \"sum\", \"field\": \"deaths\"}}, \"title\": \"Weekly Deaths in Sweden excl. Stockholm 2018-2020\", \"transform\": [{\"filter\": \"year(datum.date) < 2020\"}]}, {\"mark\": {\"type\": \"line\", \"opacity\": 1}, \"encoding\": {\"color\": {\"type\": \"nominal\", \"field\": \"date\", \"timeUnit\": \"year\"}, \"x\": {\"type\": \"temporal\", \"field\": \"date\", \"timeUnit\": \"monthdate\"}, \"y\": {\"type\": \"quantitative\", \"aggregate\": \"sum\", \"field\": \"deaths\"}}, \"title\": \"Weekly Deaths in Sweden excl. Stockholm 2018-2020\", \"transform\": [{\"filter\": \"year(datum.date) == 2020 & datetime(datum.date) < datetime(\\\"2020-04-26 00:00:00\\\")\"}]}], \"data\": {\"url\": \"http://localhost:21712/34bb8f4fcef18def9d5cf60cd77b3839.json\"}, \"$schema\": \"https://vega.github.io/schema/vega-lite/v4.8.1.json\"}, {\"mode\": \"vega-lite\"});\n</script>",
      "text/plain": "alt.LayerChart(...)"
     },
     "metadata": {},
     "execution_count": 7
    }
   ],
   "source": [
    "df=weekly[weekly['county'] != 'Stockholm']\n",
    "\n",
    "last_date_to_use = str(df.date.max() - pd.Timedelta('7d'))\n",
    "filter = f'year(datum.date) == 2020 & datetime(datum.date) < datetime(\"{last_date_to_use}\")'\n",
    "\n",
    "base = alt.Chart(df, title='Weekly Deaths in Sweden excl. Stockholm 2018-2020').mark_line(opacity=0.4).encode(\n",
    "    x='monthdate(date)',\n",
    "    y='sum(deaths)',\n",
    "    color='year(date):N'\n",
    ")\n",
    "\n",
    "history = base.encode().transform_filter(\n",
    "    \"year(datum.date) < 2020\"\n",
    ")\n",
    "\n",
    "current = base.encode().mark_line(opacity=1).transform_filter(\n",
    "    filter\n",
    ")\n",
    "\n",
    "history + current"
   ]
  }
 ],
 "metadata": {
  "language_info": {
   "codemirror_mode": {
    "name": "ipython",
    "version": 3
   },
   "file_extension": ".py",
   "mimetype": "text/x-python",
   "name": "python",
   "nbconvert_exporter": "python",
   "pygments_lexer": "ipython3",
   "version": "3.8.0-final"
  },
  "orig_nbformat": 2,
  "kernelspec": {
   "name": "python38064bit380pyenv663c04aa123640ccb340a8745709dbbc",
   "display_name": "Python 3.8.0 64-bit ('3.8.0': pyenv)"
  }
 },
 "nbformat": 4,
 "nbformat_minor": 2
}