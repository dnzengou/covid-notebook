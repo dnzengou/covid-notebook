{
 "cells": [
  {
   "cell_type": "code",
   "execution_count": 2,
   "metadata": {},
   "outputs": [],
   "source": [
    "import pandas as pd\n",
    "import numpy as np\n",
    "import altair as alt\n",
    "import locale\n",
    "\n",
    "# Needed for datasets with more than 5k entries. Does not work in all cloud environments.\n",
    "alt.data_transformers.enable('data_server')\n",
    "\n",
    "# Uncomment these if 'data_server' is not working in your environment\n",
    "# Might result in large notebooks, see https://altair-viz.github.io/user_guide/faq.html#why-does-altair-lead-to-such-extremely-large-notebooks\n",
    "#alt.data_transformers.enable('default') #\n",
    "#alt.data_transformers.disable_max_rows() # Warning: remove this after testing\n",
    "\n",
    "locale.setlocale(locale.LC_ALL, 'sv_SE') # Needed to parse date strings from SCB\n",
    "%config InlineBackend.figure_format = 'retina'"
   ]
  },
  {
   "cell_type": "code",
   "execution_count": 3,
   "metadata": {},
   "outputs": [],
   "source": [
    "location=\"https://scb.se/hitta-statistik/statistik-efter-amne/befolkning/befolkningens-sammansattning/befolkningsstatistik/pong/tabell-och-diagram/preliminar-statistik-over-doda/\"\n",
    "\n",
    "source = pd.read_excel(location, sheet_name=\"Tabell 3\", skiprows=5, header=1, usecols='A:W', na_values=\"..\")\n",
    "source['date'] = pd.to_datetime(source['Unnamed: 0'] + source['Year'].apply(str), format='%d %B%Y', errors='coerce')\n",
    "source.drop(['Unnamed: 0', 'Year'], axis=1, inplace=True)\n",
    "source.drop(source.index[[0,1]], inplace=True)\n",
    "source.drop([850, 851, 852], inplace=True) # Drop summary rows\n",
    "\n",
    "# This should really be done by combining column names with the first row. Brute force will do for now\n",
    "rename_columns = {'Söderman-':'Södermanland', 'Öster-': 'Östergötland', 'Västra': 'Västra Götaland', 'Västman-': 'Västmanland', 'Västernorr-': 'Västernorrland', 'Väster-': 'Västerbotten', 'Norr-': 'Norrbotten'}\n",
    "source.rename(columns=rename_columns, inplace=True)\n",
    "source=source.set_index('date').stack().reset_index()\n",
    "source.rename(columns={'level_1': 'county', 0: 'deaths'}, inplace=True)\n",
    "source.deaths = source.deaths.astype(int)\n",
    "source.county = source.county.astype('category')\n",
    "weekly = source.groupby('county').resample('W', on='date').sum().reset_index()"
   ]
  },
  {
   "cell_type": "code",
   "execution_count": 4,
   "metadata": {},
   "outputs": [
    {
     "output_type": "execute_result",
     "data": {
      "text/html": "\n<div id=\"altair-viz-2e0713d287a94d329fdc783b44ff8658\"></div>\n<script type=\"text/javascript\">\n  (function(spec, embedOpt){\n    let outputDiv = document.currentScript.previousElementSibling;\n    if (outputDiv.id !== \"altair-viz-2e0713d287a94d329fdc783b44ff8658\") {\n      outputDiv = document.getElementById(\"altair-viz-2e0713d287a94d329fdc783b44ff8658\");\n    }\n    const paths = {\n      \"vega\": \"https://cdn.jsdelivr.net/npm//vega@5?noext\",\n      \"vega-lib\": \"https://cdn.jsdelivr.net/npm//vega-lib?noext\",\n      \"vega-lite\": \"https://cdn.jsdelivr.net/npm//vega-lite@4.8.1?noext\",\n      \"vega-embed\": \"https://cdn.jsdelivr.net/npm//vega-embed@6?noext\",\n    };\n\n    function loadScript(lib) {\n      return new Promise(function(resolve, reject) {\n        var s = document.createElement('script');\n        s.src = paths[lib];\n        s.async = true;\n        s.onload = () => resolve(paths[lib]);\n        s.onerror = () => reject(`Error loading script: ${paths[lib]}`);\n        document.getElementsByTagName(\"head\")[0].appendChild(s);\n      });\n    }\n\n    function showError(err) {\n      outputDiv.innerHTML = `<div class=\"error\" style=\"color:red;\">${err}</div>`;\n      throw err;\n    }\n\n    function displayChart(vegaEmbed) {\n      vegaEmbed(outputDiv, spec, embedOpt)\n        .catch(err => showError(`Javascript Error: ${err.message}<br>This usually means there's a typo in your chart specification. See the javascript console for the full traceback.`));\n    }\n\n    if(typeof define === \"function\" && define.amd) {\n      requirejs.config({paths});\n      require([\"vega-embed\"], displayChart, err => showError(`Error loading script: ${err.message}`));\n    } else if (typeof vegaEmbed === \"function\") {\n      displayChart(vegaEmbed);\n    } else {\n      loadScript(\"vega\")\n        .then(() => loadScript(\"vega-lite\"))\n        .then(() => loadScript(\"vega-embed\"))\n        .catch(showError)\n        .then(() => displayChart(vegaEmbed));\n    }\n  })({\"config\": {\"view\": {\"continuousWidth\": 400, \"continuousHeight\": 300}}, \"data\": {\"url\": \"http://localhost:20081/8c2059ff8ada1f6223fcffa87cb60f7f.json\"}, \"mark\": \"bar\", \"encoding\": {\"color\": {\"type\": \"nominal\", \"field\": \"county\"}, \"opacity\": {\"condition\": {\"value\": 1, \"selection\": \"selector001\"}, \"value\": 0.2}, \"x\": {\"type\": \"ordinal\", \"field\": \"date\", \"timeUnit\": \"yearmonthdate\"}, \"y\": {\"type\": \"quantitative\", \"aggregate\": \"sum\", \"field\": \"deaths\"}}, \"height\": 600, \"selection\": {\"selector001\": {\"type\": \"multi\", \"fields\": [\"county\"], \"bind\": \"legend\"}}, \"width\": 800, \"$schema\": \"https://vega.github.io/schema/vega-lite/v4.8.1.json\"}, {\"mode\": \"vega-lite\"});\n</script>",
      "text/plain": "alt.Chart(...)"
     },
     "metadata": {},
     "execution_count": 4
    }
   ],
   "source": [
    "df = weekly\n",
    "\n",
    "selection = alt.selection_multi(fields=['county'], bind='legend')\n",
    "\n",
    "alt.Chart(df, height=600, width=800).mark_bar().encode(\n",
    "    alt.X('yearmonthdate(date):O'),\n",
    "    alt.Y('sum(deaths):Q'),\n",
    "    color='county:N',\n",
    "    opacity=alt.condition(selection, alt.value(1), alt.value(0.2))\n",
    ").add_selection(selection)"
   ]
  },
  {
   "cell_type": "code",
   "execution_count": 18,
   "metadata": {},
   "outputs": [
    {
     "output_type": "execute_result",
     "data": {
      "text/html": "\n<div id=\"altair-viz-63638bf5ff324da2ba4af71ca746ffec\"></div>\n<script type=\"text/javascript\">\n  (function(spec, embedOpt){\n    let outputDiv = document.currentScript.previousElementSibling;\n    if (outputDiv.id !== \"altair-viz-63638bf5ff324da2ba4af71ca746ffec\") {\n      outputDiv = document.getElementById(\"altair-viz-63638bf5ff324da2ba4af71ca746ffec\");\n    }\n    const paths = {\n      \"vega\": \"https://cdn.jsdelivr.net/npm//vega@5?noext\",\n      \"vega-lib\": \"https://cdn.jsdelivr.net/npm//vega-lib?noext\",\n      \"vega-lite\": \"https://cdn.jsdelivr.net/npm//vega-lite@4.8.1?noext\",\n      \"vega-embed\": \"https://cdn.jsdelivr.net/npm//vega-embed@6?noext\",\n    };\n\n    function loadScript(lib) {\n      return new Promise(function(resolve, reject) {\n        var s = document.createElement('script');\n        s.src = paths[lib];\n        s.async = true;\n        s.onload = () => resolve(paths[lib]);\n        s.onerror = () => reject(`Error loading script: ${paths[lib]}`);\n        document.getElementsByTagName(\"head\")[0].appendChild(s);\n      });\n    }\n\n    function showError(err) {\n      outputDiv.innerHTML = `<div class=\"error\" style=\"color:red;\">${err}</div>`;\n      throw err;\n    }\n\n    function displayChart(vegaEmbed) {\n      vegaEmbed(outputDiv, spec, embedOpt)\n        .catch(err => showError(`Javascript Error: ${err.message}<br>This usually means there's a typo in your chart specification. See the javascript console for the full traceback.`));\n    }\n\n    if(typeof define === \"function\" && define.amd) {\n      requirejs.config({paths});\n      require([\"vega-embed\"], displayChart, err => showError(`Error loading script: ${err.message}`));\n    } else if (typeof vegaEmbed === \"function\") {\n      displayChart(vegaEmbed);\n    } else {\n      loadScript(\"vega\")\n        .then(() => loadScript(\"vega-lite\"))\n        .then(() => loadScript(\"vega-embed\"))\n        .catch(showError)\n        .then(() => displayChart(vegaEmbed));\n    }\n  })({\"config\": {\"view\": {\"continuousWidth\": 400, \"continuousHeight\": 300}}, \"hconcat\": [{\"mark\": {\"type\": \"line\", \"interpolate\": \"step-before\", \"point\": true}, \"encoding\": {\"color\": {\"type\": \"nominal\", \"field\": \"county\", \"legend\": null, \"scale\": {\"scheme\": \"category20\"}}, \"tooltip\": [{\"type\": \"nominal\", \"field\": \"county\"}, {\"type\": \"quantitative\", \"field\": \"deaths\"}, {\"type\": \"temporal\", \"field\": \"date\"}], \"x\": {\"type\": \"temporal\", \"field\": \"date\", \"timeUnit\": \"monthdate\"}, \"y\": {\"type\": \"quantitative\", \"field\": \"deaths\"}}, \"height\": 600, \"title\": \"Weekly Deaths in 2020 Compared to Weekly Average for 2018-2019\", \"transform\": [{\"filter\": {\"selection\": \"selector028\"}}, {\"filter\": \"year(datum.date) == 2020 & datetime(datum.date) < datetime(\\\"2020-04-26 00:00:00\\\")\"}], \"width\": 800}, {\"mark\": \"bar\", \"encoding\": {\"color\": {\"condition\": {\"type\": \"nominal\", \"field\": \"county\", \"selection\": \"selector028\"}, \"value\": \"lightgray\"}, \"y\": {\"type\": \"nominal\", \"axis\": {\"orient\": \"right\"}, \"field\": \"county\", \"title\": null}}, \"selection\": {\"selector028\": {\"type\": \"multi\", \"encodings\": [\"color\"]}}}], \"data\": {\"url\": \"http://localhost:20081/8c2059ff8ada1f6223fcffa87cb60f7f.json\"}, \"$schema\": \"https://vega.github.io/schema/vega-lite/v4.8.1.json\"}, {\"mode\": \"vega-lite\"});\n</script>",
      "text/plain": "alt.HConcatChart(...)"
     },
     "metadata": {},
     "execution_count": 18
    }
   ],
   "source": [
    "df = weekly\n",
    "\n",
    "#county_list = ['Skåne', 'Västra Götaland', 'Östergötland', 'Stockholm']\n",
    "#df = df[df['county'].isin(county_list)]\n",
    "\n",
    "# Don't show last week due to lag in reporting\n",
    "last_date_to_show = str(df.date.max() - pd.Timedelta('7d'))\n",
    "current_filter = f'year(datum.date) == 2020 & datetime(datum.date) < datetime(\"{last_date_to_show}\")'\n",
    "\n",
    "click = alt.selection_multi(encodings=['color'])\n",
    "\n",
    "base = alt.Chart(df, height=600, width=800, title=\"Weekly Deaths in 2020 Compared to Weekly Average for 2018-2019\").encode(\n",
    "    color=alt.Color('county', legend=None, scale=alt.Scale(scheme='category20')),\n",
    ").transform_filter(\n",
    "    click\n",
    ")\n",
    "\n",
    "history = base.mark_point(opacity=0.4).encode(\n",
    "    alt.X('monthdate(date)', title='Date'),\n",
    "    y='deaths',\n",
    ").transform_filter(\n",
    "    'year(datum.date) < 2020'\n",
    ")\n",
    "\n",
    "current = base.mark_line(point=True, interpolate='step-before').encode(\n",
    "    x='monthdate(date)',\n",
    "    y='deaths',\n",
    "    tooltip=['county', 'deaths', 'date']\n",
    ").transform_filter(\n",
    "    current_filter\n",
    ")\n",
    "\n",
    "rule = base.mark_rule(opacity=0.5).encode(\n",
    "    y=alt.Y('average(deaths)', title='Deaths'),\n",
    "    size=alt.value(5)\n",
    ").transform_filter(\n",
    "    'year(datum.date) < 2020'\n",
    ")\n",
    "\n",
    "legend = alt.Chart(df).mark_bar().encode(\n",
    "    y=alt.Y('county:N', axis=alt.Axis(orient='right'), title=None),\n",
    "    color=alt.condition(click, 'county', alt.value('lightgray')),\n",
    ").add_selection(\n",
    "    click\n",
    ")\n",
    "\n",
    "chart = history + rule + current | legend\n",
    "chart.save('charts/county.html')\n",
    "chart"
   ]
  },
  {
   "cell_type": "code",
   "execution_count": 12,
   "metadata": {},
   "outputs": [
    {
     "output_type": "execute_result",
     "data": {
      "text/html": "\n<div id=\"altair-viz-4f0d843430b14c558b0072fdf2306071\"></div>\n<script type=\"text/javascript\">\n  (function(spec, embedOpt){\n    let outputDiv = document.currentScript.previousElementSibling;\n    if (outputDiv.id !== \"altair-viz-4f0d843430b14c558b0072fdf2306071\") {\n      outputDiv = document.getElementById(\"altair-viz-4f0d843430b14c558b0072fdf2306071\");\n    }\n    const paths = {\n      \"vega\": \"https://cdn.jsdelivr.net/npm//vega@5?noext\",\n      \"vega-lib\": \"https://cdn.jsdelivr.net/npm//vega-lib?noext\",\n      \"vega-lite\": \"https://cdn.jsdelivr.net/npm//vega-lite@4.8.1?noext\",\n      \"vega-embed\": \"https://cdn.jsdelivr.net/npm//vega-embed@6?noext\",\n    };\n\n    function loadScript(lib) {\n      return new Promise(function(resolve, reject) {\n        var s = document.createElement('script');\n        s.src = paths[lib];\n        s.async = true;\n        s.onload = () => resolve(paths[lib]);\n        s.onerror = () => reject(`Error loading script: ${paths[lib]}`);\n        document.getElementsByTagName(\"head\")[0].appendChild(s);\n      });\n    }\n\n    function showError(err) {\n      outputDiv.innerHTML = `<div class=\"error\" style=\"color:red;\">${err}</div>`;\n      throw err;\n    }\n\n    function displayChart(vegaEmbed) {\n      vegaEmbed(outputDiv, spec, embedOpt)\n        .catch(err => showError(`Javascript Error: ${err.message}<br>This usually means there's a typo in your chart specification. See the javascript console for the full traceback.`));\n    }\n\n    if(typeof define === \"function\" && define.amd) {\n      requirejs.config({paths});\n      require([\"vega-embed\"], displayChart, err => showError(`Error loading script: ${err.message}`));\n    } else if (typeof vegaEmbed === \"function\") {\n      displayChart(vegaEmbed);\n    } else {\n      loadScript(\"vega\")\n        .then(() => loadScript(\"vega-lite\"))\n        .then(() => loadScript(\"vega-embed\"))\n        .catch(showError)\n        .then(() => displayChart(vegaEmbed));\n    }\n  })({\"config\": {\"view\": {\"continuousWidth\": 400, \"continuousHeight\": 300}}, \"layer\": [{\"mark\": {\"type\": \"line\", \"size\": 4}, \"encoding\": {\"color\": {\"type\": \"nominal\", \"field\": \"date\", \"scale\": {\"range\": [\"#d9d9d9\", \"#b9b9b9\", \"#e6550d\"]}, \"timeUnit\": \"year\", \"title\": \"Year\"}, \"x\": {\"type\": \"temporal\", \"field\": \"date\", \"timeUnit\": \"monthdate\"}, \"y\": {\"type\": \"quantitative\", \"field\": \"rolling_mean\"}}, \"height\": 600, \"title\": \"Daily Deaths in Sweden 2018-2020\", \"transform\": [{\"aggregate\": [{\"op\": \"sum\", \"field\": \"deaths\", \"as\": \"sum_deaths\"}], \"groupby\": [\"date\"]}, {\"filter\": \"year(datum.date) == 2018\"}, {\"window\": [{\"op\": \"mean\", \"field\": \"sum_deaths\", \"as\": \"rolling_mean\"}], \"frame\": [-10, 10]}], \"width\": 800}, {\"mark\": {\"type\": \"line\", \"size\": 4}, \"encoding\": {\"color\": {\"type\": \"nominal\", \"field\": \"date\", \"scale\": {\"range\": [\"#d9d9d9\", \"#b9b9b9\", \"#e6550d\"]}, \"timeUnit\": \"year\", \"title\": \"Year\"}, \"x\": {\"type\": \"temporal\", \"field\": \"date\", \"timeUnit\": \"monthdate\"}, \"y\": {\"type\": \"quantitative\", \"field\": \"rolling_mean\"}}, \"height\": 600, \"title\": \"Daily Deaths in Sweden 2018-2020\", \"transform\": [{\"aggregate\": [{\"op\": \"sum\", \"field\": \"deaths\", \"as\": \"sum_deaths\"}], \"groupby\": [\"date\"]}, {\"filter\": \"year(datum.date) == 2019\"}, {\"window\": [{\"op\": \"mean\", \"field\": \"sum_deaths\", \"as\": \"rolling_mean\"}], \"frame\": [-10, 10]}], \"width\": 800}, {\"mark\": \"point\", \"encoding\": {\"color\": {\"type\": \"nominal\", \"field\": \"date\", \"scale\": {\"range\": [\"#d9d9d9\", \"#b9b9b9\", \"#e6550d\"]}, \"timeUnit\": \"year\", \"title\": \"Year\"}, \"x\": {\"type\": \"temporal\", \"field\": \"date\", \"timeUnit\": \"monthdate\"}, \"y\": {\"type\": \"quantitative\", \"field\": \"sum_deaths\"}}, \"height\": 600, \"title\": \"Daily Deaths in Sweden 2018-2020\", \"transform\": [{\"aggregate\": [{\"op\": \"sum\", \"field\": \"deaths\", \"as\": \"sum_deaths\"}], \"groupby\": [\"date\"]}], \"width\": 800}, {\"mark\": {\"type\": \"line\", \"size\": 4}, \"encoding\": {\"color\": {\"type\": \"nominal\", \"field\": \"date\", \"scale\": {\"range\": [\"#d9d9d9\", \"#b9b9b9\", \"#e6550d\"]}, \"timeUnit\": \"year\", \"title\": \"Year\"}, \"x\": {\"type\": \"temporal\", \"field\": \"date\", \"timeUnit\": \"monthdate\"}, \"y\": {\"type\": \"quantitative\", \"field\": \"rolling_mean\"}}, \"height\": 600, \"title\": \"Daily Deaths in Sweden 2018-2020\", \"transform\": [{\"aggregate\": [{\"op\": \"sum\", \"field\": \"deaths\", \"as\": \"sum_deaths\"}], \"groupby\": [\"date\"]}, {\"filter\": \"year(datum.date) == 2020 & datetime(datum.date) < datetime(\\\"2020-04-22 00:00:00\\\")\"}, {\"window\": [{\"op\": \"mean\", \"field\": \"sum_deaths\", \"as\": \"rolling_mean\"}], \"frame\": [-10, 10]}], \"width\": 800}], \"data\": {\"url\": \"http://localhost:20081/56a97ef78d0fd14827d08098d9fd18dc.json\"}, \"$schema\": \"https://vega.github.io/schema/vega-lite/v4.8.1.json\"}, {\"mode\": \"vega-lite\"});\n</script>",
      "text/plain": "alt.LayerChart(...)"
     },
     "metadata": {},
     "execution_count": 12
    }
   ],
   "source": [
    "df=source[source.date.notna()]\n",
    "\n",
    "last_date_for_mean_calculation = str(df.date.max() - pd.Timedelta('7d'))\n",
    "current = f'year(datum.date) == 2020 & datetime(datum.date) < datetime(\"{last_date_for_mean_calculation}\")'\n",
    "history_2019 = 'year(datum.date) == 2019'\n",
    "history_2018 = 'year(datum.date) == 2018'\n",
    "\n",
    "base = alt.Chart(\n",
    "    df,\n",
    "    height=600,\n",
    "    width=800,\n",
    "    title=\"Daily Deaths in Sweden 2018-2020\"\n",
    ").transform_aggregate(\n",
    "    sum_deaths='sum(deaths)',\n",
    "    groupby=['date']\n",
    ").encode(\n",
    "    x='monthdate(date)',\n",
    "    color=alt.Color('year(date):N', title='Year', scale=alt.Scale(range=['#d9d9d9', '#b9b9b9', '#e6550d']))\n",
    ")\n",
    "\n",
    "points = base.mark_point().encode(\n",
    "    y='sum_deaths:Q',\n",
    ")\n",
    "\n",
    "# https://vega.github.io/vega/docs/expressions/#datetime-functions\n",
    "def plot_mean(time_filter):\n",
    "    mean = base.transform_filter(\n",
    "        time_filter\n",
    "    ).transform_window(\n",
    "        rolling_mean='mean(sum_deaths)',\n",
    "        frame=[-10, 10]\n",
    "    ).mark_line(\n",
    "        size=4\n",
    "    ).encode(\n",
    "        y=alt.Y('rolling_mean:Q'),\n",
    "    )\n",
    "\n",
    "    return mean\n",
    "\n",
    "chart = plot_mean(history_2018) + plot_mean(history_2019) + points + plot_mean(current)\n",
    "chart.save('charts/daily-deaths.html')\n",
    "chart"
   ]
  },
  {
   "cell_type": "code",
   "execution_count": 10,
   "metadata": {},
   "outputs": [
    {
     "output_type": "execute_result",
     "data": {
      "text/html": "\n<div id=\"altair-viz-2fec50a4aad049859885b6a92b8e11fb\"></div>\n<script type=\"text/javascript\">\n  (function(spec, embedOpt){\n    let outputDiv = document.currentScript.previousElementSibling;\n    if (outputDiv.id !== \"altair-viz-2fec50a4aad049859885b6a92b8e11fb\") {\n      outputDiv = document.getElementById(\"altair-viz-2fec50a4aad049859885b6a92b8e11fb\");\n    }\n    const paths = {\n      \"vega\": \"https://cdn.jsdelivr.net/npm//vega@5?noext\",\n      \"vega-lib\": \"https://cdn.jsdelivr.net/npm//vega-lib?noext\",\n      \"vega-lite\": \"https://cdn.jsdelivr.net/npm//vega-lite@4.8.1?noext\",\n      \"vega-embed\": \"https://cdn.jsdelivr.net/npm//vega-embed@6?noext\",\n    };\n\n    function loadScript(lib) {\n      return new Promise(function(resolve, reject) {\n        var s = document.createElement('script');\n        s.src = paths[lib];\n        s.async = true;\n        s.onload = () => resolve(paths[lib]);\n        s.onerror = () => reject(`Error loading script: ${paths[lib]}`);\n        document.getElementsByTagName(\"head\")[0].appendChild(s);\n      });\n    }\n\n    function showError(err) {\n      outputDiv.innerHTML = `<div class=\"error\" style=\"color:red;\">${err}</div>`;\n      throw err;\n    }\n\n    function displayChart(vegaEmbed) {\n      vegaEmbed(outputDiv, spec, embedOpt)\n        .catch(err => showError(`Javascript Error: ${err.message}<br>This usually means there's a typo in your chart specification. See the javascript console for the full traceback.`));\n    }\n\n    if(typeof define === \"function\" && define.amd) {\n      requirejs.config({paths});\n      require([\"vega-embed\"], displayChart, err => showError(`Error loading script: ${err.message}`));\n    } else if (typeof vegaEmbed === \"function\") {\n      displayChart(vegaEmbed);\n    } else {\n      loadScript(\"vega\")\n        .then(() => loadScript(\"vega-lite\"))\n        .then(() => loadScript(\"vega-embed\"))\n        .catch(showError)\n        .then(() => displayChart(vegaEmbed));\n    }\n  })({\"config\": {\"view\": {\"continuousWidth\": 400, \"continuousHeight\": 300}}, \"hconcat\": [{\"vconcat\": [{\"mark\": \"bar\", \"encoding\": {\"color\": {\"type\": \"nominal\", \"field\": \"county\", \"legend\": null}, \"opacity\": {\"condition\": {\"value\": 1, \"selection\": \"selector017\"}, \"value\": 0.2}, \"tooltip\": [{\"type\": \"nominal\", \"field\": \"county\"}, {\"type\": \"quantitative\", \"field\": \"deaths\"}, {\"type\": \"temporal\", \"field\": \"date\"}], \"x\": {\"type\": \"ordinal\", \"field\": \"date\", \"timeUnit\": \"yearmonthdate\", \"title\": \"Date\"}, \"y\": {\"type\": \"quantitative\", \"aggregate\": \"sum\", \"field\": \"deaths\", \"title\": \"Weekly Deaths\"}}, \"selection\": {\"selector017\": {\"type\": \"interval\", \"encodings\": [\"x\"]}, \"selector018\": {\"type\": \"interval\", \"bind\": \"scales\", \"encodings\": [\"x\", \"y\"]}}, \"title\": \"Weekly Deaths in Sweden 2018-2020\", \"transform\": [{\"filter\": {\"selection\": \"selector016\"}}], \"width\": 800}, {\"mark\": \"bar\", \"encoding\": {\"color\": {\"type\": \"nominal\", \"field\": \"county\"}, \"opacity\": {\"condition\": {\"value\": 1, \"selection\": \"selector016\"}, \"value\": 0.2}, \"x\": {\"type\": \"quantitative\", \"aggregate\": \"sum\", \"field\": \"deaths\", \"title\": \"Total Deaths During Selected Period\"}, \"y\": {\"type\": \"nominal\", \"field\": \"county\", \"title\": \"\"}}, \"height\": 300, \"selection\": {\"selector016\": {\"type\": \"multi\", \"encodings\": [\"color\"]}}, \"transform\": [{\"filter\": {\"selection\": \"selector017\"}}], \"width\": 800}]}, {\"mark\": \"bar\", \"encoding\": {\"color\": {\"condition\": {\"type\": \"nominal\", \"field\": \"county\", \"selection\": \"selector016\"}, \"value\": \"lightgray\"}, \"y\": {\"type\": \"nominal\", \"axis\": {\"orient\": \"right\"}, \"field\": \"county\", \"title\": null}}, \"height\": 250, \"selection\": {\"selector016\": {\"type\": \"multi\", \"encodings\": [\"color\"]}, \"selector019\": {\"type\": \"interval\", \"bind\": \"scales\", \"encodings\": [\"x\", \"y\"]}}}], \"data\": {\"url\": \"http://localhost:20081/8c2059ff8ada1f6223fcffa87cb60f7f.json\"}, \"$schema\": \"https://vega.github.io/schema/vega-lite/v4.8.1.json\"}, {\"mode\": \"vega-lite\"});\n</script>",
      "text/plain": "alt.HConcatChart(...)"
     },
     "metadata": {},
     "execution_count": 10
    }
   ],
   "source": [
    "df = weekly\n",
    "\n",
    "click = alt.selection_multi(encodings=['color'])\n",
    "brush = alt.selection_interval(encodings=['x'])\n",
    "\n",
    "bars = alt.Chart(\n",
    "    df,\n",
    "    width=800,\n",
    "    title=\"Weekly Deaths in Sweden 2018-2020\"\n",
    ").mark_bar(\n",
    ").encode(\n",
    "    alt.X('yearmonthdate(date):O', title='Date'),\n",
    "    alt.Y('sum(deaths):Q', title=\"Weekly Deaths\"),\n",
    "    color=alt.Color('county:N', legend=None),\n",
    "    opacity=alt.condition(brush, alt.value(1), alt.value(0.2)),\n",
    "    tooltip=['county', 'deaths', 'date'],\n",
    ").add_selection(\n",
    "    brush\n",
    ").transform_filter(\n",
    "    click\n",
    ").interactive()\n",
    "\n",
    "county_list = alt.Chart(\n",
    "    df,\n",
    "    width=800,\n",
    "    height=300\n",
    ").mark_bar(\n",
    ").encode(\n",
    "    x=alt.X('sum(deaths)', title='Total Deaths During Selected Period'),\n",
    "    y=alt.Y('county:N', title=''),\n",
    "    opacity=alt.condition(click, alt.value(1), alt.value(0.2)),\n",
    "    color='county'\n",
    ").add_selection(\n",
    "    click\n",
    ").transform_filter(\n",
    "    brush\n",
    ")\n",
    "\n",
    "legend = alt.Chart(df, height=250).mark_bar().encode(\n",
    "    y=alt.Y('county:N', axis=alt.Axis(orient='right'), title=None),\n",
    "    color=alt.condition(click, 'county', alt.value('lightgray')),\n",
    ").add_selection(\n",
    "    click\n",
    ").interactive()\n",
    "\n",
    "chart = bars & county_list | legend\n",
    "chart.save('charts/weekly-deaths.html')\n",
    "chart"
   ]
  }
 ],
 "metadata": {
  "language_info": {
   "codemirror_mode": {
    "name": "ipython",
    "version": 3
   },
   "file_extension": ".py",
   "mimetype": "text/x-python",
   "name": "python",
   "nbconvert_exporter": "python",
   "pygments_lexer": "ipython3",
   "version": "3.8.0-final"
  },
  "orig_nbformat": 2,
  "kernelspec": {
   "name": "python38064bit380pyenv663c04aa123640ccb340a8745709dbbc",
   "display_name": "Python 3.8.0 64-bit ('3.8.0': pyenv)"
  }
 },
 "nbformat": 4,
 "nbformat_minor": 2
}