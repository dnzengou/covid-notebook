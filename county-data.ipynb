{
 "cells": [
  {
   "cell_type": "code",
   "execution_count": 1,
   "metadata": {},
   "outputs": [],
   "source": [
    "import pandas as pd\n",
    "import numpy as np\n",
    "import altair as alt\n",
    "import locale\n",
    "\n",
    "alt.data_transformers.enable('data_server')\n",
    "\n",
    "#alt.data_transformers.enable('default')\n",
    "#alt.data_transformers.disable_max_rows() # Warning: remove this after testing\n",
    "\n",
    "locale.setlocale(locale.LC_ALL, 'sv_SE')\n",
    "%config InlineBackend.figure_format = 'retina'"
   ]
  },
  {
   "cell_type": "code",
   "execution_count": 22,
   "metadata": {},
   "outputs": [],
   "source": [
    "location=\"https://scb.se/hitta-statistik/statistik-efter-amne/befolkning/befolkningens-sammansattning/befolkningsstatistik/pong/tabell-och-diagram/preliminar-statistik-over-doda/\"\n",
    "\n",
    "source = pd.read_excel(location, sheet_name=\"Tabell 3\", skiprows=5, header=1, usecols='A:W', na_values=\"..\")\n",
    "source['date'] = pd.to_datetime(source['Unnamed: 0'] + source['Year'].apply(str), format='%d %B%Y', errors='coerce')\n",
    "source.drop(['Unnamed: 0', 'Year'], axis=1, inplace=True)\n",
    "source.drop(source.index[[0,1]], inplace=True)\n",
    "source.drop([850, 851, 852], inplace=True) # Drop summary rows\n",
    "\n",
    "# This should really be done by combining column names with the first row. Brute force will do for now\n",
    "rename_columns = {'Söderman-':'Södermanland', 'Öster-': 'Östergötland', 'Västra': 'Västra Götaland', 'Västman-': 'Västmanland', 'Västernorr-': 'Västernorrland', 'Väster-': 'Västerbotten', 'Norr-': 'Norrbotten'}\n",
    "source.rename(columns=rename_columns, inplace=True)\n",
    "source=source.set_index('date').stack().reset_index()\n",
    "source.rename(columns={'level_1': 'county', 0: 'deaths'}, inplace=True)\n",
    "source.deaths = source.deaths.astype(int)\n",
    "source.county = source.county.astype('category')\n",
    "weekly = source.groupby('county').resample('W', on='date').sum().reset_index()"
   ]
  },
  {
   "cell_type": "code",
   "execution_count": 10,
   "metadata": {},
   "outputs": [
    {
     "output_type": "execute_result",
     "data": {
      "text/html": "\n<div id=\"altair-viz-144b8c9157224765aba9fd4ac6e50338\"></div>\n<script type=\"text/javascript\">\n  (function(spec, embedOpt){\n    let outputDiv = document.currentScript.previousElementSibling;\n    if (outputDiv.id !== \"altair-viz-144b8c9157224765aba9fd4ac6e50338\") {\n      outputDiv = document.getElementById(\"altair-viz-144b8c9157224765aba9fd4ac6e50338\");\n    }\n    const paths = {\n      \"vega\": \"https://cdn.jsdelivr.net/npm//vega@5?noext\",\n      \"vega-lib\": \"https://cdn.jsdelivr.net/npm//vega-lib?noext\",\n      \"vega-lite\": \"https://cdn.jsdelivr.net/npm//vega-lite@4.8.1?noext\",\n      \"vega-embed\": \"https://cdn.jsdelivr.net/npm//vega-embed@6?noext\",\n    };\n\n    function loadScript(lib) {\n      return new Promise(function(resolve, reject) {\n        var s = document.createElement('script');\n        s.src = paths[lib];\n        s.async = true;\n        s.onload = () => resolve(paths[lib]);\n        s.onerror = () => reject(`Error loading script: ${paths[lib]}`);\n        document.getElementsByTagName(\"head\")[0].appendChild(s);\n      });\n    }\n\n    function showError(err) {\n      outputDiv.innerHTML = `<div class=\"error\" style=\"color:red;\">${err}</div>`;\n      throw err;\n    }\n\n    function displayChart(vegaEmbed) {\n      vegaEmbed(outputDiv, spec, embedOpt)\n        .catch(err => showError(`Javascript Error: ${err.message}<br>This usually means there's a typo in your chart specification. See the javascript console for the full traceback.`));\n    }\n\n    if(typeof define === \"function\" && define.amd) {\n      requirejs.config({paths});\n      require([\"vega-embed\"], displayChart, err => showError(`Error loading script: ${err.message}`));\n    } else if (typeof vegaEmbed === \"function\") {\n      displayChart(vegaEmbed);\n    } else {\n      loadScript(\"vega\")\n        .then(() => loadScript(\"vega-lite\"))\n        .then(() => loadScript(\"vega-embed\"))\n        .catch(showError)\n        .then(() => displayChart(vegaEmbed));\n    }\n  })({\"config\": {\"view\": {\"continuousWidth\": 400, \"continuousHeight\": 300}}, \"data\": {\"url\": \"http://localhost:22073/c7224f6a926beffcc794732ef17c5680.json\"}, \"mark\": \"bar\", \"encoding\": {\"color\": {\"type\": \"nominal\", \"field\": \"county\"}, \"opacity\": {\"condition\": {\"value\": 1, \"selection\": \"selector003\"}, \"value\": 0.2}, \"x\": {\"type\": \"ordinal\", \"field\": \"date\", \"timeUnit\": \"yearmonthdate\"}, \"y\": {\"type\": \"quantitative\", \"aggregate\": \"sum\", \"field\": \"deaths\"}}, \"height\": 600, \"selection\": {\"selector003\": {\"type\": \"multi\", \"fields\": [\"county\"], \"bind\": \"legend\"}}, \"width\": 800, \"$schema\": \"https://vega.github.io/schema/vega-lite/v4.8.1.json\"}, {\"mode\": \"vega-lite\"});\n</script>",
      "text/plain": "alt.Chart(...)"
     },
     "metadata": {},
     "execution_count": 10
    }
   ],
   "source": [
    "df = weekly\n",
    "\n",
    "selection = alt.selection_multi(fields=['county'], bind='legend')\n",
    "\n",
    "alt.Chart(df, height=600, width=800).mark_bar().encode(\n",
    "    alt.X('yearmonthdate(date):O'),\n",
    "    alt.Y('sum(deaths):Q'),\n",
    "    color='county:N',\n",
    "    opacity=alt.condition(selection, alt.value(1), alt.value(0.2))\n",
    ").add_selection(selection)"
   ]
  },
  {
   "cell_type": "code",
   "execution_count": 8,
   "metadata": {},
   "outputs": [
    {
     "output_type": "execute_result",
     "data": {
      "text/html": "\n<div id=\"altair-viz-8e5ed080bc314249b1468bd6a26588dc\"></div>\n<script type=\"text/javascript\">\n  (function(spec, embedOpt){\n    let outputDiv = document.currentScript.previousElementSibling;\n    if (outputDiv.id !== \"altair-viz-8e5ed080bc314249b1468bd6a26588dc\") {\n      outputDiv = document.getElementById(\"altair-viz-8e5ed080bc314249b1468bd6a26588dc\");\n    }\n    const paths = {\n      \"vega\": \"https://cdn.jsdelivr.net/npm//vega@5?noext\",\n      \"vega-lib\": \"https://cdn.jsdelivr.net/npm//vega-lib?noext\",\n      \"vega-lite\": \"https://cdn.jsdelivr.net/npm//vega-lite@4.8.1?noext\",\n      \"vega-embed\": \"https://cdn.jsdelivr.net/npm//vega-embed@6?noext\",\n    };\n\n    function loadScript(lib) {\n      return new Promise(function(resolve, reject) {\n        var s = document.createElement('script');\n        s.src = paths[lib];\n        s.async = true;\n        s.onload = () => resolve(paths[lib]);\n        s.onerror = () => reject(`Error loading script: ${paths[lib]}`);\n        document.getElementsByTagName(\"head\")[0].appendChild(s);\n      });\n    }\n\n    function showError(err) {\n      outputDiv.innerHTML = `<div class=\"error\" style=\"color:red;\">${err}</div>`;\n      throw err;\n    }\n\n    function displayChart(vegaEmbed) {\n      vegaEmbed(outputDiv, spec, embedOpt)\n        .catch(err => showError(`Javascript Error: ${err.message}<br>This usually means there's a typo in your chart specification. See the javascript console for the full traceback.`));\n    }\n\n    if(typeof define === \"function\" && define.amd) {\n      requirejs.config({paths});\n      require([\"vega-embed\"], displayChart, err => showError(`Error loading script: ${err.message}`));\n    } else if (typeof vegaEmbed === \"function\") {\n      displayChart(vegaEmbed);\n    } else {\n      loadScript(\"vega\")\n        .then(() => loadScript(\"vega-lite\"))\n        .then(() => loadScript(\"vega-embed\"))\n        .catch(showError)\n        .then(() => displayChart(vegaEmbed));\n    }\n  })({\"config\": {\"view\": {\"continuousWidth\": 400, \"continuousHeight\": 300}}, \"layer\": [{\"mark\": {\"type\": \"point\", \"opacity\": 0.4}, \"encoding\": {\"color\": {\"type\": \"nominal\", \"field\": \"county\"}, \"x\": {\"type\": \"temporal\", \"field\": \"date\", \"timeUnit\": \"monthdate\"}, \"y\": {\"type\": \"quantitative\", \"field\": \"deaths\"}}, \"height\": 600, \"title\": \"Weekly Deaths in Selected Counties 2020 compared to weekly average for 2018-2019\", \"transform\": [{\"filter\": \"year(datum.date) < 2020\"}], \"width\": 800}, {\"mark\": {\"type\": \"line\", \"interpolate\": \"step-before\", \"point\": true}, \"encoding\": {\"color\": {\"type\": \"nominal\", \"field\": \"county\"}, \"x\": {\"type\": \"temporal\", \"field\": \"date\", \"timeUnit\": \"monthdate\"}, \"y\": {\"type\": \"quantitative\", \"field\": \"deaths\"}}, \"height\": 600, \"title\": \"Weekly Deaths in Selected Counties 2020 compared to weekly average for 2018-2019\", \"transform\": [{\"filter\": \"year(datum.date) == 2020 & datetime(datum.date) < datetime(\\\"2020-04-19 00:00:00\\\")\"}], \"width\": 800}, {\"mark\": {\"type\": \"rule\", \"opacity\": 0.5}, \"encoding\": {\"color\": {\"type\": \"nominal\", \"field\": \"county\"}, \"size\": {\"value\": 5}, \"y\": {\"type\": \"quantitative\", \"aggregate\": \"average\", \"field\": \"deaths\", \"title\": \"Deaths\"}}, \"height\": 600, \"title\": \"Weekly Deaths in Selected Counties 2020 compared to weekly average for 2018-2019\", \"transform\": [{\"filter\": \"year(datum.date) < 2020\"}], \"width\": 800}], \"data\": {\"url\": \"http://localhost:22073/dfa83112b424020be2349e8cdfa7793a.json\"}, \"$schema\": \"https://vega.github.io/schema/vega-lite/v4.8.1.json\"}, {\"mode\": \"vega-lite\"});\n</script>",
      "text/plain": "alt.LayerChart(...)"
     },
     "metadata": {},
     "execution_count": 8
    }
   ],
   "source": [
    "county_list = ['Skåne', 'Västra Götaland', 'Östergötland', 'Stockholm']\n",
    "\n",
    "df = weekly\n",
    "df = df[df['county'].isin(county_list)]\n",
    "\n",
    "# Don't show last week due to lag in reporting\n",
    "last_date_to_show = str(df.date.max() - pd.Timedelta('7d'))\n",
    "current_filter = f'year(datum.date) == 2020 & datetime(datum.date) < datetime(\"{last_date_to_show}\")'\n",
    "\n",
    "base = alt.Chart(df, height=600, width=800, title=\"Weekly Deaths in Selected Counties 2020 compared to weekly average for 2018-2019\").encode(\n",
    "    color='county',\n",
    ")\n",
    "\n",
    "history = base.mark_point(opacity=0.4).encode(\n",
    "    x='monthdate(date)',\n",
    "    y='deaths',\n",
    ").transform_filter(\n",
    "    'year(datum.date) < 2020'\n",
    ")\n",
    "\n",
    "current = base.mark_line(point=True, interpolate='step-before').encode(\n",
    "    x='monthdate(date)',\n",
    "    y='deaths',\n",
    ").transform_filter(\n",
    "    current_filter\n",
    ")\n",
    "\n",
    "rule = base.mark_rule(opacity=0.5).encode(\n",
    "    y=alt.Y('average(deaths)', title='Deaths'),\n",
    "    size=alt.value(5)\n",
    ").transform_filter(\n",
    "    'year(datum.date) < 2020'\n",
    ")\n",
    "\n",
    "history + current + rule"
   ]
  },
  {
   "cell_type": "code",
   "execution_count": 23,
   "metadata": {},
   "outputs": [
    {
     "output_type": "execute_result",
     "data": {
      "text/html": "\n<div id=\"altair-viz-01293cbbd03d43af874ea3fa9fd80737\"></div>\n<script type=\"text/javascript\">\n  (function(spec, embedOpt){\n    let outputDiv = document.currentScript.previousElementSibling;\n    if (outputDiv.id !== \"altair-viz-01293cbbd03d43af874ea3fa9fd80737\") {\n      outputDiv = document.getElementById(\"altair-viz-01293cbbd03d43af874ea3fa9fd80737\");\n    }\n    const paths = {\n      \"vega\": \"https://cdn.jsdelivr.net/npm//vega@5?noext\",\n      \"vega-lib\": \"https://cdn.jsdelivr.net/npm//vega-lib?noext\",\n      \"vega-lite\": \"https://cdn.jsdelivr.net/npm//vega-lite@4.8.1?noext\",\n      \"vega-embed\": \"https://cdn.jsdelivr.net/npm//vega-embed@6?noext\",\n    };\n\n    function loadScript(lib) {\n      return new Promise(function(resolve, reject) {\n        var s = document.createElement('script');\n        s.src = paths[lib];\n        s.async = true;\n        s.onload = () => resolve(paths[lib]);\n        s.onerror = () => reject(`Error loading script: ${paths[lib]}`);\n        document.getElementsByTagName(\"head\")[0].appendChild(s);\n      });\n    }\n\n    function showError(err) {\n      outputDiv.innerHTML = `<div class=\"error\" style=\"color:red;\">${err}</div>`;\n      throw err;\n    }\n\n    function displayChart(vegaEmbed) {\n      vegaEmbed(outputDiv, spec, embedOpt)\n        .catch(err => showError(`Javascript Error: ${err.message}<br>This usually means there's a typo in your chart specification. See the javascript console for the full traceback.`));\n    }\n\n    if(typeof define === \"function\" && define.amd) {\n      requirejs.config({paths});\n      require([\"vega-embed\"], displayChart, err => showError(`Error loading script: ${err.message}`));\n    } else if (typeof vegaEmbed === \"function\") {\n      displayChart(vegaEmbed);\n    } else {\n      loadScript(\"vega\")\n        .then(() => loadScript(\"vega-lite\"))\n        .then(() => loadScript(\"vega-embed\"))\n        .catch(showError)\n        .then(() => displayChart(vegaEmbed));\n    }\n  })({\"config\": {\"view\": {\"continuousWidth\": 400, \"continuousHeight\": 300}}, \"layer\": [{\"mark\": {\"type\": \"line\", \"size\": 4}, \"encoding\": {\"color\": {\"type\": \"nominal\", \"field\": \"date\", \"scale\": {\"range\": [\"#d9d9d9\", \"#b9b9b9\", \"#e6550d\"]}, \"timeUnit\": \"year\", \"title\": \"Year\"}, \"x\": {\"type\": \"temporal\", \"field\": \"date\", \"timeUnit\": \"monthdate\"}, \"y\": {\"type\": \"quantitative\", \"field\": \"rolling_mean\"}}, \"height\": 600, \"title\": \"Daily Deaths in Sweden 2018-2020\", \"transform\": [{\"aggregate\": [{\"op\": \"sum\", \"field\": \"deaths\", \"as\": \"sum_deaths\"}], \"groupby\": [\"date\"]}, {\"filter\": \"year(datum.date) == 2018\"}, {\"window\": [{\"op\": \"mean\", \"field\": \"sum_deaths\", \"as\": \"rolling_mean\"}], \"frame\": [-10, 10]}], \"width\": 800}, {\"mark\": {\"type\": \"line\", \"size\": 4}, \"encoding\": {\"color\": {\"type\": \"nominal\", \"field\": \"date\", \"scale\": {\"range\": [\"#d9d9d9\", \"#b9b9b9\", \"#e6550d\"]}, \"timeUnit\": \"year\", \"title\": \"Year\"}, \"x\": {\"type\": \"temporal\", \"field\": \"date\", \"timeUnit\": \"monthdate\"}, \"y\": {\"type\": \"quantitative\", \"field\": \"rolling_mean\"}}, \"height\": 600, \"title\": \"Daily Deaths in Sweden 2018-2020\", \"transform\": [{\"aggregate\": [{\"op\": \"sum\", \"field\": \"deaths\", \"as\": \"sum_deaths\"}], \"groupby\": [\"date\"]}, {\"filter\": \"year(datum.date) == 2019\"}, {\"window\": [{\"op\": \"mean\", \"field\": \"sum_deaths\", \"as\": \"rolling_mean\"}], \"frame\": [-10, 10]}], \"width\": 800}, {\"mark\": \"point\", \"encoding\": {\"color\": {\"type\": \"nominal\", \"field\": \"date\", \"scale\": {\"range\": [\"#d9d9d9\", \"#b9b9b9\", \"#e6550d\"]}, \"timeUnit\": \"year\", \"title\": \"Year\"}, \"x\": {\"type\": \"temporal\", \"field\": \"date\", \"timeUnit\": \"monthdate\"}, \"y\": {\"type\": \"quantitative\", \"field\": \"sum_deaths\"}}, \"height\": 600, \"title\": \"Daily Deaths in Sweden 2018-2020\", \"transform\": [{\"aggregate\": [{\"op\": \"sum\", \"field\": \"deaths\", \"as\": \"sum_deaths\"}], \"groupby\": [\"date\"]}], \"width\": 800}, {\"mark\": {\"type\": \"line\", \"size\": 4}, \"encoding\": {\"color\": {\"type\": \"nominal\", \"field\": \"date\", \"scale\": {\"range\": [\"#d9d9d9\", \"#b9b9b9\", \"#e6550d\"]}, \"timeUnit\": \"year\", \"title\": \"Year\"}, \"x\": {\"type\": \"temporal\", \"field\": \"date\", \"timeUnit\": \"monthdate\"}, \"y\": {\"type\": \"quantitative\", \"field\": \"rolling_mean\"}}, \"height\": 600, \"title\": \"Daily Deaths in Sweden 2018-2020\", \"transform\": [{\"aggregate\": [{\"op\": \"sum\", \"field\": \"deaths\", \"as\": \"sum_deaths\"}], \"groupby\": [\"date\"]}, {\"filter\": \"year(datum.date) == 2020 & datetime(datum.date) < datetime(\\\"2020-04-17 00:00:00\\\")\"}, {\"window\": [{\"op\": \"mean\", \"field\": \"sum_deaths\", \"as\": \"rolling_mean\"}], \"frame\": [-10, 10]}], \"width\": 800}], \"data\": {\"url\": \"http://localhost:22073/ec1a86ef208db519c3de1b484b759044.json\"}, \"$schema\": \"https://vega.github.io/schema/vega-lite/v4.8.1.json\"}, {\"mode\": \"vega-lite\"});\n</script>",
      "text/plain": "alt.LayerChart(...)"
     },
     "metadata": {},
     "execution_count": 23
    }
   ],
   "source": [
    "df=source[source.date.notna()]\n",
    "\n",
    "last_date_for_mean_calculation = str(df.date.max() - pd.Timedelta('7d'))\n",
    "current = f'year(datum.date) == 2020 & datetime(datum.date) < datetime(\"{last_date_for_mean_calculation}\")'\n",
    "history_2019 = 'year(datum.date) == 2019'\n",
    "history_2018 = 'year(datum.date) == 2018'\n",
    "\n",
    "base = alt.Chart(\n",
    "    df,\n",
    "    height=600,\n",
    "    width=800,\n",
    "    title=\"Daily Deaths in Sweden 2018-2020\"\n",
    ").transform_aggregate(\n",
    "    sum_deaths='sum(deaths)',\n",
    "    groupby=['date']\n",
    ").encode(\n",
    "    x='monthdate(date)',\n",
    "    color=alt.Color('year(date):N', title='Year', scale=alt.Scale(range=['#d9d9d9', '#b9b9b9', '#e6550d']))\n",
    ")\n",
    "\n",
    "points = base.mark_point().encode(\n",
    "    y='sum_deaths:Q',\n",
    ")\n",
    "\n",
    "# https://vega.github.io/vega/docs/expressions/#datetime-functions\n",
    "def plot_mean(time_filter):\n",
    "    mean = base.transform_filter(\n",
    "        time_filter\n",
    "    ).transform_window(\n",
    "        rolling_mean='mean(sum_deaths)',\n",
    "        frame=[-10, 10]\n",
    "    ).mark_line(\n",
    "        size=4\n",
    "    ).encode(\n",
    "        y=alt.Y('rolling_mean:Q'),\n",
    "    )\n",
    "\n",
    "    return mean\n",
    "\n",
    "plot_mean(history_2018) + plot_mean(history_2019) + points + plot_mean(current)"
   ]
  },
  {
   "cell_type": "code",
   "execution_count": 30,
   "metadata": {},
   "outputs": [
    {
     "output_type": "execute_result",
     "data": {
      "text/html": "\n<div id=\"altair-viz-e3b717af98be4ca480a892ff55b06d23\"></div>\n<script type=\"text/javascript\">\n  (function(spec, embedOpt){\n    let outputDiv = document.currentScript.previousElementSibling;\n    if (outputDiv.id !== \"altair-viz-e3b717af98be4ca480a892ff55b06d23\") {\n      outputDiv = document.getElementById(\"altair-viz-e3b717af98be4ca480a892ff55b06d23\");\n    }\n    const paths = {\n      \"vega\": \"https://cdn.jsdelivr.net/npm//vega@5?noext\",\n      \"vega-lib\": \"https://cdn.jsdelivr.net/npm//vega-lib?noext\",\n      \"vega-lite\": \"https://cdn.jsdelivr.net/npm//vega-lite@4.8.1?noext\",\n      \"vega-embed\": \"https://cdn.jsdelivr.net/npm//vega-embed@6?noext\",\n    };\n\n    function loadScript(lib) {\n      return new Promise(function(resolve, reject) {\n        var s = document.createElement('script');\n        s.src = paths[lib];\n        s.async = true;\n        s.onload = () => resolve(paths[lib]);\n        s.onerror = () => reject(`Error loading script: ${paths[lib]}`);\n        document.getElementsByTagName(\"head\")[0].appendChild(s);\n      });\n    }\n\n    function showError(err) {\n      outputDiv.innerHTML = `<div class=\"error\" style=\"color:red;\">${err}</div>`;\n      throw err;\n    }\n\n    function displayChart(vegaEmbed) {\n      vegaEmbed(outputDiv, spec, embedOpt)\n        .catch(err => showError(`Javascript Error: ${err.message}<br>This usually means there's a typo in your chart specification. See the javascript console for the full traceback.`));\n    }\n\n    if(typeof define === \"function\" && define.amd) {\n      requirejs.config({paths});\n      require([\"vega-embed\"], displayChart, err => showError(`Error loading script: ${err.message}`));\n    } else if (typeof vegaEmbed === \"function\") {\n      displayChart(vegaEmbed);\n    } else {\n      loadScript(\"vega\")\n        .then(() => loadScript(\"vega-lite\"))\n        .then(() => loadScript(\"vega-embed\"))\n        .catch(showError)\n        .then(() => displayChart(vegaEmbed));\n    }\n  })({\"config\": {\"view\": {\"continuousWidth\": 400, \"continuousHeight\": 300}}, \"vconcat\": [{\"mark\": \"point\", \"encoding\": {\"color\": {\"condition\": {\"type\": \"nominal\", \"field\": \"weather\", \"scale\": {\"domain\": [\"sun\", \"fog\", \"drizzle\", \"rain\", \"snow\"], \"range\": [\"#e7ba52\", \"#a7a7a7\", \"#aec7e8\", \"#1f77b4\", \"#9467bd\"]}, \"selection\": \"selector027\"}, \"value\": \"lightgray\"}, \"size\": {\"type\": \"quantitative\", \"field\": \"precipitation\", \"scale\": {\"range\": [5, 200]}}, \"x\": {\"type\": \"temporal\", \"field\": \"date\", \"timeUnit\": \"monthdate\", \"title\": \"Date\"}, \"y\": {\"type\": \"quantitative\", \"field\": \"temp_max\", \"scale\": {\"domain\": [-5, 40]}, \"title\": \"Maximum Daily Temperature (C)\"}}, \"height\": 300, \"selection\": {\"selector027\": {\"type\": \"interval\", \"encodings\": [\"x\"]}}, \"transform\": [{\"filter\": {\"selection\": \"selector028\"}}], \"width\": 550}, {\"mark\": \"bar\", \"encoding\": {\"color\": {\"condition\": {\"type\": \"nominal\", \"field\": \"weather\", \"scale\": {\"domain\": [\"sun\", \"fog\", \"drizzle\", \"rain\", \"snow\"], \"range\": [\"#e7ba52\", \"#a7a7a7\", \"#aec7e8\", \"#1f77b4\", \"#9467bd\"]}, \"selection\": \"selector028\"}, \"value\": \"lightgray\"}, \"x\": {\"type\": \"quantitative\", \"aggregate\": \"count\"}, \"y\": {\"type\": \"nominal\", \"field\": \"weather\"}}, \"selection\": {\"selector028\": {\"type\": \"multi\", \"encodings\": [\"color\"]}}, \"transform\": [{\"filter\": {\"selection\": \"selector027\"}}], \"width\": 550}], \"data\": {\"url\": \"http://localhost:22073/92d65da3909aacfa42d765e4b9e1637b.json\"}, \"title\": \"Seattle Weather: 2012-2015\", \"$schema\": \"https://vega.github.io/schema/vega-lite/v4.8.1.json\"}, {\"mode\": \"vega-lite\"});\n</script>",
      "text/plain": "alt.VConcatChart(...)"
     },
     "metadata": {},
     "execution_count": 30
    }
   ],
   "source": [
    "import altair as alt\n",
    "from vega_datasets import data\n",
    "\n",
    "source = data.seattle_weather()\n",
    "\n",
    "scale = alt.Scale(domain=['sun', 'fog', 'drizzle', 'rain', 'snow'],\n",
    "                  range=['#e7ba52', '#a7a7a7', '#aec7e8', '#1f77b4', '#9467bd'])\n",
    "color = alt.Color('weather:N', scale=scale)\n",
    "\n",
    "# We create two selections:\n",
    "# - a brush that is active on the top panel\n",
    "# - a multi-click that is active on the bottom panel\n",
    "brush = alt.selection_interval(encodings=['x'])\n",
    "click = alt.selection_multi(encodings=['color'])\n",
    "\n",
    "# Top panel is scatter plot of temperature vs time\n",
    "points = alt.Chart(source).mark_point().encode(\n",
    "    alt.X('monthdate(date):T', title='Date'),\n",
    "    alt.Y('temp_max:Q',\n",
    "        title='Maximum Daily Temperature (C)',\n",
    "        scale=alt.Scale(domain=[-5, 40])\n",
    "    ),\n",
    "    color=alt.condition(brush, color, alt.value('lightgray')),\n",
    "    size=alt.Size('precipitation:Q', scale=alt.Scale(range=[5, 200]))\n",
    ").properties(\n",
    "    width=550,\n",
    "    height=300\n",
    ").add_selection(\n",
    "    brush\n",
    ").transform_filter(\n",
    "    click\n",
    ")\n",
    "\n",
    "# Bottom panel is a bar chart of weather type\n",
    "bars = alt.Chart(source).mark_bar().encode(\n",
    "    x='count()',\n",
    "    y='weather:N',\n",
    "    color=alt.condition(click, color, alt.value('lightgray')),\n",
    ").transform_filter(\n",
    "    brush\n",
    ").properties(\n",
    "    width=550,\n",
    ").add_selection(\n",
    "    click\n",
    ")\n",
    "\n",
    "alt.vconcat(\n",
    "    points,\n",
    "    bars,\n",
    "    data=source,\n",
    "    title=\"Seattle Weather: 2012-2015\"\n",
    ")"
   ]
  },
  {
   "cell_type": "code",
   "execution_count": 41,
   "metadata": {},
   "outputs": [
    {
     "output_type": "execute_result",
     "data": {
      "text/html": "\n<div id=\"altair-viz-8c3255db4ed14e7991ae93c1b76d885f\"></div>\n<script type=\"text/javascript\">\n  (function(spec, embedOpt){\n    let outputDiv = document.currentScript.previousElementSibling;\n    if (outputDiv.id !== \"altair-viz-8c3255db4ed14e7991ae93c1b76d885f\") {\n      outputDiv = document.getElementById(\"altair-viz-8c3255db4ed14e7991ae93c1b76d885f\");\n    }\n    const paths = {\n      \"vega\": \"https://cdn.jsdelivr.net/npm//vega@5?noext\",\n      \"vega-lib\": \"https://cdn.jsdelivr.net/npm//vega-lib?noext\",\n      \"vega-lite\": \"https://cdn.jsdelivr.net/npm//vega-lite@4.8.1?noext\",\n      \"vega-embed\": \"https://cdn.jsdelivr.net/npm//vega-embed@6?noext\",\n    };\n\n    function loadScript(lib) {\n      return new Promise(function(resolve, reject) {\n        var s = document.createElement('script');\n        s.src = paths[lib];\n        s.async = true;\n        s.onload = () => resolve(paths[lib]);\n        s.onerror = () => reject(`Error loading script: ${paths[lib]}`);\n        document.getElementsByTagName(\"head\")[0].appendChild(s);\n      });\n    }\n\n    function showError(err) {\n      outputDiv.innerHTML = `<div class=\"error\" style=\"color:red;\">${err}</div>`;\n      throw err;\n    }\n\n    function displayChart(vegaEmbed) {\n      vegaEmbed(outputDiv, spec, embedOpt)\n        .catch(err => showError(`Javascript Error: ${err.message}<br>This usually means there's a typo in your chart specification. See the javascript console for the full traceback.`));\n    }\n\n    if(typeof define === \"function\" && define.amd) {\n      requirejs.config({paths});\n      require([\"vega-embed\"], displayChart, err => showError(`Error loading script: ${err.message}`));\n    } else if (typeof vegaEmbed === \"function\") {\n      displayChart(vegaEmbed);\n    } else {\n      loadScript(\"vega\")\n        .then(() => loadScript(\"vega-lite\"))\n        .then(() => loadScript(\"vega-embed\"))\n        .catch(showError)\n        .then(() => displayChart(vegaEmbed));\n    }\n  })({\"config\": {\"view\": {\"continuousWidth\": 400, \"continuousHeight\": 300}}, \"data\": {\"url\": \"http://localhost:22073/c7224f6a926beffcc794732ef17c5680.json\"}, \"mark\": \"bar\", \"encoding\": {\"color\": {\"type\": \"nominal\", \"field\": \"county\"}, \"opacity\": {\"condition\": {\"value\": 1, \"selection\": \"selector036\"}, \"value\": 0.2}, \"x\": {\"type\": \"ordinal\", \"field\": \"date\", \"timeUnit\": \"yearmonthdate\"}, \"y\": {\"type\": \"quantitative\", \"aggregate\": \"sum\", \"field\": \"deaths\"}}, \"height\": 600, \"selection\": {\"selector036\": {\"type\": \"multi\", \"fields\": [\"county\"], \"bind\": \"legend\"}}, \"transform\": [{\"filter\": {\"selection\": \"selector036\"}}], \"width\": 800, \"$schema\": \"https://vega.github.io/schema/vega-lite/v4.8.1.json\"}, {\"mode\": \"vega-lite\"});\n</script>",
      "text/plain": "alt.Chart(...)"
     },
     "metadata": {},
     "execution_count": 41
    }
   ],
   "source": [
    "df = weekly\n",
    "\n",
    "selection = alt.selection_multi(fields=['county'], bind='legend')\n",
    "\n",
    "bars = alt.Chart(df, height=600, width=800).mark_bar().encode(\n",
    "    alt.X('yearmonthdate(date):O'),\n",
    "    alt.Y('sum(deaths):Q'),\n",
    "    color='county:N',\n",
    "    opacity=alt.condition(selection, alt.value(1), alt.value(0.2))\n",
    ").add_selection(selection).transform_filter(selection)\n",
    "\n",
    "bars"
   ]
  },
  {
   "cell_type": "code",
   "execution_count": 71,
   "metadata": {},
   "outputs": [
    {
     "output_type": "execute_result",
     "data": {
      "text/html": "\n<div id=\"altair-viz-21066f4f84fb4bf887b652e491000783\"></div>\n<script type=\"text/javascript\">\n  (function(spec, embedOpt){\n    let outputDiv = document.currentScript.previousElementSibling;\n    if (outputDiv.id !== \"altair-viz-21066f4f84fb4bf887b652e491000783\") {\n      outputDiv = document.getElementById(\"altair-viz-21066f4f84fb4bf887b652e491000783\");\n    }\n    const paths = {\n      \"vega\": \"https://cdn.jsdelivr.net/npm//vega@5?noext\",\n      \"vega-lib\": \"https://cdn.jsdelivr.net/npm//vega-lib?noext\",\n      \"vega-lite\": \"https://cdn.jsdelivr.net/npm//vega-lite@4.8.1?noext\",\n      \"vega-embed\": \"https://cdn.jsdelivr.net/npm//vega-embed@6?noext\",\n    };\n\n    function loadScript(lib) {\n      return new Promise(function(resolve, reject) {\n        var s = document.createElement('script');\n        s.src = paths[lib];\n        s.async = true;\n        s.onload = () => resolve(paths[lib]);\n        s.onerror = () => reject(`Error loading script: ${paths[lib]}`);\n        document.getElementsByTagName(\"head\")[0].appendChild(s);\n      });\n    }\n\n    function showError(err) {\n      outputDiv.innerHTML = `<div class=\"error\" style=\"color:red;\">${err}</div>`;\n      throw err;\n    }\n\n    function displayChart(vegaEmbed) {\n      vegaEmbed(outputDiv, spec, embedOpt)\n        .catch(err => showError(`Javascript Error: ${err.message}<br>This usually means there's a typo in your chart specification. See the javascript console for the full traceback.`));\n    }\n\n    if(typeof define === \"function\" && define.amd) {\n      requirejs.config({paths});\n      require([\"vega-embed\"], displayChart, err => showError(`Error loading script: ${err.message}`));\n    } else if (typeof vegaEmbed === \"function\") {\n      displayChart(vegaEmbed);\n    } else {\n      loadScript(\"vega\")\n        .then(() => loadScript(\"vega-lite\"))\n        .then(() => loadScript(\"vega-embed\"))\n        .catch(showError)\n        .then(() => displayChart(vegaEmbed));\n    }\n  })({\"config\": {\"view\": {\"continuousWidth\": 400, \"continuousHeight\": 300}}, \"vconcat\": [{\"mark\": \"bar\", \"encoding\": {\"color\": {\"type\": \"nominal\", \"field\": \"county\"}, \"tooltip\": [{\"type\": \"nominal\", \"field\": \"county\"}, {\"type\": \"quantitative\", \"field\": \"deaths\"}], \"x\": {\"type\": \"ordinal\", \"field\": \"date\", \"timeUnit\": \"yearmonthdate\"}, \"y\": {\"type\": \"quantitative\", \"aggregate\": \"sum\", \"field\": \"deaths\"}}, \"selection\": {\"selector080\": {\"type\": \"multi\", \"encodings\": [\"color\"]}, \"selector081\": {\"type\": \"interval\", \"bind\": \"scales\", \"encodings\": [\"x\", \"y\"]}}, \"transform\": [{\"filter\": {\"selection\": \"selector080\"}}], \"width\": 800}, {\"mark\": \"bar\", \"encoding\": {\"color\": {\"type\": \"nominal\", \"field\": \"county\"}, \"opacity\": {\"condition\": {\"value\": 1, \"selection\": \"selector080\"}, \"value\": 0.2}, \"x\": {\"type\": \"quantitative\", \"aggregate\": \"sum\", \"field\": \"deaths\"}, \"y\": {\"type\": \"nominal\", \"field\": \"county\"}}, \"height\": 300, \"selection\": {\"selector080\": {\"type\": \"multi\", \"encodings\": [\"color\"]}}, \"width\": 800}], \"data\": {\"url\": \"http://localhost:22073/c7224f6a926beffcc794732ef17c5680.json\"}, \"title\": \"Weekly Deaths in Sweden 2018-2020\", \"$schema\": \"https://vega.github.io/schema/vega-lite/v4.8.1.json\"}, {\"mode\": \"vega-lite\"});\n</script>",
      "text/plain": "alt.VConcatChart(...)"
     },
     "metadata": {},
     "execution_count": 71
    }
   ],
   "source": [
    "click = alt.selection_multi(encodings=['color'])\n",
    "\n",
    "bars = alt.Chart(width=800).mark_bar().encode(\n",
    "    alt.X('yearmonthdate(date):O'),\n",
    "    alt.Y('sum(deaths):Q'),\n",
    "    color='county:N',\n",
    "    tooltip=['county', 'deaths']\n",
    ").add_selection(click).transform_filter(click).interactive()\n",
    "\n",
    "county_list = alt.Chart(width=800, height=300).mark_bar().encode(\n",
    "    x='sum(deaths)',\n",
    "    y='county:N',\n",
    "    opacity=alt.condition(click, alt.value(1), alt.value(0.2)),\n",
    "    color='county'\n",
    ").add_selection(\n",
    "    click\n",
    ")\n",
    "\n",
    "alt.vconcat(\n",
    "    bars,\n",
    "    county_list,\n",
    "    data=df,\n",
    "    title=\"Weekly Deaths in Sweden 2018-2020\"\n",
    ")"
   ]
  }
 ],
 "metadata": {
  "language_info": {
   "codemirror_mode": {
    "name": "ipython",
    "version": 3
   },
   "file_extension": ".py",
   "mimetype": "text/x-python",
   "name": "python",
   "nbconvert_exporter": "python",
   "pygments_lexer": "ipython3",
   "version": "3.8.0-final"
  },
  "orig_nbformat": 2,
  "kernelspec": {
   "name": "python38064bit380pyenv663c04aa123640ccb340a8745709dbbc",
   "display_name": "Python 3.8.0 64-bit ('3.8.0': pyenv)"
  }
 },
 "nbformat": 4,
 "nbformat_minor": 2
}