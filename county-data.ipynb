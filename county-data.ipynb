{
 "cells": [
  {
   "cell_type": "code",
   "execution_count": 2,
   "metadata": {},
   "outputs": [],
   "source": [
    "import pandas as pd\n",
    "import numpy as np\n",
    "import altair as alt\n",
    "import locale\n",
    "\n",
    "alt.data_transformers.enable('data_server')\n",
    "\n",
    "#alt.data_transformers.enable('default')\n",
    "#alt.data_transformers.disable_max_rows() # Warning: remove this after testing\n",
    "\n",
    "locale.setlocale(locale.LC_ALL, 'sv_SE')\n",
    "%config InlineBackend.figure_format = 'retina'"
   ]
  },
  {
   "cell_type": "code",
   "execution_count": 3,
   "metadata": {},
   "outputs": [],
   "source": [
    "location=\"https://scb.se/hitta-statistik/statistik-efter-amne/befolkning/befolkningens-sammansattning/befolkningsstatistik/pong/tabell-och-diagram/preliminar-statistik-over-doda/\"\n",
    "#location=\"/Users/niklas/Downloads/2020-04-24---preliminar-statistik-over-doda-inkl-eng.xlsx\" ## Work with local copy, remove before commiting to github\n",
    "\n",
    "data = pd.read_excel(location, sheet_name=\"Tabell 3\", skiprows=5, header=1, usecols='A:W', na_values=\"..\")\n",
    "data['date'] = pd.to_datetime(data['Unnamed: 0'] + data['Year'].apply(str), format='%d %B%Y', errors='coerce')\n",
    "data.drop(['Unnamed: 0', 'Year'], axis=1, inplace=True)\n",
    "data.drop(data.index[[0,1]], inplace=True)\n",
    "data.drop([850, 851, 852], inplace=True) # Drop summary rows\n",
    "\n",
    "# This should really be done by combining column names with the first row. Brute force will do for now\n",
    "rename_columns = {'Söderman-':'Södermanland', 'Öster-': 'Östergötland', 'Västra': 'Västra Götaland', 'Västman-': 'Västmanland', 'Västernorr-': 'Västernorrland', 'Väster-': 'Västerbotten', 'Norr-': 'Norrbotten'}\n",
    "data.rename(columns=rename_columns, inplace=True)\n",
    "data=data.set_index('date').stack().reset_index()\n",
    "data.rename(columns={'level_1': 'county', 0: 'deaths'}, inplace=True)\n",
    "data.deaths = data.deaths.astype(int)\n",
    "data.county = data.county.astype('category')"
   ]
  },
  {
   "cell_type": "code",
   "execution_count": 6,
   "metadata": {},
   "outputs": [
    {
     "output_type": "execute_result",
     "data": {
      "text/html": "\n<div id=\"altair-viz-496244e88cb9470aa4e13f3ddff7e31e\"></div>\n<script type=\"text/javascript\">\n  (function(spec, embedOpt){\n    let outputDiv = document.currentScript.previousElementSibling;\n    if (outputDiv.id !== \"altair-viz-496244e88cb9470aa4e13f3ddff7e31e\") {\n      outputDiv = document.getElementById(\"altair-viz-496244e88cb9470aa4e13f3ddff7e31e\");\n    }\n    const paths = {\n      \"vega\": \"https://cdn.jsdelivr.net/npm//vega@5?noext\",\n      \"vega-lib\": \"https://cdn.jsdelivr.net/npm//vega-lib?noext\",\n      \"vega-lite\": \"https://cdn.jsdelivr.net/npm//vega-lite@4.8.1?noext\",\n      \"vega-embed\": \"https://cdn.jsdelivr.net/npm//vega-embed@6?noext\",\n    };\n\n    function loadScript(lib) {\n      return new Promise(function(resolve, reject) {\n        var s = document.createElement('script');\n        s.src = paths[lib];\n        s.async = true;\n        s.onload = () => resolve(paths[lib]);\n        s.onerror = () => reject(`Error loading script: ${paths[lib]}`);\n        document.getElementsByTagName(\"head\")[0].appendChild(s);\n      });\n    }\n\n    function showError(err) {\n      outputDiv.innerHTML = `<div class=\"error\" style=\"color:red;\">${err}</div>`;\n      throw err;\n    }\n\n    function displayChart(vegaEmbed) {\n      vegaEmbed(outputDiv, spec, embedOpt)\n        .catch(err => showError(`Javascript Error: ${err.message}<br>This usually means there's a typo in your chart specification. See the javascript console for the full traceback.`));\n    }\n\n    if(typeof define === \"function\" && define.amd) {\n      requirejs.config({paths});\n      require([\"vega-embed\"], displayChart, err => showError(`Error loading script: ${err.message}`));\n    } else if (typeof vegaEmbed === \"function\") {\n      displayChart(vegaEmbed);\n    } else {\n      loadScript(\"vega\")\n        .then(() => loadScript(\"vega-lite\"))\n        .then(() => loadScript(\"vega-embed\"))\n        .catch(showError)\n        .then(() => displayChart(vegaEmbed));\n    }\n  })({\"config\": {\"view\": {\"continuousWidth\": 400, \"continuousHeight\": 300}}, \"data\": {\"url\": \"http://localhost:15115/ec1a86ef208db519c3de1b484b759044.json\"}, \"mark\": \"area\", \"encoding\": {\"color\": {\"type\": \"nominal\", \"field\": \"county\"}, \"row\": {\"type\": \"temporal\", \"field\": \"date\", \"timeUnit\": \"year\"}, \"x\": {\"type\": \"temporal\", \"field\": \"date\", \"timeUnit\": \"monthdate\"}, \"y\": {\"type\": \"quantitative\", \"aggregate\": \"sum\", \"field\": \"deaths\"}}, \"height\": 300, \"width\": 800, \"$schema\": \"https://vega.github.io/schema/vega-lite/v4.8.1.json\"}, {\"mode\": \"vega-lite\"});\n</script>",
      "text/plain": "alt.Chart(...)"
     },
     "metadata": {},
     "execution_count": 6
    }
   ],
   "source": [
    "df = data[data.date.notna()]\n",
    "\n",
    "alt.Chart(df, height=300, width=800).mark_area().encode(\n",
    "#    alt.X='monthdate(date)',\n",
    "    alt.X('monthdate(date):T'),\n",
    "    y='sum(deaths)',\n",
    "    color='county:N',\n",
    "    row='year(date)'\n",
    ")"
   ]
  },
  {
   "cell_type": "code",
   "execution_count": 7,
   "metadata": {},
   "outputs": [
    {
     "output_type": "execute_result",
     "data": {
      "text/html": "\n<div id=\"altair-viz-bacfce18369943e7893514a04123e0c5\"></div>\n<script type=\"text/javascript\">\n  (function(spec, embedOpt){\n    let outputDiv = document.currentScript.previousElementSibling;\n    if (outputDiv.id !== \"altair-viz-bacfce18369943e7893514a04123e0c5\") {\n      outputDiv = document.getElementById(\"altair-viz-bacfce18369943e7893514a04123e0c5\");\n    }\n    const paths = {\n      \"vega\": \"https://cdn.jsdelivr.net/npm//vega@5?noext\",\n      \"vega-lib\": \"https://cdn.jsdelivr.net/npm//vega-lib?noext\",\n      \"vega-lite\": \"https://cdn.jsdelivr.net/npm//vega-lite@4.8.1?noext\",\n      \"vega-embed\": \"https://cdn.jsdelivr.net/npm//vega-embed@6?noext\",\n    };\n\n    function loadScript(lib) {\n      return new Promise(function(resolve, reject) {\n        var s = document.createElement('script');\n        s.src = paths[lib];\n        s.async = true;\n        s.onload = () => resolve(paths[lib]);\n        s.onerror = () => reject(`Error loading script: ${paths[lib]}`);\n        document.getElementsByTagName(\"head\")[0].appendChild(s);\n      });\n    }\n\n    function showError(err) {\n      outputDiv.innerHTML = `<div class=\"error\" style=\"color:red;\">${err}</div>`;\n      throw err;\n    }\n\n    function displayChart(vegaEmbed) {\n      vegaEmbed(outputDiv, spec, embedOpt)\n        .catch(err => showError(`Javascript Error: ${err.message}<br>This usually means there's a typo in your chart specification. See the javascript console for the full traceback.`));\n    }\n\n    if(typeof define === \"function\" && define.amd) {\n      requirejs.config({paths});\n      require([\"vega-embed\"], displayChart, err => showError(`Error loading script: ${err.message}`));\n    } else if (typeof vegaEmbed === \"function\") {\n      displayChart(vegaEmbed);\n    } else {\n      loadScript(\"vega\")\n        .then(() => loadScript(\"vega-lite\"))\n        .then(() => loadScript(\"vega-embed\"))\n        .catch(showError)\n        .then(() => displayChart(vegaEmbed));\n    }\n  })({\"config\": {\"view\": {\"continuousWidth\": 400, \"continuousHeight\": 300}}, \"layer\": [{\"data\": {\"url\": \"http://localhost:15115/11199492bf35879aec4881eb3ea6a127.json\"}, \"mark\": {\"type\": \"point\", \"opacity\": 0.3, \"size\": 15}, \"encoding\": {\"color\": {\"type\": \"nominal\", \"field\": \"county\"}, \"x\": {\"type\": \"temporal\", \"field\": \"date\", \"timeUnit\": \"monthdate\"}, \"y\": {\"type\": \"quantitative\", \"field\": \"deaths\"}}, \"height\": 600, \"width\": 800}, {\"data\": {\"url\": \"http://localhost:15115/ead029e75b7a821dc6e0173664b6c501.json\"}, \"mark\": \"line\", \"encoding\": {\"color\": {\"type\": \"nominal\", \"field\": \"county\"}, \"x\": {\"type\": \"temporal\", \"field\": \"date\", \"timeUnit\": \"monthdate\"}, \"y\": {\"type\": \"quantitative\", \"field\": \"deaths\"}}}], \"$schema\": \"https://vega.github.io/schema/vega-lite/v4.8.1.json\"}, {\"mode\": \"vega-lite\"});\n</script>",
      "text/plain": "alt.LayerChart(...)"
     },
     "metadata": {},
     "execution_count": 7
    }
   ],
   "source": [
    "county_list = ['Skåne', 'Stockholm', 'Västra Götaland', 'Norrbotten']\n",
    "\n",
    "df = data[data['date'] > '2010-01-01']\n",
    "df = df[df['county'].isin(county_list)]\n",
    "\n",
    "df_history = df[df['date'] < '2020-01-01']\n",
    "df_current = df[df['date'] >= '2020-01-01']\n",
    "df_current = df_current[df_current['date'] < '2020-04-15']\n",
    "\n",
    "history = alt.Chart(df_history, height=600, width=800).mark_point(opacity=0.3, size=15).encode(\n",
    "    x=alt.X('monthdate(date)'),\n",
    "    y=alt.Y('deaths'),\n",
    "    color='county',\n",
    ")\n",
    "\n",
    "current = alt.Chart(df_current).mark_line().encode(\n",
    "    x=alt.X('monthdate(date)'),\n",
    "    y=alt.Y('deaths'),\n",
    "    color='county',\n",
    ")\n",
    "\n",
    "history + current"
   ]
  },
  {
   "cell_type": "code",
   "execution_count": 201,
   "metadata": {},
   "outputs": [
    {
     "output_type": "execute_result",
     "data": {
      "text/html": "\n<div id=\"altair-viz-631023e36a394f8aa88957117f7f6d4b\"></div>\n<script type=\"text/javascript\">\n  (function(spec, embedOpt){\n    let outputDiv = document.currentScript.previousElementSibling;\n    if (outputDiv.id !== \"altair-viz-631023e36a394f8aa88957117f7f6d4b\") {\n      outputDiv = document.getElementById(\"altair-viz-631023e36a394f8aa88957117f7f6d4b\");\n    }\n    const paths = {\n      \"vega\": \"https://cdn.jsdelivr.net/npm//vega@5?noext\",\n      \"vega-lib\": \"https://cdn.jsdelivr.net/npm//vega-lib?noext\",\n      \"vega-lite\": \"https://cdn.jsdelivr.net/npm//vega-lite@4.8.1?noext\",\n      \"vega-embed\": \"https://cdn.jsdelivr.net/npm//vega-embed@6?noext\",\n    };\n\n    function loadScript(lib) {\n      return new Promise(function(resolve, reject) {\n        var s = document.createElement('script');\n        s.src = paths[lib];\n        s.async = true;\n        s.onload = () => resolve(paths[lib]);\n        s.onerror = () => reject(`Error loading script: ${paths[lib]}`);\n        document.getElementsByTagName(\"head\")[0].appendChild(s);\n      });\n    }\n\n    function showError(err) {\n      outputDiv.innerHTML = `<div class=\"error\" style=\"color:red;\">${err}</div>`;\n      throw err;\n    }\n\n    function displayChart(vegaEmbed) {\n      vegaEmbed(outputDiv, spec, embedOpt)\n        .catch(err => showError(`Javascript Error: ${err.message}<br>This usually means there's a typo in your chart specification. See the javascript console for the full traceback.`));\n    }\n\n    if(typeof define === \"function\" && define.amd) {\n      requirejs.config({paths});\n      require([\"vega-embed\"], displayChart, err => showError(`Error loading script: ${err.message}`));\n    } else if (typeof vegaEmbed === \"function\") {\n      displayChart(vegaEmbed);\n    } else {\n      loadScript(\"vega\")\n        .then(() => loadScript(\"vega-lite\"))\n        .then(() => loadScript(\"vega-embed\"))\n        .catch(showError)\n        .then(() => displayChart(vegaEmbed));\n    }\n  })({\"config\": {\"view\": {\"continuousWidth\": 400, \"continuousHeight\": 300}}, \"layer\": [{\"mark\": \"point\", \"encoding\": {\"color\": {\"type\": \"nominal\", \"field\": \"date\", \"scale\": {\"range\": [\"#d9d9d9\", \"#b9b9b9\", \"#e6550d\"]}, \"timeUnit\": \"year\", \"title\": \"Year\"}, \"x\": {\"type\": \"temporal\", \"field\": \"date\", \"timeUnit\": \"monthdate\"}, \"y\": {\"type\": \"quantitative\", \"field\": \"sum_deaths\"}}, \"height\": 600, \"title\": \"Daily Deaths in Sweden 2018-2020\", \"transform\": [{\"aggregate\": [{\"op\": \"sum\", \"field\": \"deaths\", \"as\": \"sum_deaths\"}], \"groupby\": [\"date\"]}], \"width\": 800}, {\"mark\": {\"type\": \"line\", \"size\": 4}, \"encoding\": {\"color\": {\"type\": \"nominal\", \"field\": \"date\", \"scale\": {\"range\": [\"#d9d9d9\", \"#b9b9b9\", \"#e6550d\"]}, \"timeUnit\": \"year\", \"title\": \"Year\"}, \"x\": {\"type\": \"temporal\", \"field\": \"date\", \"timeUnit\": \"monthdate\"}, \"y\": {\"type\": \"quantitative\", \"field\": \"rolling_mean\"}}, \"height\": 600, \"title\": \"Daily Deaths in Sweden 2018-2020\", \"transform\": [{\"aggregate\": [{\"op\": \"sum\", \"field\": \"deaths\", \"as\": \"sum_deaths\"}], \"groupby\": [\"date\"]}, {\"filter\": \"year(datum.date) < 2020\"}, {\"window\": [{\"op\": \"mean\", \"field\": \"sum_deaths\", \"as\": \"rolling_mean\"}], \"frame\": [-10, 10]}], \"width\": 800}, {\"mark\": {\"type\": \"line\", \"size\": 4}, \"encoding\": {\"color\": {\"type\": \"nominal\", \"field\": \"date\", \"scale\": {\"range\": [\"#d9d9d9\", \"#b9b9b9\", \"#e6550d\"]}, \"timeUnit\": \"year\", \"title\": \"Year\"}, \"x\": {\"type\": \"temporal\", \"field\": \"date\", \"timeUnit\": \"monthdate\"}, \"y\": {\"type\": \"quantitative\", \"field\": \"rolling_mean\"}}, \"height\": 600, \"title\": \"Daily Deaths in Sweden 2018-2020\", \"transform\": [{\"aggregate\": [{\"op\": \"sum\", \"field\": \"deaths\", \"as\": \"sum_deaths\"}], \"groupby\": [\"date\"]}, {\"filter\": \"year(datum.date) == 2020 & datetime(datum.date) < datetime(\\\"2020-04-17 00:00:00\\\")\"}, {\"window\": [{\"op\": \"mean\", \"field\": \"sum_deaths\", \"as\": \"rolling_mean\"}], \"frame\": [-10, 10]}], \"width\": 800}], \"data\": {\"url\": \"http://localhost:15115/ec1a86ef208db519c3de1b484b759044.json\"}, \"$schema\": \"https://vega.github.io/schema/vega-lite/v4.8.1.json\"}, {\"mode\": \"vega-lite\"});\n</script>",
      "text/plain": "alt.LayerChart(...)"
     },
     "metadata": {},
     "execution_count": 201
    }
   ],
   "source": [
    "df = data[data.date.notna()]\n",
    "\n",
    "last_date_for_mean_calculation = str(df.date.max() - pd.Timedelta('7d'))\n",
    "current = f'year(datum.date) == 2020 & datetime(datum.date) < datetime(\"{last_date_for_mean_calculation}\")'\n",
    "history = 'year(datum.date) < 2020'\n",
    "\n",
    "base = alt.Chart(\n",
    "    df,\n",
    "    height=600,\n",
    "    width=800,\n",
    "    title=\"Daily Deaths in Sweden 2018-2020\"\n",
    ").transform_aggregate(\n",
    "    sum_deaths='sum(deaths)',\n",
    "    groupby=['date']\n",
    ").mark_point().encode(\n",
    "    x='monthdate(date)',\n",
    "    color=alt.Color('year(date):N', title='Year', scale=alt.Scale(range=['#d9d9d9', '#b9b9b9', '#e6550d']))\n",
    ")\n",
    "\n",
    "points = base.encode(\n",
    "    y='sum_deaths:Q',\n",
    ")\n",
    "\n",
    "# https://vega.github.io/vega/docs/expressions/#datetime-functions\n",
    "def plot_mean(time_filter):\n",
    "    mean = base.transform_filter(\n",
    "        time_filter\n",
    "    ).transform_window(\n",
    "        rolling_mean='mean(sum_deaths)',\n",
    "        frame=[-10, 10]\n",
    "    ).mark_line(\n",
    "        size=4\n",
    "    ).encode(\n",
    "        y=alt.Y('rolling_mean:Q'),\n",
    "    )\n",
    "\n",
    "    return mean\n",
    "\n",
    "points + plot_mean(history) + plot_mean(current)"
   ]
  }
 ],
 "metadata": {
  "language_info": {
   "codemirror_mode": {
    "name": "ipython",
    "version": 3
   },
   "file_extension": ".py",
   "mimetype": "text/x-python",
   "name": "python",
   "nbconvert_exporter": "python",
   "pygments_lexer": "ipython3",
   "version": "3.8.0-final"
  },
  "orig_nbformat": 2,
  "kernelspec": {
   "name": "python38064bit380pyenv663c04aa123640ccb340a8745709dbbc",
   "display_name": "Python 3.8.0 64-bit ('3.8.0': pyenv)"
  }
 },
 "nbformat": 4,
 "nbformat_minor": 2
}