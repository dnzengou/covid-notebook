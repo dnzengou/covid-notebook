{
 "cells": [
  {
   "cell_type": "code",
   "execution_count": 4,
   "metadata": {},
   "outputs": [],
   "source": [
    "import datetime as dt\n",
    "import string\n",
    "from functools import wraps\n",
    "\n",
    "import altair as alt\n",
    "import altair_morberg.core as morberg\n",
    "import pandas as pd\n",
    "\n",
    "alt.themes.register(\"morberg_theme\", morberg.theme)\n",
    "alt.themes.enable(\"morberg_theme\")\n",
    "\n",
    "%load_ext lab_black"
   ]
  },
  {
   "cell_type": "code",
   "execution_count": 2,
   "metadata": {},
   "outputs": [],
   "source": [
    "fhm_data, labels = dataimport.get_lag_data()\n",
    "local_url = 'data/fhm.json'\n",
    "fhm_data.to_json(local_url, orient='records')\n",
    "url = \"https://raw.githubusercontent.com/morberg/covid-notebook/master/data/fhm.json\""
   ]
  },
  {
   "cell_type": "code",
   "execution_count": 15,
   "metadata": {},
   "outputs": [],
   "source": []
  },
  {
   "cell_type": "code",
   "execution_count": 109,
   "metadata": {},
   "outputs": [],
   "source": [
    "# Functions for processing cases data\n",
    "\n",
    "def log_step(func):\n",
    "    @wraps(func)\n",
    "    def wrapper(*args, **kwargs):\n",
    "        tic = dt.datetime.now()\n",
    "        result = func(*args, **kwargs)\n",
    "        time_taken = str(dt.datetime.now() - tic)\n",
    "        print(f\"{func.__name__} shape={result.shape} took {time_taken}s\")\n",
    "        return result\n",
    "\n",
    "    return wrapper\n",
    "\n",
    "\n",
    "@log_step\n",
    "def start_pipeline(dataf):\n",
    "    return dataf.copy()\n",
    "\n",
    "\n",
    "@log_step\n",
    "def remove_columns(dataf):\n",
    "    return dataf.drop(columns=\"Totalt_antal_fall\")\n",
    "\n",
    "\n",
    "@log_step\n",
    "def to_long_format(dataf):\n",
    "    return dataf.melt(id_vars=\"Statistikdatum\", var_name=\"Län\", value_name=\"Fall\")\n",
    "\n",
    "\n",
    "@log_step\n",
    "def add_week_numbers(dataf):\n",
    "    dataf[\"Vecka\"] = dataf.Statistikdatum.dt.week\n",
    "    return dataf"
   ]
  },
  {
   "cell_type": "code",
   "execution_count": 115,
   "metadata": {},
   "outputs": [
    {
     "name": "stdout",
     "output_type": "stream",
     "text": [
      "start_pipeline shape=(311, 23) took 0:00:00.000110s\n",
      "remove_columns shape=(311, 22) took 0:00:00.000522s\n",
      "to_long_format shape=(6531, 3) took 0:00:00.002107s\n",
      "add_week_numbers shape=(6531, 4) took 0:00:00.000770s\n"
     ]
    }
   ],
   "source": [
    "# Data from FHM for number of cases\n",
    "input_excel = \"https://www.arcgis.com/sharing/rest/content/items/b5e7488e117749c19881cce45db13f7e/data\"\n",
    "df = pd.read_excel(input_excel)\n",
    "\n",
    "cases = (\n",
    "    df.pipe(start_pipeline)\n",
    "    .pipe(remove_columns)\n",
    "    .pipe(to_long_format)\n",
    "    .pipe(add_week_numbers)\n",
    ")\n",
    "\n",
    "local_cases_url = \"data/cases.json\"\n",
    "cases.to_json(local_cases_url, orient=\"records\")\n",
    "cases_url = (\n",
    "    \"https://raw.githubusercontent.com/morberg/covid-notebook/master/data/cases.json\"\n",
    ")"
   ]
  },
  {
   "cell_type": "code",
   "execution_count": 127,
   "metadata": {},
   "outputs": [
    {
     "data": {
      "text/html": [
       "\n",
       "<div id=\"altair-viz-45582c95944e434f9a5056954ec8c697\"></div>\n",
       "<script type=\"text/javascript\">\n",
       "  (function(spec, embedOpt){\n",
       "    let outputDiv = document.currentScript.previousElementSibling;\n",
       "    if (outputDiv.id !== \"altair-viz-45582c95944e434f9a5056954ec8c697\") {\n",
       "      outputDiv = document.getElementById(\"altair-viz-45582c95944e434f9a5056954ec8c697\");\n",
       "    }\n",
       "    const paths = {\n",
       "      \"vega\": \"https://cdn.jsdelivr.net/npm//vega@5?noext\",\n",
       "      \"vega-lib\": \"https://cdn.jsdelivr.net/npm//vega-lib?noext\",\n",
       "      \"vega-lite\": \"https://cdn.jsdelivr.net/npm//vega-lite@4.8.1?noext\",\n",
       "      \"vega-embed\": \"https://cdn.jsdelivr.net/npm//vega-embed@6?noext\",\n",
       "    };\n",
       "\n",
       "    function loadScript(lib) {\n",
       "      return new Promise(function(resolve, reject) {\n",
       "        var s = document.createElement('script');\n",
       "        s.src = paths[lib];\n",
       "        s.async = true;\n",
       "        s.onload = () => resolve(paths[lib]);\n",
       "        s.onerror = () => reject(`Error loading script: ${paths[lib]}`);\n",
       "        document.getElementsByTagName(\"head\")[0].appendChild(s);\n",
       "      });\n",
       "    }\n",
       "\n",
       "    function showError(err) {\n",
       "      outputDiv.innerHTML = `<div class=\"error\" style=\"color:red;\">${err}</div>`;\n",
       "      throw err;\n",
       "    }\n",
       "\n",
       "    function displayChart(vegaEmbed) {\n",
       "      vegaEmbed(outputDiv, spec, embedOpt)\n",
       "        .catch(err => showError(`Javascript Error: ${err.message}<br>This usually means there's a typo in your chart specification. See the javascript console for the full traceback.`));\n",
       "    }\n",
       "\n",
       "    if(typeof define === \"function\" && define.amd) {\n",
       "      requirejs.config({paths});\n",
       "      require([\"vega-embed\"], displayChart, err => showError(`Error loading script: ${err.message}`));\n",
       "    } else if (typeof vegaEmbed === \"function\") {\n",
       "      displayChart(vegaEmbed);\n",
       "    } else {\n",
       "      loadScript(\"vega\")\n",
       "        .then(() => loadScript(\"vega-lite\"))\n",
       "        .then(() => loadScript(\"vega-embed\"))\n",
       "        .catch(showError)\n",
       "        .then(() => displayChart(vegaEmbed));\n",
       "    }\n",
       "  })({\"config\": {\"axis\": {\"labelFontSize\": 12, \"labelColor\": \"#666\", \"titleFontSize\": 14, \"titleFontWeight\": \"normal\", \"titleColor\": \"#666\"}, \"axisX\": {\"grid\": false, \"gridWidth\": 0.4}, \"axisY\": {\"gridDash\": [3], \"gridWidth\": 0.4}, \"legend\": {\"titleFontSize\": 14, \"titleFontWeight\": \"normal\", \"titleColor\": \"#666\", \"labelColor\": \"#666\", \"labelFontSize\": 13}, \"font\": \"Avenir Next, sans-serif\", \"header\": {\"labelFontSize\": 14, \"labelColor\": \"#666\", \"titleFontSize\": 16, \"titleFontWeight\": \"normal\", \"titleColor\": \"#666\"}, \"headerRow\": {\"labelFontSize\": 14, \"labelColor\": \"#666\"}, \"title\": {\"anchor\": \"start\", \"frame\": \"group\", \"offset\": 10, \"fontSize\": 24, \"font\": \"Avenir Next Demi Bold\"}, \"view\": {\"strokeWidth\": 0, \"continuousWidth\": 600, \"continuousHeight\": 400}}, \"data\": {\"url\": \"https://raw.githubusercontent.com/morberg/covid-notebook/master/data/cases.json\"}, \"mark\": \"bar\", \"encoding\": {\"color\": {\"type\": \"nominal\", \"field\": \"Statistikdatum\", \"legend\": {\"orient\": \"top-left\"}, \"sort\": [\"Mon\", \"Tue\", \"Wed\", \"Thu\", \"Fri\", \"Sat\", \"Sun\"], \"timeUnit\": \"day\", \"title\": \"Day reported\"}, \"order\": {\"type\": \"nominal\", \"field\": \"Statistikdatum\"}, \"tooltip\": [{\"type\": \"quantitative\", \"aggregate\": \"sum\", \"field\": \"Fall\", \"title\": \"Number of Cases\"}, {\"type\": \"temporal\", \"field\": \"Statistikdatum\", \"title\": \"Date reported\"}], \"x\": {\"type\": \"ordinal\", \"field\": \"Vecka\", \"title\": null}, \"y\": {\"type\": \"quantitative\", \"aggregate\": \"sum\", \"axis\": {\"offset\": 10, \"orient\": \"right\", \"title\": null}, \"field\": \"Fall\"}}, \"title\": {\"text\": \"Weekly Covid-19 Cases in Sweden\", \"subtitle\": \"Updated on Thursday, December 10\"}, \"width\": 700, \"$schema\": \"https://vega.github.io/schema/vega-lite/v4.8.1.json\"}, {\"mode\": \"vega-lite\"});\n",
       "</script>"
      ],
      "text/plain": [
       "alt.Chart(...)"
      ]
     },
     "execution_count": 127,
     "metadata": {},
     "output_type": "execute_result"
    }
   ],
   "source": [
    "week_order = [\"Mon\", \"Tue\", \"Wed\", \"Thu\", \"Fri\", \"Sat\", \"Sun\"]\n",
    "\n",
    "alt.Chart(\n",
    "    cases_url,\n",
    "    title={\n",
    "        \"text\": \"Weekly Covid-19 Cases in Sweden\",\n",
    "        \"subtitle\": f\"Updated on {cases.Statistikdatum.max().date():%A, %B %d}\",\n",
    "    },\n",
    "    width=700,\n",
    ").mark_bar().encode(\n",
    "    x=alt.X(\"Vecka:O\", title=None),\n",
    "    y=alt.Y(\"sum(Fall):Q\", axis=alt.Axis(title=None, orient=\"right\", offset=10),),\n",
    "    order=alt.Order(\"Statistikdatum:N\"),\n",
    "    color=alt.Color(\n",
    "        \"day(Statistikdatum):N\",\n",
    "        title=\"Day reported\",\n",
    "        sort=week_order,\n",
    "        legend=alt.Legend(orient=\"top-left\"),\n",
    "    ),\n",
    "    tooltip=[\n",
    "        alt.Tooltip(\"sum(Fall):Q\", title=\"Number of Cases\"),\n",
    "        alt.Tooltip(\"Statistikdatum:T\", title=\"Date reported\"),\n",
    "    ],\n",
    ")"
   ]
  },
  {
   "cell_type": "markdown",
   "metadata": {},
   "source": [
    "# Work in progress\n",
    "\n",
    "Experimental stuff"
   ]
  },
  {
   "cell_type": "code",
   "execution_count": 4,
   "metadata": {},
   "outputs": [
    {
     "data": {
      "text/html": [
       "\n",
       "<div id=\"altair-viz-1d614bf1b9b744aea1da2f46c4fb7fed\"></div>\n",
       "<script type=\"text/javascript\">\n",
       "  (function(spec, embedOpt){\n",
       "    let outputDiv = document.currentScript.previousElementSibling;\n",
       "    if (outputDiv.id !== \"altair-viz-1d614bf1b9b744aea1da2f46c4fb7fed\") {\n",
       "      outputDiv = document.getElementById(\"altair-viz-1d614bf1b9b744aea1da2f46c4fb7fed\");\n",
       "    }\n",
       "    const paths = {\n",
       "      \"vega\": \"https://cdn.jsdelivr.net/npm//vega@5?noext\",\n",
       "      \"vega-lib\": \"https://cdn.jsdelivr.net/npm//vega-lib?noext\",\n",
       "      \"vega-lite\": \"https://cdn.jsdelivr.net/npm//vega-lite@4.8.1?noext\",\n",
       "      \"vega-embed\": \"https://cdn.jsdelivr.net/npm//vega-embed@6?noext\",\n",
       "    };\n",
       "\n",
       "    function loadScript(lib) {\n",
       "      return new Promise(function(resolve, reject) {\n",
       "        var s = document.createElement('script');\n",
       "        s.src = paths[lib];\n",
       "        s.async = true;\n",
       "        s.onload = () => resolve(paths[lib]);\n",
       "        s.onerror = () => reject(`Error loading script: ${paths[lib]}`);\n",
       "        document.getElementsByTagName(\"head\")[0].appendChild(s);\n",
       "      });\n",
       "    }\n",
       "\n",
       "    function showError(err) {\n",
       "      outputDiv.innerHTML = `<div class=\"error\" style=\"color:red;\">${err}</div>`;\n",
       "      throw err;\n",
       "    }\n",
       "\n",
       "    function displayChart(vegaEmbed) {\n",
       "      vegaEmbed(outputDiv, spec, embedOpt)\n",
       "        .catch(err => showError(`Javascript Error: ${err.message}<br>This usually means there's a typo in your chart specification. See the javascript console for the full traceback.`));\n",
       "    }\n",
       "\n",
       "    if(typeof define === \"function\" && define.amd) {\n",
       "      requirejs.config({paths});\n",
       "      require([\"vega-embed\"], displayChart, err => showError(`Error loading script: ${err.message}`));\n",
       "    } else if (typeof vegaEmbed === \"function\") {\n",
       "      displayChart(vegaEmbed);\n",
       "    } else {\n",
       "      loadScript(\"vega\")\n",
       "        .then(() => loadScript(\"vega-lite\"))\n",
       "        .then(() => loadScript(\"vega-embed\"))\n",
       "        .catch(showError)\n",
       "        .then(() => displayChart(vegaEmbed));\n",
       "    }\n",
       "  })({\"config\": {\"view\": {\"continuousWidth\": 400, \"continuousHeight\": 300}}, \"data\": {\"name\": \"data-cab1f3cc8473909989df089acd01f69d\"}, \"mark\": \"trail\", \"encoding\": {\"size\": {\"type\": \"quantitative\", \"field\": \"n_diff\", \"title\": \"Reported Deaths\"}, \"x\": {\"type\": \"temporal\", \"field\": \"publication_date\", \"title\": \"Publication Date\"}, \"y\": {\"type\": \"quantitative\", \"field\": \"average_lag\", \"title\": \"Daily Average Reporting Lag\"}}, \"title\": \"Average Reporting Lag\", \"width\": 600, \"$schema\": \"https://vega.github.io/schema/vega-lite/v4.8.1.json\", \"datasets\": {\"data-cab1f3cc8473909989df089acd01f69d\": [{\"publication_date\": \"2020-04-03T00:00:00\", \"n_diff\": 48.0, \"average_lag\": 3.5}, {\"publication_date\": \"2020-04-04T00:00:00\", \"n_diff\": 37.0, \"average_lag\": 1.2162162162162162}, {\"publication_date\": \"2020-04-05T00:00:00\", \"n_diff\": 26.0, \"average_lag\": 3.269230769230769}, {\"publication_date\": \"2020-04-06T00:00:00\", \"n_diff\": 73.0, \"average_lag\": 2.4794520547945207}, {\"publication_date\": \"2020-04-07T00:00:00\", \"n_diff\": 117.0, \"average_lag\": 3.5213675213675213}, {\"publication_date\": \"2020-04-08T00:00:00\", \"n_diff\": 89.0, \"average_lag\": 2.730337078651685}, {\"publication_date\": \"2020-04-09T00:00:00\", \"n_diff\": 118.0, \"average_lag\": 3.9661016949152543}, {\"publication_date\": \"2020-04-10T00:00:00\", \"n_diff\": 76.0, \"average_lag\": 3.210526315789474}, {\"publication_date\": \"2020-04-11T00:00:00\", \"n_diff\": 17.0, \"average_lag\": 1.9411764705882353}, {\"publication_date\": \"2020-04-12T00:00:00\", \"n_diff\": 12.0, \"average_lag\": 1.0833333333333333}, {\"publication_date\": \"2020-04-13T00:00:00\", \"n_diff\": 20.0, \"average_lag\": 1.8}, {\"publication_date\": \"2020-04-14T00:00:00\", \"n_diff\": 112.0, \"average_lag\": 3.8392857142857144}, {\"publication_date\": \"2020-04-15T00:00:00\", \"n_diff\": 167.0, \"average_lag\": 4.095808383233533}, {\"publication_date\": \"2020-04-16T00:00:00\", \"n_diff\": 130.0, \"average_lag\": 3.8384615384615386}, {\"publication_date\": \"2020-04-17T00:00:00\", \"n_diff\": 68.0, \"average_lag\": 4.279411764705882}, {\"publication_date\": \"2020-04-18T00:00:00\", \"n_diff\": 109.0, \"average_lag\": 5.394495412844036}, {\"publication_date\": \"2020-04-19T00:00:00\", \"n_diff\": 29.0, \"average_lag\": 6.172413793103448}, {\"publication_date\": \"2020-04-20T00:00:00\", \"n_diff\": 39.0, \"average_lag\": 2.076923076923077}, {\"publication_date\": \"2020-04-21T00:00:00\", \"n_diff\": 186.0, \"average_lag\": 5.360215053763441}, {\"publication_date\": \"2020-04-22T00:00:00\", \"n_diff\": 173.0, \"average_lag\": 6.497109826589595}, {\"publication_date\": \"2020-04-23T00:00:00\", \"n_diff\": 87.0, \"average_lag\": 5.149425287356322}, {\"publication_date\": \"2020-04-24T00:00:00\", \"n_diff\": 129.0, \"average_lag\": 4.077519379844961}, {\"publication_date\": \"2020-04-25T00:00:00\", \"n_diff\": 37.0, \"average_lag\": 3.0}, {\"publication_date\": \"2020-04-26T00:00:00\", \"n_diff\": 2.0, \"average_lag\": 3.0}, {\"publication_date\": \"2020-04-27T00:00:00\", \"n_diff\": 79.0, \"average_lag\": 3.329113924050633}, {\"publication_date\": \"2020-04-28T00:00:00\", \"n_diff\": 84.0, \"average_lag\": 3.8452380952380953}, {\"publication_date\": \"2020-04-29T00:00:00\", \"n_diff\": 112.0, \"average_lag\": 6.455357142857143}, {\"publication_date\": \"2020-04-30T00:00:00\", \"n_diff\": 127.0, \"average_lag\": 4.937007874015748}, {\"publication_date\": \"2020-05-01T00:00:00\", \"n_diff\": 67.0, \"average_lag\": 4.462686567164179}, {\"publication_date\": \"2020-05-02T00:00:00\", \"n_diff\": 16.0, \"average_lag\": 1.875}, {\"publication_date\": \"2020-05-03T00:00:00\", \"n_diff\": 11.0, \"average_lag\": 2.8181818181818183}, {\"publication_date\": \"2020-05-04T00:00:00\", \"n_diff\": 91.0, \"average_lag\": 5.010989010989011}, {\"publication_date\": \"2020-05-05T00:00:00\", \"n_diff\": 85.0, \"average_lag\": 3.9529411764705884}, {\"publication_date\": \"2020-05-06T00:00:00\", \"n_diff\": 90.0, \"average_lag\": 5.711111111111111}, {\"publication_date\": \"2020-05-07T00:00:00\", \"n_diff\": 99.0, \"average_lag\": 4.595959595959596}, {\"publication_date\": \"2020-05-08T00:00:00\", \"n_diff\": 127.0, \"average_lag\": 5.149606299212598}, {\"publication_date\": \"2020-05-09T00:00:00\", \"n_diff\": 46.0, \"average_lag\": 5.673913043478261}, {\"publication_date\": \"2020-05-10T00:00:00\", \"n_diff\": 4.0, \"average_lag\": 0.75}, {\"publication_date\": \"2020-05-11T00:00:00\", \"n_diff\": 30.0, \"average_lag\": 3.1666666666666665}, {\"publication_date\": \"2020-05-12T00:00:00\", \"n_diff\": 58.0, \"average_lag\": 3.2413793103448274}, {\"publication_date\": \"2020-05-13T00:00:00\", \"n_diff\": 147.0, \"average_lag\": 7.156462585034014}, {\"publication_date\": \"2020-05-14T00:00:00\", \"n_diff\": 67.0, \"average_lag\": 6.134328358208955}, {\"publication_date\": \"2020-05-15T00:00:00\", \"n_diff\": 118.0, \"average_lag\": 6.186440677966102}, {\"publication_date\": \"2020-05-16T00:00:00\", \"n_diff\": 27.0, \"average_lag\": 4.111111111111111}, {\"publication_date\": \"2020-05-17T00:00:00\", \"n_diff\": 5.0, \"average_lag\": 1.8}, {\"publication_date\": \"2020-05-18T00:00:00\", \"n_diff\": 16.0, \"average_lag\": 3.0}, {\"publication_date\": \"2020-05-19T00:00:00\", \"n_diff\": 40.0, \"average_lag\": 3.9}, {\"publication_date\": \"2020-05-20T00:00:00\", \"n_diff\": 90.0, \"average_lag\": 6.722222222222222}, {\"publication_date\": \"2020-05-21T00:00:00\", \"n_diff\": 41.0, \"average_lag\": 7.341463414634147}, {\"publication_date\": \"2020-05-22T00:00:00\", \"n_diff\": 56.0, \"average_lag\": 6.892857142857143}, {\"publication_date\": \"2020-05-23T00:00:00\", \"n_diff\": 65.0, \"average_lag\": 8.061538461538461}, {\"publication_date\": \"2020-05-24T00:00:00\", \"n_diff\": 6.0, \"average_lag\": 4.0}, {\"publication_date\": \"2020-05-25T00:00:00\", \"n_diff\": 32.0, \"average_lag\": 5.9375}, {\"publication_date\": \"2020-05-26T00:00:00\", \"n_diff\": 96.0, \"average_lag\": 6.072916666666667}, {\"publication_date\": \"2020-05-27T00:00:00\", \"n_diff\": 95.0, \"average_lag\": 6.947368421052632}, {\"publication_date\": \"2020-05-28T00:00:00\", \"n_diff\": 51.0, \"average_lag\": 6.392156862745098}, {\"publication_date\": \"2020-05-29T00:00:00\", \"n_diff\": 84.0, \"average_lag\": 7.154761904761905}, {\"publication_date\": \"2020-05-30T00:00:00\", \"n_diff\": 48.0, \"average_lag\": 7.458333333333333}, {\"publication_date\": \"2020-05-31T00:00:00\", \"n_diff\": 0.0, \"average_lag\": null}, {\"publication_date\": \"2020-06-01T00:00:00\", \"n_diff\": 8.0, \"average_lag\": 1.875}, {\"publication_date\": \"2020-06-02T00:00:00\", \"n_diff\": 64.0, \"average_lag\": 4.5625}, {\"publication_date\": \"2020-06-03T00:00:00\", \"n_diff\": 75.0, \"average_lag\": 7.12}, {\"publication_date\": \"2020-06-04T00:00:00\", \"n_diff\": 20.0, \"average_lag\": 4.35}, {\"publication_date\": \"2020-06-05T00:00:00\", \"n_diff\": 78.0, \"average_lag\": 6.846153846153846}, {\"publication_date\": \"2020-06-06T00:00:00\", \"n_diff\": 17.0, \"average_lag\": 5.529411764705882}, {\"publication_date\": \"2020-06-07T00:00:00\", \"n_diff\": 3.0, \"average_lag\": 4.333333333333333}, {\"publication_date\": \"2020-06-08T00:00:00\", \"n_diff\": 34.0, \"average_lag\": 8.176470588235293}, {\"publication_date\": \"2020-06-09T00:00:00\", \"n_diff\": 22.0, \"average_lag\": 2.8181818181818183}, {\"publication_date\": \"2020-06-10T00:00:00\", \"n_diff\": 82.0, \"average_lag\": 6.426829268292683}, {\"publication_date\": \"2020-06-11T00:00:00\", \"n_diff\": 19.0, \"average_lag\": 4.0}, {\"publication_date\": \"2020-06-12T00:00:00\", \"n_diff\": 40.0, \"average_lag\": 6.9}, {\"publication_date\": \"2020-06-13T00:00:00\", \"n_diff\": 20.0, \"average_lag\": 6.55}, {\"publication_date\": \"2020-06-14T00:00:00\", \"n_diff\": 0.0, \"average_lag\": null}, {\"publication_date\": \"2020-06-15T00:00:00\", \"n_diff\": 16.0, \"average_lag\": 3.5625}, {\"publication_date\": \"2020-06-16T00:00:00\", \"n_diff\": 48.0, \"average_lag\": 5.541666666666667}, {\"publication_date\": \"2020-06-17T00:00:00\", \"n_diff\": 102.0, \"average_lag\": 8.480392156862745}, {\"publication_date\": \"2020-06-18T00:00:00\", \"n_diff\": 12.0, \"average_lag\": 5.833333333333333}, {\"publication_date\": \"2020-06-22T00:00:00\", \"n_diff\": 68.0, \"average_lag\": 9.264705882352942}, {\"publication_date\": \"2020-06-23T00:00:00\", \"n_diff\": 39.0, \"average_lag\": 5.589743589743589}, {\"publication_date\": \"2020-06-24T00:00:00\", \"n_diff\": 47.0, \"average_lag\": 8.574468085106384}, {\"publication_date\": \"2020-06-25T00:00:00\", \"n_diff\": 21.0, \"average_lag\": 4.190476190476191}, {\"publication_date\": \"2020-06-26T00:00:00\", \"n_diff\": 49.0, \"average_lag\": 8.040816326530612}, {\"publication_date\": \"2020-06-29T00:00:00\", \"n_diff\": 30.0, \"average_lag\": 7.766666666666667}, {\"publication_date\": \"2020-06-30T00:00:00\", \"n_diff\": 23.0, \"average_lag\": 9.826086956521738}, {\"publication_date\": \"2020-07-01T00:00:00\", \"n_diff\": 37.0, \"average_lag\": 7.918918918918919}, {\"publication_date\": \"2020-07-02T00:00:00\", \"n_diff\": 41.0, \"average_lag\": 8.024390243902438}, {\"publication_date\": \"2020-07-03T00:00:00\", \"n_diff\": 9.0, \"average_lag\": 8.444444444444445}, {\"publication_date\": \"2020-07-06T00:00:00\", \"n_diff\": 13.0, \"average_lag\": 5.3076923076923075}, {\"publication_date\": \"2020-07-07T00:00:00\", \"n_diff\": 15.0, \"average_lag\": 5.6}, {\"publication_date\": \"2020-07-08T00:00:00\", \"n_diff\": 35.0, \"average_lag\": 11.2}, {\"publication_date\": \"2020-07-09T00:00:00\", \"n_diff\": 18.0, \"average_lag\": 8.11111111111111}, {\"publication_date\": \"2020-07-10T00:00:00\", \"n_diff\": 26.0, \"average_lag\": 7.730769230769231}, {\"publication_date\": \"2020-07-13T00:00:00\", \"n_diff\": 10.0, \"average_lag\": 15.8}, {\"publication_date\": \"2020-07-14T00:00:00\", \"n_diff\": 9.0, \"average_lag\": 6.888888888888889}, {\"publication_date\": \"2020-07-15T00:00:00\", \"n_diff\": 28.0, \"average_lag\": 9.857142857142858}, {\"publication_date\": \"2020-07-16T00:00:00\", \"n_diff\": 21.0, \"average_lag\": 15.714285714285714}, {\"publication_date\": \"2020-07-17T00:00:00\", \"n_diff\": 26.0, \"average_lag\": 9.038461538461538}, {\"publication_date\": \"2020-07-20T00:00:00\", \"n_diff\": 20.0, \"average_lag\": 12.25}, {\"publication_date\": \"2020-07-21T00:00:00\", \"n_diff\": 7.0, \"average_lag\": 4.0}, {\"publication_date\": \"2020-07-22T00:00:00\", \"n_diff\": 21.0, \"average_lag\": 8.714285714285714}, {\"publication_date\": \"2020-07-23T00:00:00\", \"n_diff\": 9.0, \"average_lag\": 6.333333333333333}, {\"publication_date\": \"2020-07-24T00:00:00\", \"n_diff\": 21.0, \"average_lag\": 7.476190476190476}, {\"publication_date\": \"2020-07-27T00:00:00\", \"n_diff\": 3.0, \"average_lag\": 0.6666666666666666}, {\"publication_date\": \"2020-07-28T00:00:00\", \"n_diff\": 2.0, \"average_lag\": 2.5}, {\"publication_date\": \"2020-07-29T00:00:00\", \"n_diff\": 29.0, \"average_lag\": 33.41379310344828}, {\"publication_date\": \"2020-07-31T00:00:00\", \"n_diff\": 13.0, \"average_lag\": 11.076923076923077}, {\"publication_date\": \"2020-08-03T00:00:00\", \"n_diff\": 5.0, \"average_lag\": 6.2}, {\"publication_date\": \"2020-08-04T00:00:00\", \"n_diff\": 2.0, \"average_lag\": 6.0}, {\"publication_date\": \"2020-08-05T00:00:00\", \"n_diff\": 14.0, \"average_lag\": 15.571428571428571}, {\"publication_date\": \"2020-08-06T00:00:00\", \"n_diff\": 6.0, \"average_lag\": 39.166666666666664}, {\"publication_date\": \"2020-08-07T00:00:00\", \"n_diff\": -3.0, \"average_lag\": 67.33333333333333}, {\"publication_date\": \"2020-08-10T00:00:00\", \"n_diff\": 3.0, \"average_lag\": 6.666666666666667}, {\"publication_date\": \"2020-08-11T00:00:00\", \"n_diff\": 4.0, \"average_lag\": 5.75}, {\"publication_date\": \"2020-08-12T00:00:00\", \"n_diff\": 4.0, \"average_lag\": 5.5}, {\"publication_date\": \"2020-08-13T00:00:00\", \"n_diff\": 1.0, \"average_lag\": 16.0}, {\"publication_date\": \"2020-08-14T00:00:00\", \"n_diff\": 6.0, \"average_lag\": 12.0}, {\"publication_date\": \"2020-08-17T00:00:00\", \"n_diff\": 3.0, \"average_lag\": 19.666666666666668}, {\"publication_date\": \"2020-08-18T00:00:00\", \"n_diff\": 5.0, \"average_lag\": 19.0}, {\"publication_date\": \"2020-08-19T00:00:00\", \"n_diff\": 13.0, \"average_lag\": 11.307692307692308}, {\"publication_date\": \"2020-08-20T00:00:00\", \"n_diff\": 3.0, \"average_lag\": 8.0}, {\"publication_date\": \"2020-08-21T00:00:00\", \"n_diff\": 5.0, \"average_lag\": 9.2}, {\"publication_date\": \"2020-08-24T00:00:00\", \"n_diff\": 2.0, \"average_lag\": 8.5}, {\"publication_date\": \"2020-08-25T00:00:00\", \"n_diff\": 2.0, \"average_lag\": 8.5}, {\"publication_date\": \"2020-08-26T00:00:00\", \"n_diff\": 3.0, \"average_lag\": 8.0}, {\"publication_date\": \"2020-08-27T00:00:00\", \"n_diff\": 3.0, \"average_lag\": 8.0}, {\"publication_date\": \"2020-08-28T00:00:00\", \"n_diff\": 1.0, \"average_lag\": 11.0}, {\"publication_date\": \"2020-08-31T00:00:00\", \"n_diff\": -13.0, \"average_lag\": 38.38461538461539}, {\"publication_date\": \"2020-09-01T00:00:00\", \"n_diff\": 5.0, \"average_lag\": 7.0}, {\"publication_date\": \"2020-09-02T00:00:00\", \"n_diff\": 7.0, \"average_lag\": 8.285714285714286}, {\"publication_date\": \"2020-09-03T00:00:00\", \"n_diff\": 12.0, \"average_lag\": 24.75}, {\"publication_date\": \"2020-09-04T00:00:00\", \"n_diff\": 3.0, \"average_lag\": 4.0}, {\"publication_date\": \"2020-09-07T00:00:00\", \"n_diff\": 2.0, \"average_lag\": 9.5}, {\"publication_date\": \"2020-09-08T00:00:00\", \"n_diff\": 2.0, \"average_lag\": 0.5}, {\"publication_date\": \"2020-09-09T00:00:00\", \"n_diff\": 4.0, \"average_lag\": 5.5}, {\"publication_date\": \"2020-09-10T00:00:00\", \"n_diff\": 1.0, \"average_lag\": 27.0}, {\"publication_date\": \"2020-09-11T00:00:00\", \"n_diff\": 3.0, \"average_lag\": 9.333333333333334}, {\"publication_date\": \"2020-09-15T00:00:00\", \"n_diff\": 5.0, \"average_lag\": 24.0}, {\"publication_date\": \"2020-09-16T00:00:00\", \"n_diff\": 8.0, \"average_lag\": 11.75}, {\"publication_date\": \"2020-09-17T00:00:00\", \"n_diff\": 4.0, \"average_lag\": 7.25}, {\"publication_date\": \"2020-09-18T00:00:00\", \"n_diff\": 1.0, \"average_lag\": 7.0}, {\"publication_date\": \"2020-09-22T00:00:00\", \"n_diff\": 5.0, \"average_lag\": 5.8}, {\"publication_date\": \"2020-09-23T00:00:00\", \"n_diff\": 6.0, \"average_lag\": 12.333333333333334}, {\"publication_date\": \"2020-09-24T00:00:00\", \"n_diff\": 2.0, \"average_lag\": -15.0}, {\"publication_date\": \"2020-09-25T00:00:00\", \"n_diff\": 2.0, \"average_lag\": 3.0}, {\"publication_date\": \"2020-09-29T00:00:00\", \"n_diff\": 10.0, \"average_lag\": 7.1}, {\"publication_date\": \"2020-09-30T00:00:00\", \"n_diff\": 3.0, \"average_lag\": 10.333333333333334}, {\"publication_date\": \"2020-10-01T00:00:00\", \"n_diff\": 0.0, \"average_lag\": null}, {\"publication_date\": \"2020-10-02T00:00:00\", \"n_diff\": 2.0, \"average_lag\": 6.0}, {\"publication_date\": \"2020-10-06T00:00:00\", \"n_diff\": -12.0, \"average_lag\": 67.66666666666667}, {\"publication_date\": \"2020-10-07T00:00:00\", \"n_diff\": 9.0, \"average_lag\": 16.666666666666668}, {\"publication_date\": \"2020-10-08T00:00:00\", \"n_diff\": 0.0, \"average_lag\": null}, {\"publication_date\": \"2020-10-09T00:00:00\", \"n_diff\": 2.0, \"average_lag\": 5.0}, {\"publication_date\": \"2020-10-13T00:00:00\", \"n_diff\": 4.0, \"average_lag\": 9.0}, {\"publication_date\": \"2020-10-14T00:00:00\", \"n_diff\": 8.0, \"average_lag\": 6.5}, {\"publication_date\": \"2020-10-15T00:00:00\", \"n_diff\": 3.0, \"average_lag\": 8.666666666666666}, {\"publication_date\": \"2020-10-16T00:00:00\", \"n_diff\": 8.0, \"average_lag\": 6.75}, {\"publication_date\": \"2020-10-20T00:00:00\", \"n_diff\": 4.0, \"average_lag\": 8.0}, {\"publication_date\": \"2020-10-21T00:00:00\", \"n_diff\": 7.0, \"average_lag\": 8.571428571428571}, {\"publication_date\": \"2020-10-22T00:00:00\", \"n_diff\": 1.0, \"average_lag\": 8.0}, {\"publication_date\": \"2020-10-23T00:00:00\", \"n_diff\": 2.0, \"average_lag\": 7.5}, {\"publication_date\": \"2020-10-27T00:00:00\", \"n_diff\": -15.0, \"average_lag\": 237.33333333333334}, {\"publication_date\": \"2020-10-28T00:00:00\", \"n_diff\": 9.0, \"average_lag\": 23.333333333333332}, {\"publication_date\": \"2020-10-29T00:00:00\", \"n_diff\": 5.0, \"average_lag\": 7.4}, {\"publication_date\": \"2020-10-30T00:00:00\", \"n_diff\": 4.0, \"average_lag\": 6.5}, {\"publication_date\": \"2020-11-03T00:00:00\", \"n_diff\": 30.0, \"average_lag\": 7.866666666666666}, {\"publication_date\": \"2020-11-04T00:00:00\", \"n_diff\": 25.0, \"average_lag\": 2.28}, {\"publication_date\": \"2020-11-05T00:00:00\", \"n_diff\": 6.0, \"average_lag\": 42.333333333333336}, {\"publication_date\": \"2020-11-06T00:00:00\", \"n_diff\": 19.0, \"average_lag\": 5.052631578947368}, {\"publication_date\": \"2020-11-10T00:00:00\", \"n_diff\": 36.0, \"average_lag\": 6.055555555555555}, {\"publication_date\": \"2020-11-11T00:00:00\", \"n_diff\": 27.0, \"average_lag\": 7.222222222222222}, {\"publication_date\": \"2020-11-12T00:00:00\", \"n_diff\": 40.0, \"average_lag\": 6.575}, {\"publication_date\": \"2020-11-13T00:00:00\", \"n_diff\": 42.0, \"average_lag\": 5.5}, {\"publication_date\": \"2020-11-17T00:00:00\", \"n_diff\": 60.0, \"average_lag\": 6.766666666666667}, {\"publication_date\": \"2020-11-18T00:00:00\", \"n_diff\": 96.0, \"average_lag\": 7.729166666666667}, {\"publication_date\": \"2020-11-19T00:00:00\", \"n_diff\": 19.0, \"average_lag\": 6.684210526315789}, {\"publication_date\": \"2020-11-20T00:00:00\", \"n_diff\": 65.0, \"average_lag\": 6.338461538461538}, {\"publication_date\": \"2020-11-24T00:00:00\", \"n_diff\": 91.0, \"average_lag\": 6.1098901098901095}, {\"publication_date\": \"2020-11-25T00:00:00\", \"n_diff\": 56.0, \"average_lag\": 5.303571428571429}, {\"publication_date\": \"2020-11-26T00:00:00\", \"n_diff\": 66.0, \"average_lag\": 7.378787878787879}, {\"publication_date\": \"2020-11-27T00:00:00\", \"n_diff\": 58.0, \"average_lag\": 5.448275862068965}, {\"publication_date\": \"2020-12-01T00:00:00\", \"n_diff\": 109.0, \"average_lag\": 6.348623853211009}, {\"publication_date\": \"2020-12-02T00:00:00\", \"n_diff\": 175.0, \"average_lag\": 8.577142857142857}, {\"publication_date\": \"2020-12-03T00:00:00\", \"n_diff\": 32.0, \"average_lag\": 6.65625}, {\"publication_date\": \"2020-12-04T00:00:00\", \"n_diff\": 66.0, \"average_lag\": 6.924242424242424}, {\"publication_date\": \"2020-12-08T00:00:00\", \"n_diff\": 127.0, \"average_lag\": 7.031496062992126}, {\"publication_date\": \"2020-12-09T00:00:00\", \"n_diff\": 103.0, \"average_lag\": 8.116504854368932}]}}, {\"mode\": \"vega-lite\"});\n",
       "</script>"
      ],
      "text/plain": [
       "alt.Chart(...)"
      ]
     },
     "execution_count": 4,
     "metadata": {},
     "output_type": "execute_result"
    }
   ],
   "source": [
    "def average_lag(df, start_date):\n",
    "    df1 = pd.DataFrame(df.groupby(\"publication_date\")[\"n_diff\"].sum())\n",
    "    df1[\"average_lag\"] = (\n",
    "        df.groupby(\"publication_date\")[\"age\"].sum()\n",
    "        / df.groupby(\"publication_date\")[\"n_diff\"].sum()\n",
    "    )\n",
    "    df1 = df1.reset_index()\n",
    "    df1 = df1[df1[\"publication_date\"] >= start_date]\n",
    "\n",
    "    lag_chart = (\n",
    "        alt.Chart(df1, width=600, title=\"Average Reporting Lag\")\n",
    "        .mark_trail()\n",
    "        .encode(\n",
    "            x=alt.X(\"publication_date\", title=\"Publication Date\"),\n",
    "            y=alt.Y(\"average_lag:Q\", title=\"Daily Average Reporting Lag\"),\n",
    "            size=alt.Size(\"n_diff\", title=\"Reported Deaths\"),\n",
    "        )\n",
    "    )\n",
    "\n",
    "    return lag_chart\n",
    "\n",
    "average_lag(fhm_data, '2020-04-03')"
   ]
  },
  {
   "cell_type": "code",
   "execution_count": 5,
   "metadata": {},
   "outputs": [
    {
     "ename": "MaxRowsError",
     "evalue": "The number of rows in your dataset is greater than the maximum allowed (5000). For information on how to plot larger datasets in Altair, see the documentation",
     "output_type": "error",
     "traceback": [
      "\u001b[0;31m---------------------------------------------------------------------------\u001b[0m",
      "\u001b[0;31mMaxRowsError\u001b[0m                              Traceback (most recent call last)",
      "\u001b[0;32m~/.pyenv/versions/3.8.0/lib/python3.8/site-packages/altair/vegalite/v4/api.py\u001b[0m in \u001b[0;36mto_dict\u001b[0;34m(self, *args, **kwargs)\u001b[0m\n\u001b[1;32m    361\u001b[0m         \u001b[0mcopy\u001b[0m \u001b[0;34m=\u001b[0m \u001b[0mself\u001b[0m\u001b[0;34m.\u001b[0m\u001b[0mcopy\u001b[0m\u001b[0;34m(\u001b[0m\u001b[0mdeep\u001b[0m\u001b[0;34m=\u001b[0m\u001b[0;32mFalse\u001b[0m\u001b[0;34m)\u001b[0m\u001b[0;34m\u001b[0m\u001b[0;34m\u001b[0m\u001b[0m\n\u001b[1;32m    362\u001b[0m         \u001b[0moriginal_data\u001b[0m \u001b[0;34m=\u001b[0m \u001b[0mgetattr\u001b[0m\u001b[0;34m(\u001b[0m\u001b[0mcopy\u001b[0m\u001b[0;34m,\u001b[0m \u001b[0;34m\"data\"\u001b[0m\u001b[0;34m,\u001b[0m \u001b[0mUndefined\u001b[0m\u001b[0;34m)\u001b[0m\u001b[0;34m\u001b[0m\u001b[0;34m\u001b[0m\u001b[0m\n\u001b[0;32m--> 363\u001b[0;31m         \u001b[0mcopy\u001b[0m\u001b[0;34m.\u001b[0m\u001b[0mdata\u001b[0m \u001b[0;34m=\u001b[0m \u001b[0m_prepare_data\u001b[0m\u001b[0;34m(\u001b[0m\u001b[0moriginal_data\u001b[0m\u001b[0;34m,\u001b[0m \u001b[0mcontext\u001b[0m\u001b[0;34m)\u001b[0m\u001b[0;34m\u001b[0m\u001b[0;34m\u001b[0m\u001b[0m\n\u001b[0m\u001b[1;32m    364\u001b[0m \u001b[0;34m\u001b[0m\u001b[0m\n\u001b[1;32m    365\u001b[0m         \u001b[0;32mif\u001b[0m \u001b[0moriginal_data\u001b[0m \u001b[0;32mis\u001b[0m \u001b[0;32mnot\u001b[0m \u001b[0mUndefined\u001b[0m\u001b[0;34m:\u001b[0m\u001b[0;34m\u001b[0m\u001b[0;34m\u001b[0m\u001b[0m\n",
      "\u001b[0;32m~/.pyenv/versions/3.8.0/lib/python3.8/site-packages/altair/vegalite/v4/api.py\u001b[0m in \u001b[0;36m_prepare_data\u001b[0;34m(data, context)\u001b[0m\n\u001b[1;32m     82\u001b[0m     \u001b[0;31m# convert dataframes  or objects with __geo_interface__ to dict\u001b[0m\u001b[0;34m\u001b[0m\u001b[0;34m\u001b[0m\u001b[0;34m\u001b[0m\u001b[0m\n\u001b[1;32m     83\u001b[0m     \u001b[0;32mif\u001b[0m \u001b[0misinstance\u001b[0m\u001b[0;34m(\u001b[0m\u001b[0mdata\u001b[0m\u001b[0;34m,\u001b[0m \u001b[0mpd\u001b[0m\u001b[0;34m.\u001b[0m\u001b[0mDataFrame\u001b[0m\u001b[0;34m)\u001b[0m \u001b[0;32mor\u001b[0m \u001b[0mhasattr\u001b[0m\u001b[0;34m(\u001b[0m\u001b[0mdata\u001b[0m\u001b[0;34m,\u001b[0m \u001b[0;34m\"__geo_interface__\"\u001b[0m\u001b[0;34m)\u001b[0m\u001b[0;34m:\u001b[0m\u001b[0;34m\u001b[0m\u001b[0;34m\u001b[0m\u001b[0m\n\u001b[0;32m---> 84\u001b[0;31m         \u001b[0mdata\u001b[0m \u001b[0;34m=\u001b[0m \u001b[0m_pipe\u001b[0m\u001b[0;34m(\u001b[0m\u001b[0mdata\u001b[0m\u001b[0;34m,\u001b[0m \u001b[0mdata_transformers\u001b[0m\u001b[0;34m.\u001b[0m\u001b[0mget\u001b[0m\u001b[0;34m(\u001b[0m\u001b[0;34m)\u001b[0m\u001b[0;34m)\u001b[0m\u001b[0;34m\u001b[0m\u001b[0;34m\u001b[0m\u001b[0m\n\u001b[0m\u001b[1;32m     85\u001b[0m \u001b[0;34m\u001b[0m\u001b[0m\n\u001b[1;32m     86\u001b[0m     \u001b[0;31m# convert string input to a URLData\u001b[0m\u001b[0;34m\u001b[0m\u001b[0;34m\u001b[0m\u001b[0;34m\u001b[0m\u001b[0m\n",
      "\u001b[0;32m~/.pyenv/versions/3.8.0/lib/python3.8/site-packages/toolz/functoolz.py\u001b[0m in \u001b[0;36mpipe\u001b[0;34m(data, *funcs)\u001b[0m\n\u001b[1;32m    632\u001b[0m     \"\"\"\n\u001b[1;32m    633\u001b[0m     \u001b[0;32mfor\u001b[0m \u001b[0mfunc\u001b[0m \u001b[0;32min\u001b[0m \u001b[0mfuncs\u001b[0m\u001b[0;34m:\u001b[0m\u001b[0;34m\u001b[0m\u001b[0;34m\u001b[0m\u001b[0m\n\u001b[0;32m--> 634\u001b[0;31m         \u001b[0mdata\u001b[0m \u001b[0;34m=\u001b[0m \u001b[0mfunc\u001b[0m\u001b[0;34m(\u001b[0m\u001b[0mdata\u001b[0m\u001b[0;34m)\u001b[0m\u001b[0;34m\u001b[0m\u001b[0;34m\u001b[0m\u001b[0m\n\u001b[0m\u001b[1;32m    635\u001b[0m     \u001b[0;32mreturn\u001b[0m \u001b[0mdata\u001b[0m\u001b[0;34m\u001b[0m\u001b[0;34m\u001b[0m\u001b[0m\n\u001b[1;32m    636\u001b[0m \u001b[0;34m\u001b[0m\u001b[0m\n",
      "\u001b[0;32m~/.pyenv/versions/3.8.0/lib/python3.8/site-packages/toolz/functoolz.py\u001b[0m in \u001b[0;36m__call__\u001b[0;34m(self, *args, **kwargs)\u001b[0m\n\u001b[1;32m    301\u001b[0m     \u001b[0;32mdef\u001b[0m \u001b[0m__call__\u001b[0m\u001b[0;34m(\u001b[0m\u001b[0mself\u001b[0m\u001b[0;34m,\u001b[0m \u001b[0;34m*\u001b[0m\u001b[0margs\u001b[0m\u001b[0;34m,\u001b[0m \u001b[0;34m**\u001b[0m\u001b[0mkwargs\u001b[0m\u001b[0;34m)\u001b[0m\u001b[0;34m:\u001b[0m\u001b[0;34m\u001b[0m\u001b[0;34m\u001b[0m\u001b[0m\n\u001b[1;32m    302\u001b[0m         \u001b[0;32mtry\u001b[0m\u001b[0;34m:\u001b[0m\u001b[0;34m\u001b[0m\u001b[0;34m\u001b[0m\u001b[0m\n\u001b[0;32m--> 303\u001b[0;31m             \u001b[0;32mreturn\u001b[0m \u001b[0mself\u001b[0m\u001b[0;34m.\u001b[0m\u001b[0m_partial\u001b[0m\u001b[0;34m(\u001b[0m\u001b[0;34m*\u001b[0m\u001b[0margs\u001b[0m\u001b[0;34m,\u001b[0m \u001b[0;34m**\u001b[0m\u001b[0mkwargs\u001b[0m\u001b[0;34m)\u001b[0m\u001b[0;34m\u001b[0m\u001b[0;34m\u001b[0m\u001b[0m\n\u001b[0m\u001b[1;32m    304\u001b[0m         \u001b[0;32mexcept\u001b[0m \u001b[0mTypeError\u001b[0m \u001b[0;32mas\u001b[0m \u001b[0mexc\u001b[0m\u001b[0;34m:\u001b[0m\u001b[0;34m\u001b[0m\u001b[0;34m\u001b[0m\u001b[0m\n\u001b[1;32m    305\u001b[0m             \u001b[0;32mif\u001b[0m \u001b[0mself\u001b[0m\u001b[0;34m.\u001b[0m\u001b[0m_should_curry\u001b[0m\u001b[0;34m(\u001b[0m\u001b[0margs\u001b[0m\u001b[0;34m,\u001b[0m \u001b[0mkwargs\u001b[0m\u001b[0;34m,\u001b[0m \u001b[0mexc\u001b[0m\u001b[0;34m)\u001b[0m\u001b[0;34m:\u001b[0m\u001b[0;34m\u001b[0m\u001b[0;34m\u001b[0m\u001b[0m\n",
      "\u001b[0;32m~/.pyenv/versions/3.8.0/lib/python3.8/site-packages/altair/vegalite/data.py\u001b[0m in \u001b[0;36mdefault_data_transformer\u001b[0;34m(data, max_rows)\u001b[0m\n\u001b[1;32m     17\u001b[0m \u001b[0;34m@\u001b[0m\u001b[0mcurried\u001b[0m\u001b[0;34m.\u001b[0m\u001b[0mcurry\u001b[0m\u001b[0;34m\u001b[0m\u001b[0;34m\u001b[0m\u001b[0m\n\u001b[1;32m     18\u001b[0m \u001b[0;32mdef\u001b[0m \u001b[0mdefault_data_transformer\u001b[0m\u001b[0;34m(\u001b[0m\u001b[0mdata\u001b[0m\u001b[0;34m,\u001b[0m \u001b[0mmax_rows\u001b[0m\u001b[0;34m=\u001b[0m\u001b[0;36m5000\u001b[0m\u001b[0;34m)\u001b[0m\u001b[0;34m:\u001b[0m\u001b[0;34m\u001b[0m\u001b[0;34m\u001b[0m\u001b[0m\n\u001b[0;32m---> 19\u001b[0;31m     \u001b[0;32mreturn\u001b[0m \u001b[0mcurried\u001b[0m\u001b[0;34m.\u001b[0m\u001b[0mpipe\u001b[0m\u001b[0;34m(\u001b[0m\u001b[0mdata\u001b[0m\u001b[0;34m,\u001b[0m \u001b[0mlimit_rows\u001b[0m\u001b[0;34m(\u001b[0m\u001b[0mmax_rows\u001b[0m\u001b[0;34m=\u001b[0m\u001b[0mmax_rows\u001b[0m\u001b[0;34m)\u001b[0m\u001b[0;34m,\u001b[0m \u001b[0mto_values\u001b[0m\u001b[0;34m)\u001b[0m\u001b[0;34m\u001b[0m\u001b[0;34m\u001b[0m\u001b[0m\n\u001b[0m\u001b[1;32m     20\u001b[0m \u001b[0;34m\u001b[0m\u001b[0m\n\u001b[1;32m     21\u001b[0m \u001b[0;34m\u001b[0m\u001b[0m\n",
      "\u001b[0;32m~/.pyenv/versions/3.8.0/lib/python3.8/site-packages/toolz/functoolz.py\u001b[0m in \u001b[0;36mpipe\u001b[0;34m(data, *funcs)\u001b[0m\n\u001b[1;32m    632\u001b[0m     \"\"\"\n\u001b[1;32m    633\u001b[0m     \u001b[0;32mfor\u001b[0m \u001b[0mfunc\u001b[0m \u001b[0;32min\u001b[0m \u001b[0mfuncs\u001b[0m\u001b[0;34m:\u001b[0m\u001b[0;34m\u001b[0m\u001b[0;34m\u001b[0m\u001b[0m\n\u001b[0;32m--> 634\u001b[0;31m         \u001b[0mdata\u001b[0m \u001b[0;34m=\u001b[0m \u001b[0mfunc\u001b[0m\u001b[0;34m(\u001b[0m\u001b[0mdata\u001b[0m\u001b[0;34m)\u001b[0m\u001b[0;34m\u001b[0m\u001b[0;34m\u001b[0m\u001b[0m\n\u001b[0m\u001b[1;32m    635\u001b[0m     \u001b[0;32mreturn\u001b[0m \u001b[0mdata\u001b[0m\u001b[0;34m\u001b[0m\u001b[0;34m\u001b[0m\u001b[0m\n\u001b[1;32m    636\u001b[0m \u001b[0;34m\u001b[0m\u001b[0m\n",
      "\u001b[0;32m~/.pyenv/versions/3.8.0/lib/python3.8/site-packages/toolz/functoolz.py\u001b[0m in \u001b[0;36m__call__\u001b[0;34m(self, *args, **kwargs)\u001b[0m\n\u001b[1;32m    301\u001b[0m     \u001b[0;32mdef\u001b[0m \u001b[0m__call__\u001b[0m\u001b[0;34m(\u001b[0m\u001b[0mself\u001b[0m\u001b[0;34m,\u001b[0m \u001b[0;34m*\u001b[0m\u001b[0margs\u001b[0m\u001b[0;34m,\u001b[0m \u001b[0;34m**\u001b[0m\u001b[0mkwargs\u001b[0m\u001b[0;34m)\u001b[0m\u001b[0;34m:\u001b[0m\u001b[0;34m\u001b[0m\u001b[0;34m\u001b[0m\u001b[0m\n\u001b[1;32m    302\u001b[0m         \u001b[0;32mtry\u001b[0m\u001b[0;34m:\u001b[0m\u001b[0;34m\u001b[0m\u001b[0;34m\u001b[0m\u001b[0m\n\u001b[0;32m--> 303\u001b[0;31m             \u001b[0;32mreturn\u001b[0m \u001b[0mself\u001b[0m\u001b[0;34m.\u001b[0m\u001b[0m_partial\u001b[0m\u001b[0;34m(\u001b[0m\u001b[0;34m*\u001b[0m\u001b[0margs\u001b[0m\u001b[0;34m,\u001b[0m \u001b[0;34m**\u001b[0m\u001b[0mkwargs\u001b[0m\u001b[0;34m)\u001b[0m\u001b[0;34m\u001b[0m\u001b[0;34m\u001b[0m\u001b[0m\n\u001b[0m\u001b[1;32m    304\u001b[0m         \u001b[0;32mexcept\u001b[0m \u001b[0mTypeError\u001b[0m \u001b[0;32mas\u001b[0m \u001b[0mexc\u001b[0m\u001b[0;34m:\u001b[0m\u001b[0;34m\u001b[0m\u001b[0;34m\u001b[0m\u001b[0m\n\u001b[1;32m    305\u001b[0m             \u001b[0;32mif\u001b[0m \u001b[0mself\u001b[0m\u001b[0;34m.\u001b[0m\u001b[0m_should_curry\u001b[0m\u001b[0;34m(\u001b[0m\u001b[0margs\u001b[0m\u001b[0;34m,\u001b[0m \u001b[0mkwargs\u001b[0m\u001b[0;34m,\u001b[0m \u001b[0mexc\u001b[0m\u001b[0;34m)\u001b[0m\u001b[0;34m:\u001b[0m\u001b[0;34m\u001b[0m\u001b[0;34m\u001b[0m\u001b[0m\n",
      "\u001b[0;32m~/.pyenv/versions/3.8.0/lib/python3.8/site-packages/altair/utils/data.py\u001b[0m in \u001b[0;36mlimit_rows\u001b[0;34m(data, max_rows)\u001b[0m\n\u001b[1;32m     78\u001b[0m             \u001b[0;32mreturn\u001b[0m \u001b[0mdata\u001b[0m\u001b[0;34m\u001b[0m\u001b[0;34m\u001b[0m\u001b[0m\n\u001b[1;32m     79\u001b[0m     \u001b[0;32mif\u001b[0m \u001b[0mmax_rows\u001b[0m \u001b[0;32mis\u001b[0m \u001b[0;32mnot\u001b[0m \u001b[0;32mNone\u001b[0m \u001b[0;32mand\u001b[0m \u001b[0mlen\u001b[0m\u001b[0;34m(\u001b[0m\u001b[0mvalues\u001b[0m\u001b[0;34m)\u001b[0m \u001b[0;34m>\u001b[0m \u001b[0mmax_rows\u001b[0m\u001b[0;34m:\u001b[0m\u001b[0;34m\u001b[0m\u001b[0;34m\u001b[0m\u001b[0m\n\u001b[0;32m---> 80\u001b[0;31m         raise MaxRowsError(\n\u001b[0m\u001b[1;32m     81\u001b[0m             \u001b[0;34m\"The number of rows in your dataset is greater \"\u001b[0m\u001b[0;34m\u001b[0m\u001b[0;34m\u001b[0m\u001b[0m\n\u001b[1;32m     82\u001b[0m             \u001b[0;34m\"than the maximum allowed ({}). \"\u001b[0m\u001b[0;34m\u001b[0m\u001b[0;34m\u001b[0m\u001b[0m\n",
      "\u001b[0;31mMaxRowsError\u001b[0m: The number of rows in your dataset is greater than the maximum allowed (5000). For information on how to plot larger datasets in Altair, see the documentation"
     ]
    },
    {
     "data": {
      "text/plain": [
       "alt.Chart(...)"
      ]
     },
     "execution_count": 5,
     "metadata": {},
     "output_type": "execute_result"
    }
   ],
   "source": [
    "df = fhm_data[fhm_data['date'] > '2020-03-10']\n",
    "# Only show weekly publication dates based on latest publication date\n",
    "df = df[df.publication_date.dt.dayofweek == fhm_data['publication_date'].max().weekday()]\n",
    "\n",
    "alt.Chart(df, width=600).mark_line(interpolate='basis').encode(\n",
    "    x=alt.X('date', title=\"Date\"),\n",
    "    y=alt.Y('N', title=\"Deceased\"),\n",
    "    color=alt.Color('monthdate(publication_date):N', title=\"Publication Date\")\n",
    ")"
   ]
  },
  {
   "cell_type": "code",
   "execution_count": 6,
   "metadata": {},
   "outputs": [
    {
     "ename": "MaxRowsError",
     "evalue": "The number of rows in your dataset is greater than the maximum allowed (5000). For information on how to plot larger datasets in Altair, see the documentation",
     "output_type": "error",
     "traceback": [
      "\u001b[0;31m---------------------------------------------------------------------------\u001b[0m",
      "\u001b[0;31mMaxRowsError\u001b[0m                              Traceback (most recent call last)",
      "\u001b[0;32m~/.pyenv/versions/3.8.0/lib/python3.8/site-packages/altair/vegalite/v4/api.py\u001b[0m in \u001b[0;36mto_dict\u001b[0;34m(self, *args, **kwargs)\u001b[0m\n\u001b[1;32m    361\u001b[0m         \u001b[0mcopy\u001b[0m \u001b[0;34m=\u001b[0m \u001b[0mself\u001b[0m\u001b[0;34m.\u001b[0m\u001b[0mcopy\u001b[0m\u001b[0;34m(\u001b[0m\u001b[0mdeep\u001b[0m\u001b[0;34m=\u001b[0m\u001b[0;32mFalse\u001b[0m\u001b[0;34m)\u001b[0m\u001b[0;34m\u001b[0m\u001b[0;34m\u001b[0m\u001b[0m\n\u001b[1;32m    362\u001b[0m         \u001b[0moriginal_data\u001b[0m \u001b[0;34m=\u001b[0m \u001b[0mgetattr\u001b[0m\u001b[0;34m(\u001b[0m\u001b[0mcopy\u001b[0m\u001b[0;34m,\u001b[0m \u001b[0;34m\"data\"\u001b[0m\u001b[0;34m,\u001b[0m \u001b[0mUndefined\u001b[0m\u001b[0;34m)\u001b[0m\u001b[0;34m\u001b[0m\u001b[0;34m\u001b[0m\u001b[0m\n\u001b[0;32m--> 363\u001b[0;31m         \u001b[0mcopy\u001b[0m\u001b[0;34m.\u001b[0m\u001b[0mdata\u001b[0m \u001b[0;34m=\u001b[0m \u001b[0m_prepare_data\u001b[0m\u001b[0;34m(\u001b[0m\u001b[0moriginal_data\u001b[0m\u001b[0;34m,\u001b[0m \u001b[0mcontext\u001b[0m\u001b[0;34m)\u001b[0m\u001b[0;34m\u001b[0m\u001b[0;34m\u001b[0m\u001b[0m\n\u001b[0m\u001b[1;32m    364\u001b[0m \u001b[0;34m\u001b[0m\u001b[0m\n\u001b[1;32m    365\u001b[0m         \u001b[0;32mif\u001b[0m \u001b[0moriginal_data\u001b[0m \u001b[0;32mis\u001b[0m \u001b[0;32mnot\u001b[0m \u001b[0mUndefined\u001b[0m\u001b[0;34m:\u001b[0m\u001b[0;34m\u001b[0m\u001b[0;34m\u001b[0m\u001b[0m\n",
      "\u001b[0;32m~/.pyenv/versions/3.8.0/lib/python3.8/site-packages/altair/vegalite/v4/api.py\u001b[0m in \u001b[0;36m_prepare_data\u001b[0;34m(data, context)\u001b[0m\n\u001b[1;32m     82\u001b[0m     \u001b[0;31m# convert dataframes  or objects with __geo_interface__ to dict\u001b[0m\u001b[0;34m\u001b[0m\u001b[0;34m\u001b[0m\u001b[0;34m\u001b[0m\u001b[0m\n\u001b[1;32m     83\u001b[0m     \u001b[0;32mif\u001b[0m \u001b[0misinstance\u001b[0m\u001b[0;34m(\u001b[0m\u001b[0mdata\u001b[0m\u001b[0;34m,\u001b[0m \u001b[0mpd\u001b[0m\u001b[0;34m.\u001b[0m\u001b[0mDataFrame\u001b[0m\u001b[0;34m)\u001b[0m \u001b[0;32mor\u001b[0m \u001b[0mhasattr\u001b[0m\u001b[0;34m(\u001b[0m\u001b[0mdata\u001b[0m\u001b[0;34m,\u001b[0m \u001b[0;34m\"__geo_interface__\"\u001b[0m\u001b[0;34m)\u001b[0m\u001b[0;34m:\u001b[0m\u001b[0;34m\u001b[0m\u001b[0;34m\u001b[0m\u001b[0m\n\u001b[0;32m---> 84\u001b[0;31m         \u001b[0mdata\u001b[0m \u001b[0;34m=\u001b[0m \u001b[0m_pipe\u001b[0m\u001b[0;34m(\u001b[0m\u001b[0mdata\u001b[0m\u001b[0;34m,\u001b[0m \u001b[0mdata_transformers\u001b[0m\u001b[0;34m.\u001b[0m\u001b[0mget\u001b[0m\u001b[0;34m(\u001b[0m\u001b[0;34m)\u001b[0m\u001b[0;34m)\u001b[0m\u001b[0;34m\u001b[0m\u001b[0;34m\u001b[0m\u001b[0m\n\u001b[0m\u001b[1;32m     85\u001b[0m \u001b[0;34m\u001b[0m\u001b[0m\n\u001b[1;32m     86\u001b[0m     \u001b[0;31m# convert string input to a URLData\u001b[0m\u001b[0;34m\u001b[0m\u001b[0;34m\u001b[0m\u001b[0;34m\u001b[0m\u001b[0m\n",
      "\u001b[0;32m~/.pyenv/versions/3.8.0/lib/python3.8/site-packages/toolz/functoolz.py\u001b[0m in \u001b[0;36mpipe\u001b[0;34m(data, *funcs)\u001b[0m\n\u001b[1;32m    632\u001b[0m     \"\"\"\n\u001b[1;32m    633\u001b[0m     \u001b[0;32mfor\u001b[0m \u001b[0mfunc\u001b[0m \u001b[0;32min\u001b[0m \u001b[0mfuncs\u001b[0m\u001b[0;34m:\u001b[0m\u001b[0;34m\u001b[0m\u001b[0;34m\u001b[0m\u001b[0m\n\u001b[0;32m--> 634\u001b[0;31m         \u001b[0mdata\u001b[0m \u001b[0;34m=\u001b[0m \u001b[0mfunc\u001b[0m\u001b[0;34m(\u001b[0m\u001b[0mdata\u001b[0m\u001b[0;34m)\u001b[0m\u001b[0;34m\u001b[0m\u001b[0;34m\u001b[0m\u001b[0m\n\u001b[0m\u001b[1;32m    635\u001b[0m     \u001b[0;32mreturn\u001b[0m \u001b[0mdata\u001b[0m\u001b[0;34m\u001b[0m\u001b[0;34m\u001b[0m\u001b[0m\n\u001b[1;32m    636\u001b[0m \u001b[0;34m\u001b[0m\u001b[0m\n",
      "\u001b[0;32m~/.pyenv/versions/3.8.0/lib/python3.8/site-packages/toolz/functoolz.py\u001b[0m in \u001b[0;36m__call__\u001b[0;34m(self, *args, **kwargs)\u001b[0m\n\u001b[1;32m    301\u001b[0m     \u001b[0;32mdef\u001b[0m \u001b[0m__call__\u001b[0m\u001b[0;34m(\u001b[0m\u001b[0mself\u001b[0m\u001b[0;34m,\u001b[0m \u001b[0;34m*\u001b[0m\u001b[0margs\u001b[0m\u001b[0;34m,\u001b[0m \u001b[0;34m**\u001b[0m\u001b[0mkwargs\u001b[0m\u001b[0;34m)\u001b[0m\u001b[0;34m:\u001b[0m\u001b[0;34m\u001b[0m\u001b[0;34m\u001b[0m\u001b[0m\n\u001b[1;32m    302\u001b[0m         \u001b[0;32mtry\u001b[0m\u001b[0;34m:\u001b[0m\u001b[0;34m\u001b[0m\u001b[0;34m\u001b[0m\u001b[0m\n\u001b[0;32m--> 303\u001b[0;31m             \u001b[0;32mreturn\u001b[0m \u001b[0mself\u001b[0m\u001b[0;34m.\u001b[0m\u001b[0m_partial\u001b[0m\u001b[0;34m(\u001b[0m\u001b[0;34m*\u001b[0m\u001b[0margs\u001b[0m\u001b[0;34m,\u001b[0m \u001b[0;34m**\u001b[0m\u001b[0mkwargs\u001b[0m\u001b[0;34m)\u001b[0m\u001b[0;34m\u001b[0m\u001b[0;34m\u001b[0m\u001b[0m\n\u001b[0m\u001b[1;32m    304\u001b[0m         \u001b[0;32mexcept\u001b[0m \u001b[0mTypeError\u001b[0m \u001b[0;32mas\u001b[0m \u001b[0mexc\u001b[0m\u001b[0;34m:\u001b[0m\u001b[0;34m\u001b[0m\u001b[0;34m\u001b[0m\u001b[0m\n\u001b[1;32m    305\u001b[0m             \u001b[0;32mif\u001b[0m \u001b[0mself\u001b[0m\u001b[0;34m.\u001b[0m\u001b[0m_should_curry\u001b[0m\u001b[0;34m(\u001b[0m\u001b[0margs\u001b[0m\u001b[0;34m,\u001b[0m \u001b[0mkwargs\u001b[0m\u001b[0;34m,\u001b[0m \u001b[0mexc\u001b[0m\u001b[0;34m)\u001b[0m\u001b[0;34m:\u001b[0m\u001b[0;34m\u001b[0m\u001b[0;34m\u001b[0m\u001b[0m\n",
      "\u001b[0;32m~/.pyenv/versions/3.8.0/lib/python3.8/site-packages/altair/vegalite/data.py\u001b[0m in \u001b[0;36mdefault_data_transformer\u001b[0;34m(data, max_rows)\u001b[0m\n\u001b[1;32m     17\u001b[0m \u001b[0;34m@\u001b[0m\u001b[0mcurried\u001b[0m\u001b[0;34m.\u001b[0m\u001b[0mcurry\u001b[0m\u001b[0;34m\u001b[0m\u001b[0;34m\u001b[0m\u001b[0m\n\u001b[1;32m     18\u001b[0m \u001b[0;32mdef\u001b[0m \u001b[0mdefault_data_transformer\u001b[0m\u001b[0;34m(\u001b[0m\u001b[0mdata\u001b[0m\u001b[0;34m,\u001b[0m \u001b[0mmax_rows\u001b[0m\u001b[0;34m=\u001b[0m\u001b[0;36m5000\u001b[0m\u001b[0;34m)\u001b[0m\u001b[0;34m:\u001b[0m\u001b[0;34m\u001b[0m\u001b[0;34m\u001b[0m\u001b[0m\n\u001b[0;32m---> 19\u001b[0;31m     \u001b[0;32mreturn\u001b[0m \u001b[0mcurried\u001b[0m\u001b[0;34m.\u001b[0m\u001b[0mpipe\u001b[0m\u001b[0;34m(\u001b[0m\u001b[0mdata\u001b[0m\u001b[0;34m,\u001b[0m \u001b[0mlimit_rows\u001b[0m\u001b[0;34m(\u001b[0m\u001b[0mmax_rows\u001b[0m\u001b[0;34m=\u001b[0m\u001b[0mmax_rows\u001b[0m\u001b[0;34m)\u001b[0m\u001b[0;34m,\u001b[0m \u001b[0mto_values\u001b[0m\u001b[0;34m)\u001b[0m\u001b[0;34m\u001b[0m\u001b[0;34m\u001b[0m\u001b[0m\n\u001b[0m\u001b[1;32m     20\u001b[0m \u001b[0;34m\u001b[0m\u001b[0m\n\u001b[1;32m     21\u001b[0m \u001b[0;34m\u001b[0m\u001b[0m\n",
      "\u001b[0;32m~/.pyenv/versions/3.8.0/lib/python3.8/site-packages/toolz/functoolz.py\u001b[0m in \u001b[0;36mpipe\u001b[0;34m(data, *funcs)\u001b[0m\n\u001b[1;32m    632\u001b[0m     \"\"\"\n\u001b[1;32m    633\u001b[0m     \u001b[0;32mfor\u001b[0m \u001b[0mfunc\u001b[0m \u001b[0;32min\u001b[0m \u001b[0mfuncs\u001b[0m\u001b[0;34m:\u001b[0m\u001b[0;34m\u001b[0m\u001b[0;34m\u001b[0m\u001b[0m\n\u001b[0;32m--> 634\u001b[0;31m         \u001b[0mdata\u001b[0m \u001b[0;34m=\u001b[0m \u001b[0mfunc\u001b[0m\u001b[0;34m(\u001b[0m\u001b[0mdata\u001b[0m\u001b[0;34m)\u001b[0m\u001b[0;34m\u001b[0m\u001b[0;34m\u001b[0m\u001b[0m\n\u001b[0m\u001b[1;32m    635\u001b[0m     \u001b[0;32mreturn\u001b[0m \u001b[0mdata\u001b[0m\u001b[0;34m\u001b[0m\u001b[0;34m\u001b[0m\u001b[0m\n\u001b[1;32m    636\u001b[0m \u001b[0;34m\u001b[0m\u001b[0m\n",
      "\u001b[0;32m~/.pyenv/versions/3.8.0/lib/python3.8/site-packages/toolz/functoolz.py\u001b[0m in \u001b[0;36m__call__\u001b[0;34m(self, *args, **kwargs)\u001b[0m\n\u001b[1;32m    301\u001b[0m     \u001b[0;32mdef\u001b[0m \u001b[0m__call__\u001b[0m\u001b[0;34m(\u001b[0m\u001b[0mself\u001b[0m\u001b[0;34m,\u001b[0m \u001b[0;34m*\u001b[0m\u001b[0margs\u001b[0m\u001b[0;34m,\u001b[0m \u001b[0;34m**\u001b[0m\u001b[0mkwargs\u001b[0m\u001b[0;34m)\u001b[0m\u001b[0;34m:\u001b[0m\u001b[0;34m\u001b[0m\u001b[0;34m\u001b[0m\u001b[0m\n\u001b[1;32m    302\u001b[0m         \u001b[0;32mtry\u001b[0m\u001b[0;34m:\u001b[0m\u001b[0;34m\u001b[0m\u001b[0;34m\u001b[0m\u001b[0m\n\u001b[0;32m--> 303\u001b[0;31m             \u001b[0;32mreturn\u001b[0m \u001b[0mself\u001b[0m\u001b[0;34m.\u001b[0m\u001b[0m_partial\u001b[0m\u001b[0;34m(\u001b[0m\u001b[0;34m*\u001b[0m\u001b[0margs\u001b[0m\u001b[0;34m,\u001b[0m \u001b[0;34m**\u001b[0m\u001b[0mkwargs\u001b[0m\u001b[0;34m)\u001b[0m\u001b[0;34m\u001b[0m\u001b[0;34m\u001b[0m\u001b[0m\n\u001b[0m\u001b[1;32m    304\u001b[0m         \u001b[0;32mexcept\u001b[0m \u001b[0mTypeError\u001b[0m \u001b[0;32mas\u001b[0m \u001b[0mexc\u001b[0m\u001b[0;34m:\u001b[0m\u001b[0;34m\u001b[0m\u001b[0;34m\u001b[0m\u001b[0m\n\u001b[1;32m    305\u001b[0m             \u001b[0;32mif\u001b[0m \u001b[0mself\u001b[0m\u001b[0;34m.\u001b[0m\u001b[0m_should_curry\u001b[0m\u001b[0;34m(\u001b[0m\u001b[0margs\u001b[0m\u001b[0;34m,\u001b[0m \u001b[0mkwargs\u001b[0m\u001b[0;34m,\u001b[0m \u001b[0mexc\u001b[0m\u001b[0;34m)\u001b[0m\u001b[0;34m:\u001b[0m\u001b[0;34m\u001b[0m\u001b[0;34m\u001b[0m\u001b[0m\n",
      "\u001b[0;32m~/.pyenv/versions/3.8.0/lib/python3.8/site-packages/altair/utils/data.py\u001b[0m in \u001b[0;36mlimit_rows\u001b[0;34m(data, max_rows)\u001b[0m\n\u001b[1;32m     78\u001b[0m             \u001b[0;32mreturn\u001b[0m \u001b[0mdata\u001b[0m\u001b[0;34m\u001b[0m\u001b[0;34m\u001b[0m\u001b[0m\n\u001b[1;32m     79\u001b[0m     \u001b[0;32mif\u001b[0m \u001b[0mmax_rows\u001b[0m \u001b[0;32mis\u001b[0m \u001b[0;32mnot\u001b[0m \u001b[0;32mNone\u001b[0m \u001b[0;32mand\u001b[0m \u001b[0mlen\u001b[0m\u001b[0;34m(\u001b[0m\u001b[0mvalues\u001b[0m\u001b[0;34m)\u001b[0m \u001b[0;34m>\u001b[0m \u001b[0mmax_rows\u001b[0m\u001b[0;34m:\u001b[0m\u001b[0;34m\u001b[0m\u001b[0;34m\u001b[0m\u001b[0m\n\u001b[0;32m---> 80\u001b[0;31m         raise MaxRowsError(\n\u001b[0m\u001b[1;32m     81\u001b[0m             \u001b[0;34m\"The number of rows in your dataset is greater \"\u001b[0m\u001b[0;34m\u001b[0m\u001b[0;34m\u001b[0m\u001b[0m\n\u001b[1;32m     82\u001b[0m             \u001b[0;34m\"than the maximum allowed ({}). \"\u001b[0m\u001b[0;34m\u001b[0m\u001b[0;34m\u001b[0m\u001b[0m\n",
      "\u001b[0;31mMaxRowsError\u001b[0m: The number of rows in your dataset is greater than the maximum allowed (5000). For information on how to plot larger datasets in Altair, see the documentation"
     ]
    },
    {
     "data": {
      "text/plain": [
       "alt.Chart(...)"
      ]
     },
     "execution_count": 6,
     "metadata": {},
     "output_type": "execute_result"
    }
   ],
   "source": [
    "df = fhm_data[fhm_data['publication_date'] >= '2020-04-03']\n",
    "df = df.replace(0, np.nan)\n",
    "\n",
    "alt.Chart(df,height=200, width=600).mark_rect().encode(\n",
    "    x='yearmonthdate(publication_date)',\n",
    "#    y='yearmonthdate(date)',\n",
    "    y=alt.Y('lag', sort=labels),\n",
    "    size='n_diff',\n",
    "    color=alt.Color('n_diff', title='Deaths', scale=alt.Scale(scheme='goldgreen')),\n",
    "    tooltip=[alt.Tooltip('n_diff', title='Deaths')]\n",
    ")"
   ]
  },
  {
   "cell_type": "markdown",
   "metadata": {},
   "source": [
    "## Daily reported deaths and lag\n",
    "\n",
    "Number of deaths reported by day and the lag in reporting for each death. Each column is a weekday and each row a week."
   ]
  },
  {
   "cell_type": "code",
   "execution_count": 34,
   "metadata": {},
   "outputs": [
    {
     "data": {
      "text/html": [
       "\n",
       "<div id=\"altair-viz-eeaf30a9e53b47be8eb03efb7169b1d5\"></div>\n",
       "<script type=\"text/javascript\">\n",
       "  (function(spec, embedOpt){\n",
       "    let outputDiv = document.currentScript.previousElementSibling;\n",
       "    if (outputDiv.id !== \"altair-viz-eeaf30a9e53b47be8eb03efb7169b1d5\") {\n",
       "      outputDiv = document.getElementById(\"altair-viz-eeaf30a9e53b47be8eb03efb7169b1d5\");\n",
       "    }\n",
       "    const paths = {\n",
       "      \"vega\": \"https://cdn.jsdelivr.net/npm//vega@5?noext\",\n",
       "      \"vega-lib\": \"https://cdn.jsdelivr.net/npm//vega-lib?noext\",\n",
       "      \"vega-lite\": \"https://cdn.jsdelivr.net/npm//vega-lite@4.8.1?noext\",\n",
       "      \"vega-embed\": \"https://cdn.jsdelivr.net/npm//vega-embed@6?noext\",\n",
       "    };\n",
       "\n",
       "    function loadScript(lib) {\n",
       "      return new Promise(function(resolve, reject) {\n",
       "        var s = document.createElement('script');\n",
       "        s.src = paths[lib];\n",
       "        s.async = true;\n",
       "        s.onload = () => resolve(paths[lib]);\n",
       "        s.onerror = () => reject(`Error loading script: ${paths[lib]}`);\n",
       "        document.getElementsByTagName(\"head\")[0].appendChild(s);\n",
       "      });\n",
       "    }\n",
       "\n",
       "    function showError(err) {\n",
       "      outputDiv.innerHTML = `<div class=\"error\" style=\"color:red;\">${err}</div>`;\n",
       "      throw err;\n",
       "    }\n",
       "\n",
       "    function displayChart(vegaEmbed) {\n",
       "      vegaEmbed(outputDiv, spec, embedOpt)\n",
       "        .catch(err => showError(`Javascript Error: ${err.message}<br>This usually means there's a typo in your chart specification. See the javascript console for the full traceback.`));\n",
       "    }\n",
       "\n",
       "    if(typeof define === \"function\" && define.amd) {\n",
       "      requirejs.config({paths});\n",
       "      require([\"vega-embed\"], displayChart, err => showError(`Error loading script: ${err.message}`));\n",
       "    } else if (typeof vegaEmbed === \"function\") {\n",
       "      displayChart(vegaEmbed);\n",
       "    } else {\n",
       "      loadScript(\"vega\")\n",
       "        .then(() => loadScript(\"vega-lite\"))\n",
       "        .then(() => loadScript(\"vega-embed\"))\n",
       "        .catch(showError)\n",
       "        .then(() => displayChart(vegaEmbed));\n",
       "    }\n",
       "  })({\"config\": {\"view\": {\"continuousWidth\": 400, \"continuousHeight\": 300}}, \"data\": {\"url\": \"https://raw.githubusercontent.com/morberg/covid-notebook/master/data/fhm.json\"}, \"facet\": {\"type\": \"temporal\", \"field\": \"publication_date\", \"title\": \"Reported Deaths per Day\"}, \"spec\": {\"layer\": [{\"mark\": \"bar\", \"encoding\": {\"color\": {\"type\": \"nominal\", \"field\": \"publication_date\", \"sort\": [\"Mon\", \"Tue\", \"Wed\", \"Thu\", \"Fri\", \"Sat\", \"Sun\"], \"timeUnit\": \"day\", \"title\": \"Publication Day\"}, \"x\": {\"type\": \"ordinal\", \"field\": \"lag\", \"sort\": [\"0\", \"1\", \"2\", \"3\", \"4\", \"5\", \"6\", \"7\", \"8\", \"9\", \"10\", \"11\", \"12+\"], \"title\": \"Reporting Lag\"}, \"y\": {\"type\": \"quantitative\", \"aggregate\": \"sum\", \"field\": \"n_diff\", \"title\": \"Reported Deaths\"}}, \"height\": 100, \"width\": 100}, {\"mark\": {\"type\": \"text\", \"align\": \"right\", \"fontSize\": 20, \"x\": 95, \"y\": 28}, \"encoding\": {\"text\": {\"type\": \"quantitative\", \"aggregate\": \"sum\", \"field\": \"n_diff\"}}}]}, \"columns\": 7, \"transform\": [{\"filter\": \"datum.date >= datetime(2020,3,6)\"}], \"$schema\": \"https://vega.github.io/schema/vega-lite/v4.8.1.json\"}, {\"mode\": \"vega-lite\"});\n",
       "</script>"
      ],
      "text/plain": [
       "alt.FacetChart(...)"
      ]
     },
     "execution_count": 34,
     "metadata": {},
     "output_type": "execute_result"
    }
   ],
   "source": [
    "week_order = [\"Mon\", \"Tue\", \"Wed\", \"Thu\", \"Fri\", \"Sat\", \"Sun\"]\n",
    "\n",
    "hist = alt.Chart(url, height=100, width=100).mark_bar().encode(\n",
    "    x=alt.X(\"lag:O\", title=\"Reporting Lag\", sort=labels),\n",
    "    y=alt.Y(\"sum(n_diff):Q\", title=\"Reported Deaths\"),\n",
    "    color=alt.Color(\n",
    "        \"day(publication_date):N\", title=\"Publication Day\", sort=week_order\n",
    "    ),\n",
    ")\n",
    "\n",
    "text = (\n",
    "    alt.Chart(url)\n",
    "    .mark_text(align=\"right\", x=95, y=28, fontSize=20)\n",
    "    .encode(alt.Text(\"sum(n_diff):Q\"),)\n",
    ")\n",
    "\n",
    "(hist + text).facet(\n",
    "    facet=alt.Facet(\"publication_date:T\", title=\"Reported Deaths per Day\"),\n",
    "    columns=7,\n",
    ").transform_filter(\"datum.date >= datetime(2020,3,6)\")"
   ]
  },
  {
   "cell_type": "code",
   "execution_count": 42,
   "metadata": {},
   "outputs": [
    {
     "ename": "SchemaValidationError",
     "evalue": "Invalid specification\n\n        altair.vegalite.v4.api.FacetMapping->column, validating 'type'\n\n        ['Mon', 'Tue', 'Wed', 'Thu', 'Fri', 'Sat', 'Sun'] is not of type 'object'\n        ",
     "output_type": "error",
     "traceback": [
      "\u001b[0;31m---------------------------------------------------------------------------\u001b[0m",
      "\u001b[0;31mSchemaValidationError\u001b[0m                     Traceback (most recent call last)",
      "\u001b[0;32m~/.pyenv/versions/3.8.0/lib/python3.8/site-packages/altair/vegalite/v4/api.py\u001b[0m in \u001b[0;36mto_dict\u001b[0;34m(self, *args, **kwargs)\u001b[0m\n\u001b[1;32m    380\u001b[0m         \u001b[0;32mif\u001b[0m \u001b[0mdct\u001b[0m \u001b[0;32mis\u001b[0m \u001b[0;32mNone\u001b[0m\u001b[0;34m:\u001b[0m\u001b[0;34m\u001b[0m\u001b[0;34m\u001b[0m\u001b[0m\n\u001b[1;32m    381\u001b[0m             \u001b[0mkwargs\u001b[0m\u001b[0;34m[\u001b[0m\u001b[0;34m\"validate\"\u001b[0m\u001b[0;34m]\u001b[0m \u001b[0;34m=\u001b[0m \u001b[0;34m\"deep\"\u001b[0m\u001b[0;34m\u001b[0m\u001b[0;34m\u001b[0m\u001b[0m\n\u001b[0;32m--> 382\u001b[0;31m             \u001b[0mdct\u001b[0m \u001b[0;34m=\u001b[0m \u001b[0msuper\u001b[0m\u001b[0;34m(\u001b[0m\u001b[0mTopLevelMixin\u001b[0m\u001b[0;34m,\u001b[0m \u001b[0mcopy\u001b[0m\u001b[0;34m)\u001b[0m\u001b[0;34m.\u001b[0m\u001b[0mto_dict\u001b[0m\u001b[0;34m(\u001b[0m\u001b[0;34m*\u001b[0m\u001b[0margs\u001b[0m\u001b[0;34m,\u001b[0m \u001b[0;34m**\u001b[0m\u001b[0mkwargs\u001b[0m\u001b[0;34m)\u001b[0m\u001b[0;34m\u001b[0m\u001b[0;34m\u001b[0m\u001b[0m\n\u001b[0m\u001b[1;32m    383\u001b[0m \u001b[0;34m\u001b[0m\u001b[0m\n\u001b[1;32m    384\u001b[0m         \u001b[0;31m# TODO: following entries are added after validation. Should they be validated?\u001b[0m\u001b[0;34m\u001b[0m\u001b[0;34m\u001b[0m\u001b[0;34m\u001b[0m\u001b[0m\n",
      "\u001b[0;32m~/.pyenv/versions/3.8.0/lib/python3.8/site-packages/altair/utils/schemapi.py\u001b[0m in \u001b[0;36mto_dict\u001b[0;34m(self, validate, ignore, context)\u001b[0m\n\u001b[1;32m    323\u001b[0m             \u001b[0mresult\u001b[0m \u001b[0;34m=\u001b[0m \u001b[0m_todict\u001b[0m\u001b[0;34m(\u001b[0m\u001b[0mself\u001b[0m\u001b[0;34m.\u001b[0m\u001b[0m_args\u001b[0m\u001b[0;34m[\u001b[0m\u001b[0;36m0\u001b[0m\u001b[0;34m]\u001b[0m\u001b[0;34m,\u001b[0m \u001b[0mvalidate\u001b[0m\u001b[0;34m=\u001b[0m\u001b[0msub_validate\u001b[0m\u001b[0;34m,\u001b[0m \u001b[0mcontext\u001b[0m\u001b[0;34m=\u001b[0m\u001b[0mcontext\u001b[0m\u001b[0;34m)\u001b[0m\u001b[0;34m\u001b[0m\u001b[0;34m\u001b[0m\u001b[0m\n\u001b[1;32m    324\u001b[0m         \u001b[0;32melif\u001b[0m \u001b[0;32mnot\u001b[0m \u001b[0mself\u001b[0m\u001b[0;34m.\u001b[0m\u001b[0m_args\u001b[0m\u001b[0;34m:\u001b[0m\u001b[0;34m\u001b[0m\u001b[0;34m\u001b[0m\u001b[0m\n\u001b[0;32m--> 325\u001b[0;31m             result = _todict(\n\u001b[0m\u001b[1;32m    326\u001b[0m                 \u001b[0;34m{\u001b[0m\u001b[0mk\u001b[0m\u001b[0;34m:\u001b[0m \u001b[0mv\u001b[0m \u001b[0;32mfor\u001b[0m \u001b[0mk\u001b[0m\u001b[0;34m,\u001b[0m \u001b[0mv\u001b[0m \u001b[0;32min\u001b[0m \u001b[0mself\u001b[0m\u001b[0;34m.\u001b[0m\u001b[0m_kwds\u001b[0m\u001b[0;34m.\u001b[0m\u001b[0mitems\u001b[0m\u001b[0;34m(\u001b[0m\u001b[0;34m)\u001b[0m \u001b[0;32mif\u001b[0m \u001b[0mk\u001b[0m \u001b[0;32mnot\u001b[0m \u001b[0;32min\u001b[0m \u001b[0mignore\u001b[0m\u001b[0;34m}\u001b[0m\u001b[0;34m,\u001b[0m\u001b[0;34m\u001b[0m\u001b[0;34m\u001b[0m\u001b[0m\n\u001b[1;32m    327\u001b[0m                 \u001b[0mvalidate\u001b[0m\u001b[0;34m=\u001b[0m\u001b[0msub_validate\u001b[0m\u001b[0;34m,\u001b[0m\u001b[0;34m\u001b[0m\u001b[0;34m\u001b[0m\u001b[0m\n",
      "\u001b[0;32m~/.pyenv/versions/3.8.0/lib/python3.8/site-packages/altair/utils/schemapi.py\u001b[0m in \u001b[0;36m_todict\u001b[0;34m(obj, validate, context)\u001b[0m\n\u001b[1;32m     58\u001b[0m         \u001b[0;32mreturn\u001b[0m \u001b[0;34m[\u001b[0m\u001b[0m_todict\u001b[0m\u001b[0;34m(\u001b[0m\u001b[0mv\u001b[0m\u001b[0;34m,\u001b[0m \u001b[0mvalidate\u001b[0m\u001b[0;34m,\u001b[0m \u001b[0mcontext\u001b[0m\u001b[0;34m)\u001b[0m \u001b[0;32mfor\u001b[0m \u001b[0mv\u001b[0m \u001b[0;32min\u001b[0m \u001b[0mobj\u001b[0m\u001b[0;34m]\u001b[0m\u001b[0;34m\u001b[0m\u001b[0;34m\u001b[0m\u001b[0m\n\u001b[1;32m     59\u001b[0m     \u001b[0;32melif\u001b[0m \u001b[0misinstance\u001b[0m\u001b[0;34m(\u001b[0m\u001b[0mobj\u001b[0m\u001b[0;34m,\u001b[0m \u001b[0mdict\u001b[0m\u001b[0;34m)\u001b[0m\u001b[0;34m:\u001b[0m\u001b[0;34m\u001b[0m\u001b[0;34m\u001b[0m\u001b[0m\n\u001b[0;32m---> 60\u001b[0;31m         return {\n\u001b[0m\u001b[1;32m     61\u001b[0m             \u001b[0mk\u001b[0m\u001b[0;34m:\u001b[0m \u001b[0m_todict\u001b[0m\u001b[0;34m(\u001b[0m\u001b[0mv\u001b[0m\u001b[0;34m,\u001b[0m \u001b[0mvalidate\u001b[0m\u001b[0;34m,\u001b[0m \u001b[0mcontext\u001b[0m\u001b[0;34m)\u001b[0m\u001b[0;34m\u001b[0m\u001b[0;34m\u001b[0m\u001b[0m\n\u001b[1;32m     62\u001b[0m             \u001b[0;32mfor\u001b[0m \u001b[0mk\u001b[0m\u001b[0;34m,\u001b[0m \u001b[0mv\u001b[0m \u001b[0;32min\u001b[0m \u001b[0mobj\u001b[0m\u001b[0;34m.\u001b[0m\u001b[0mitems\u001b[0m\u001b[0;34m(\u001b[0m\u001b[0;34m)\u001b[0m\u001b[0;34m\u001b[0m\u001b[0;34m\u001b[0m\u001b[0m\n",
      "\u001b[0;32m~/.pyenv/versions/3.8.0/lib/python3.8/site-packages/altair/utils/schemapi.py\u001b[0m in \u001b[0;36m<dictcomp>\u001b[0;34m(.0)\u001b[0m\n\u001b[1;32m     59\u001b[0m     \u001b[0;32melif\u001b[0m \u001b[0misinstance\u001b[0m\u001b[0;34m(\u001b[0m\u001b[0mobj\u001b[0m\u001b[0;34m,\u001b[0m \u001b[0mdict\u001b[0m\u001b[0;34m)\u001b[0m\u001b[0;34m:\u001b[0m\u001b[0;34m\u001b[0m\u001b[0;34m\u001b[0m\u001b[0m\n\u001b[1;32m     60\u001b[0m         return {\n\u001b[0;32m---> 61\u001b[0;31m             \u001b[0mk\u001b[0m\u001b[0;34m:\u001b[0m \u001b[0m_todict\u001b[0m\u001b[0;34m(\u001b[0m\u001b[0mv\u001b[0m\u001b[0;34m,\u001b[0m \u001b[0mvalidate\u001b[0m\u001b[0;34m,\u001b[0m \u001b[0mcontext\u001b[0m\u001b[0;34m)\u001b[0m\u001b[0;34m\u001b[0m\u001b[0;34m\u001b[0m\u001b[0m\n\u001b[0m\u001b[1;32m     62\u001b[0m             \u001b[0;32mfor\u001b[0m \u001b[0mk\u001b[0m\u001b[0;34m,\u001b[0m \u001b[0mv\u001b[0m \u001b[0;32min\u001b[0m \u001b[0mobj\u001b[0m\u001b[0;34m.\u001b[0m\u001b[0mitems\u001b[0m\u001b[0;34m(\u001b[0m\u001b[0;34m)\u001b[0m\u001b[0;34m\u001b[0m\u001b[0;34m\u001b[0m\u001b[0m\n\u001b[1;32m     63\u001b[0m             \u001b[0;32mif\u001b[0m \u001b[0mv\u001b[0m \u001b[0;32mis\u001b[0m \u001b[0;32mnot\u001b[0m \u001b[0mUndefined\u001b[0m\u001b[0;34m\u001b[0m\u001b[0;34m\u001b[0m\u001b[0m\n",
      "\u001b[0;32m~/.pyenv/versions/3.8.0/lib/python3.8/site-packages/altair/utils/schemapi.py\u001b[0m in \u001b[0;36m_todict\u001b[0;34m(obj, validate, context)\u001b[0m\n\u001b[1;32m     54\u001b[0m     \u001b[0;34m\"\"\"Convert an object to a dict representation.\"\"\"\u001b[0m\u001b[0;34m\u001b[0m\u001b[0;34m\u001b[0m\u001b[0m\n\u001b[1;32m     55\u001b[0m     \u001b[0;32mif\u001b[0m \u001b[0misinstance\u001b[0m\u001b[0;34m(\u001b[0m\u001b[0mobj\u001b[0m\u001b[0;34m,\u001b[0m \u001b[0mSchemaBase\u001b[0m\u001b[0;34m)\u001b[0m\u001b[0;34m:\u001b[0m\u001b[0;34m\u001b[0m\u001b[0;34m\u001b[0m\u001b[0m\n\u001b[0;32m---> 56\u001b[0;31m         \u001b[0;32mreturn\u001b[0m \u001b[0mobj\u001b[0m\u001b[0;34m.\u001b[0m\u001b[0mto_dict\u001b[0m\u001b[0;34m(\u001b[0m\u001b[0mvalidate\u001b[0m\u001b[0;34m=\u001b[0m\u001b[0mvalidate\u001b[0m\u001b[0;34m,\u001b[0m \u001b[0mcontext\u001b[0m\u001b[0;34m=\u001b[0m\u001b[0mcontext\u001b[0m\u001b[0;34m)\u001b[0m\u001b[0;34m\u001b[0m\u001b[0;34m\u001b[0m\u001b[0m\n\u001b[0m\u001b[1;32m     57\u001b[0m     \u001b[0;32melif\u001b[0m \u001b[0misinstance\u001b[0m\u001b[0;34m(\u001b[0m\u001b[0mobj\u001b[0m\u001b[0;34m,\u001b[0m \u001b[0;34m(\u001b[0m\u001b[0mlist\u001b[0m\u001b[0;34m,\u001b[0m \u001b[0mtuple\u001b[0m\u001b[0;34m,\u001b[0m \u001b[0mnp\u001b[0m\u001b[0;34m.\u001b[0m\u001b[0mndarray\u001b[0m\u001b[0;34m)\u001b[0m\u001b[0;34m)\u001b[0m\u001b[0;34m:\u001b[0m\u001b[0;34m\u001b[0m\u001b[0;34m\u001b[0m\u001b[0m\n\u001b[1;32m     58\u001b[0m         \u001b[0;32mreturn\u001b[0m \u001b[0;34m[\u001b[0m\u001b[0m_todict\u001b[0m\u001b[0;34m(\u001b[0m\u001b[0mv\u001b[0m\u001b[0;34m,\u001b[0m \u001b[0mvalidate\u001b[0m\u001b[0;34m,\u001b[0m \u001b[0mcontext\u001b[0m\u001b[0;34m)\u001b[0m \u001b[0;32mfor\u001b[0m \u001b[0mv\u001b[0m \u001b[0;32min\u001b[0m \u001b[0mobj\u001b[0m\u001b[0;34m]\u001b[0m\u001b[0;34m\u001b[0m\u001b[0;34m\u001b[0m\u001b[0m\n",
      "\u001b[0;32m~/.pyenv/versions/3.8.0/lib/python3.8/site-packages/altair/vegalite/v4/api.py\u001b[0m in \u001b[0;36mto_dict\u001b[0;34m(self, *args, **kwargs)\u001b[0m\n\u001b[1;32m    125\u001b[0m         \u001b[0;32mif\u001b[0m \u001b[0misinstance\u001b[0m\u001b[0;34m(\u001b[0m\u001b[0mself\u001b[0m\u001b[0;34m.\u001b[0m\u001b[0mcolumn\u001b[0m\u001b[0;34m,\u001b[0m \u001b[0mstr\u001b[0m\u001b[0;34m)\u001b[0m\u001b[0;34m:\u001b[0m\u001b[0;34m\u001b[0m\u001b[0;34m\u001b[0m\u001b[0m\n\u001b[1;32m    126\u001b[0m             \u001b[0mcopy\u001b[0m\u001b[0;34m.\u001b[0m\u001b[0mcolumn\u001b[0m \u001b[0;34m=\u001b[0m \u001b[0mcore\u001b[0m\u001b[0;34m.\u001b[0m\u001b[0mFacetFieldDef\u001b[0m\u001b[0;34m(\u001b[0m\u001b[0;34m**\u001b[0m\u001b[0mutils\u001b[0m\u001b[0;34m.\u001b[0m\u001b[0mparse_shorthand\u001b[0m\u001b[0;34m(\u001b[0m\u001b[0mself\u001b[0m\u001b[0;34m.\u001b[0m\u001b[0mcolumn\u001b[0m\u001b[0;34m,\u001b[0m \u001b[0mdata\u001b[0m\u001b[0;34m)\u001b[0m\u001b[0;34m)\u001b[0m\u001b[0;34m\u001b[0m\u001b[0;34m\u001b[0m\u001b[0m\n\u001b[0;32m--> 127\u001b[0;31m         \u001b[0;32mreturn\u001b[0m \u001b[0msuper\u001b[0m\u001b[0;34m(\u001b[0m\u001b[0mFacetMapping\u001b[0m\u001b[0;34m,\u001b[0m \u001b[0mcopy\u001b[0m\u001b[0;34m)\u001b[0m\u001b[0;34m.\u001b[0m\u001b[0mto_dict\u001b[0m\u001b[0;34m(\u001b[0m\u001b[0;34m*\u001b[0m\u001b[0margs\u001b[0m\u001b[0;34m,\u001b[0m \u001b[0;34m**\u001b[0m\u001b[0mkwargs\u001b[0m\u001b[0;34m)\u001b[0m\u001b[0;34m\u001b[0m\u001b[0;34m\u001b[0m\u001b[0m\n\u001b[0m\u001b[1;32m    128\u001b[0m \u001b[0;34m\u001b[0m\u001b[0m\n\u001b[1;32m    129\u001b[0m \u001b[0;34m\u001b[0m\u001b[0m\n",
      "\u001b[0;32m~/.pyenv/versions/3.8.0/lib/python3.8/site-packages/altair/utils/schemapi.py\u001b[0m in \u001b[0;36mto_dict\u001b[0;34m(self, validate, ignore, context)\u001b[0m\n\u001b[1;32m    337\u001b[0m                 \u001b[0mself\u001b[0m\u001b[0;34m.\u001b[0m\u001b[0mvalidate\u001b[0m\u001b[0;34m(\u001b[0m\u001b[0mresult\u001b[0m\u001b[0;34m)\u001b[0m\u001b[0;34m\u001b[0m\u001b[0;34m\u001b[0m\u001b[0m\n\u001b[1;32m    338\u001b[0m             \u001b[0;32mexcept\u001b[0m \u001b[0mjsonschema\u001b[0m\u001b[0;34m.\u001b[0m\u001b[0mValidationError\u001b[0m \u001b[0;32mas\u001b[0m \u001b[0merr\u001b[0m\u001b[0;34m:\u001b[0m\u001b[0;34m\u001b[0m\u001b[0;34m\u001b[0m\u001b[0m\n\u001b[0;32m--> 339\u001b[0;31m                 \u001b[0;32mraise\u001b[0m \u001b[0mSchemaValidationError\u001b[0m\u001b[0;34m(\u001b[0m\u001b[0mself\u001b[0m\u001b[0;34m,\u001b[0m \u001b[0merr\u001b[0m\u001b[0;34m)\u001b[0m\u001b[0;34m\u001b[0m\u001b[0;34m\u001b[0m\u001b[0m\n\u001b[0m\u001b[1;32m    340\u001b[0m         \u001b[0;32mreturn\u001b[0m \u001b[0mresult\u001b[0m\u001b[0;34m\u001b[0m\u001b[0;34m\u001b[0m\u001b[0m\n\u001b[1;32m    341\u001b[0m \u001b[0;34m\u001b[0m\u001b[0m\n",
      "\u001b[0;31mSchemaValidationError\u001b[0m: Invalid specification\n\n        altair.vegalite.v4.api.FacetMapping->column, validating 'type'\n\n        ['Mon', 'Tue', 'Wed', 'Thu', 'Fri', 'Sat', 'Sun'] is not of type 'object'\n        "
     ]
    },
    {
     "data": {
      "text/plain": [
       "alt.FacetChart(...)"
      ]
     },
     "execution_count": 42,
     "metadata": {},
     "output_type": "execute_result"
    }
   ],
   "source": [
    "(hist + text).facet(\n",
    "    facet=alt.Facet(\"publication_date:T\", title=\"Reported Deaths per Day\"),\n",
    "    columns=7,\n",
    ").transform_filter(\"datum.date >= datetime(2020,3,6)\")\n",
    "\n",
    "(hist + text).facet(data=url, \n",
    "    row=\"publication_date:T\",\n",
    "    column=week_order,\n",
    ").transform_filter(\"datum.date >= datetime(2020,3,6)\")"
   ]
  },
  {
   "cell_type": "code",
   "execution_count": null,
   "metadata": {},
   "outputs": [],
   "source": []
  }
 ],
 "metadata": {
  "kernelspec": {
   "display_name": "Python 3.8.0 64-bit ('3.8.0': pyenv)",
   "language": "python",
   "name": "python38064bit380pyenv663c04aa123640ccb340a8745709dbbc"
  },
  "language_info": {
   "codemirror_mode": {
    "name": "ipython",
    "version": 3
   },
   "file_extension": ".py",
   "mimetype": "text/x-python",
   "name": "python",
   "nbconvert_exporter": "python",
   "pygments_lexer": "ipython3",
   "version": "3.8.0"
  }
 },
 "nbformat": 4,
 "nbformat_minor": 4
}
