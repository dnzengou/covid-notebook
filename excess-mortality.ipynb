{
 "cells": [
  {
   "cell_type": "code",
   "execution_count": 1,
   "metadata": {},
   "outputs": [],
   "source": [
    "import pandas as pd\n",
    "import numpy as np\n",
    "import altair as alt\n",
    "from covid import dataimport\n",
    "\n",
    "base_url = \"https://raw.githubusercontent.com/morberg/covid-notebook/master/data/\"\n",
    "combined_url = base_url + \"combined.json\"\n",
    "scb_url = base_url + \"scb.json\""
   ]
  },
  {
   "cell_type": "code",
   "execution_count": 2,
   "metadata": {},
   "outputs": [],
   "source": [
    "data_scb = dataimport.get_scb_county_data()\n",
    "latest_data_point = data_scb.date.max()"
   ]
  },
  {
   "cell_type": "code",
   "execution_count": 3,
   "metadata": {},
   "outputs": [],
   "source": [
    "today = pd.datetime.today()"
   ]
  },
  {
   "cell_type": "markdown",
   "metadata": {},
   "source": [
    "# Excess mortality in Sweden 2020\n",
    "\n",
    "Charts that show excess mortality in 2020 compared to 2018-2019. Based on data [published weekly by Statistiska Centralbyrån](https://scb.se/hitta-statistik/statistik-efter-amne/befolkning/befolkningens-sammansattning/befolkningsstatistik/pong/tabell-och-diagram/preliminar-statistik-over-doda/). Due to reporting lag the data for the last two weeks will change.\n",
    "\n",
    "## Total weekly deaths \n",
    "\n",
    "Numbers for Covid-19 deaths from FHM marked in orange."
   ]
  },
  {
   "cell_type": "code",
   "execution_count": 4,
   "metadata": {},
   "outputs": [
    {
     "output_type": "execute_result",
     "data": {
      "text/html": "\n<div id=\"altair-viz-7743e697a82c4f58820d751ccd0b8813\"></div>\n<script type=\"text/javascript\">\n  (function(spec, embedOpt){\n    let outputDiv = document.currentScript.previousElementSibling;\n    if (outputDiv.id !== \"altair-viz-7743e697a82c4f58820d751ccd0b8813\") {\n      outputDiv = document.getElementById(\"altair-viz-7743e697a82c4f58820d751ccd0b8813\");\n    }\n    const paths = {\n      \"vega\": \"https://cdn.jsdelivr.net/npm//vega@5?noext\",\n      \"vega-lib\": \"https://cdn.jsdelivr.net/npm//vega-lib?noext\",\n      \"vega-lite\": \"https://cdn.jsdelivr.net/npm//vega-lite@4.8.1?noext\",\n      \"vega-embed\": \"https://cdn.jsdelivr.net/npm//vega-embed@6?noext\",\n    };\n\n    function loadScript(lib) {\n      return new Promise(function(resolve, reject) {\n        var s = document.createElement('script');\n        s.src = paths[lib];\n        s.async = true;\n        s.onload = () => resolve(paths[lib]);\n        s.onerror = () => reject(`Error loading script: ${paths[lib]}`);\n        document.getElementsByTagName(\"head\")[0].appendChild(s);\n      });\n    }\n\n    function showError(err) {\n      outputDiv.innerHTML = `<div class=\"error\" style=\"color:red;\">${err}</div>`;\n      throw err;\n    }\n\n    function displayChart(vegaEmbed) {\n      vegaEmbed(outputDiv, spec, embedOpt)\n        .catch(err => showError(`Javascript Error: ${err.message}<br>This usually means there's a typo in your chart specification. See the javascript console for the full traceback.`));\n    }\n\n    if(typeof define === \"function\" && define.amd) {\n      requirejs.config({paths});\n      require([\"vega-embed\"], displayChart, err => showError(`Error loading script: ${err.message}`));\n    } else if (typeof vegaEmbed === \"function\") {\n      displayChart(vegaEmbed);\n    } else {\n      loadScript(\"vega\")\n        .then(() => loadScript(\"vega-lite\"))\n        .then(() => loadScript(\"vega-embed\"))\n        .catch(showError)\n        .then(() => displayChart(vegaEmbed));\n    }\n  })({\"config\": {\"view\": {\"continuousWidth\": 400, \"continuousHeight\": 300}}, \"layer\": [{\"mark\": {\"type\": \"bar\", \"size\": 14}, \"encoding\": {\"color\": {\"type\": \"nominal\", \"field\": \"death_cause\", \"sort\": \"descending\", \"title\": \"2020\"}, \"x\": {\"type\": \"temporal\", \"axis\": {\"format\": \"%b\"}, \"field\": \"date\", \"timeUnit\": \"monthdate\", \"title\": \"Month\"}, \"y\": {\"type\": \"quantitative\", \"field\": \"deaths\", \"title\": \"Weekly Deaths\"}}, \"height\": 400, \"title\": {\"text\": \"Weekly Deaths in Sweden 2018-2020\", \"subtitle\": \"Data published 2020-07-16 by SCB\"}, \"transform\": [{\"filter\": \"year(datum.date) == 2020\"}, {\"filter\": \"dayofyear(datum.date) <= (dayofyear(now()) - 14)\"}], \"width\": 750}, {\"mark\": {\"type\": \"bar\", \"opacity\": 0.3, \"size\": 14}, \"encoding\": {\"color\": {\"type\": \"nominal\", \"field\": \"death_cause\", \"legend\": null, \"sort\": \"descending\", \"title\": \"2020\"}, \"x\": {\"type\": \"temporal\", \"axis\": {\"format\": \"%b\"}, \"field\": \"date\", \"timeUnit\": \"monthdate\", \"title\": \"Month\"}, \"y\": {\"type\": \"quantitative\", \"field\": \"deaths\", \"title\": \"Weekly Deaths\"}}, \"height\": 400, \"title\": {\"text\": \"Weekly Deaths in Sweden 2018-2020\", \"subtitle\": \"Data published 2020-07-16 by SCB\"}, \"transform\": [{\"filter\": \"year(datum.date) == 2020\"}], \"width\": 750}, {\"mark\": {\"type\": \"line\", \"opacity\": 1, \"size\": 3}, \"encoding\": {\"color\": {\"type\": \"nominal\", \"field\": \"date\", \"scale\": {\"range\": [\"#b9b9b9\", \"#898989\"]}, \"timeUnit\": \"year\", \"title\": \"\"}, \"x\": {\"type\": \"temporal\", \"axis\": {\"format\": \"%b\"}, \"field\": \"date\", \"timeUnit\": \"monthdate\", \"title\": \"Month\"}, \"y\": {\"type\": \"quantitative\", \"aggregate\": \"mean\", \"field\": \"sum_deaths\"}}, \"height\": 400, \"title\": {\"text\": \"Weekly Deaths in Sweden 2018-2020\", \"subtitle\": \"Data published 2020-07-16 by SCB\"}, \"transform\": [{\"filter\": \"year(datum.date) < 2020\"}, {\"aggregate\": [{\"op\": \"sum\", \"field\": \"deaths\", \"as\": \"sum_deaths\"}], \"groupby\": [\"date\"]}], \"width\": 750}], \"data\": {\"url\": \"data/combined.json\"}, \"resolve\": {\"scale\": {\"color\": \"independent\"}}, \"$schema\": \"https://vega.github.io/schema/vega-lite/v4.8.1.json\"}, {\"mode\": \"vega-lite\"});\n</script>",
      "text/plain": "alt.LayerChart(...)"
     },
     "metadata": {},
     "execution_count": 4
    }
   ],
   "source": [
    "base = alt.Chart('data/combined.json', height=400, width=750, title={\n",
    "        \"text\": 'Weekly Deaths in Sweden 2018-2020',\n",
    "        \"subtitle\": f'Data published {latest_data_point.date().isoformat()} by SCB'}).encode(\n",
    "    x=alt.X('monthdate(date):T', axis=alt.Axis(format=\"%b\"), title='Month')\n",
    ")\n",
    "\n",
    "history = base.mark_line(size=3, opacity=1).transform_filter(\n",
    "    'year(datum.date) < 2020'\n",
    ").transform_aggregate(\n",
    "    sum_deaths='sum(deaths):Q',\n",
    "    groupby=['date']\n",
    ").encode(\n",
    "    y='mean(sum_deaths):Q',\n",
    "    color=alt.Color('year(date):N', title='', scale=alt.Scale(range=['#b9b9b9', '#898989']))\n",
    ")\n",
    "\n",
    "covid_base = base.encode(\n",
    "    y=alt.Y('deaths:Q', title='Weekly Deaths'),\n",
    "    color=alt.Color('death_cause:N', title='2020', sort='descending')\n",
    ").transform_filter(\n",
    "    'year(datum.date) == 2020'\n",
    ")\n",
    "\n",
    "# Should really use latest data point here instead of now().\n",
    "# Don't know how to get that into the vega lite expression.\n",
    "covid = covid_base.mark_bar(size=14).transform_filter(\n",
    "    'dayofyear(datum.date) <= (dayofyear(now()) - 14)'\n",
    ")\n",
    "\n",
    "covid_uncertain = covid_base.mark_bar(size=14,opacity=0.3).encode(\n",
    "    color=alt.Color('death_cause:N', title='2020', sort='descending', legend=None)\n",
    "\n",
    ")\n",
    "\n",
    "(covid + covid_uncertain + history).resolve_scale(color='independent')"
   ]
  },
  {
   "cell_type": "markdown",
   "metadata": {},
   "source": [
    "## Total deaths with filter on county level\n",
    "\n",
    "Click on a county marker in the legend to the right to include/exclude it in the total numbers."
   ]
  },
  {
   "cell_type": "code",
   "execution_count": 5,
   "metadata": {},
   "outputs": [
    {
     "output_type": "execute_result",
     "data": {
      "text/html": "\n<div id=\"altair-viz-a6a790310cfc409188fad6b9d21bc611\"></div>\n<script type=\"text/javascript\">\n  (function(spec, embedOpt){\n    let outputDiv = document.currentScript.previousElementSibling;\n    if (outputDiv.id !== \"altair-viz-a6a790310cfc409188fad6b9d21bc611\") {\n      outputDiv = document.getElementById(\"altair-viz-a6a790310cfc409188fad6b9d21bc611\");\n    }\n    const paths = {\n      \"vega\": \"https://cdn.jsdelivr.net/npm//vega@5?noext\",\n      \"vega-lib\": \"https://cdn.jsdelivr.net/npm//vega-lib?noext\",\n      \"vega-lite\": \"https://cdn.jsdelivr.net/npm//vega-lite@4.8.1?noext\",\n      \"vega-embed\": \"https://cdn.jsdelivr.net/npm//vega-embed@6?noext\",\n    };\n\n    function loadScript(lib) {\n      return new Promise(function(resolve, reject) {\n        var s = document.createElement('script');\n        s.src = paths[lib];\n        s.async = true;\n        s.onload = () => resolve(paths[lib]);\n        s.onerror = () => reject(`Error loading script: ${paths[lib]}`);\n        document.getElementsByTagName(\"head\")[0].appendChild(s);\n      });\n    }\n\n    function showError(err) {\n      outputDiv.innerHTML = `<div class=\"error\" style=\"color:red;\">${err}</div>`;\n      throw err;\n    }\n\n    function displayChart(vegaEmbed) {\n      vegaEmbed(outputDiv, spec, embedOpt)\n        .catch(err => showError(`Javascript Error: ${err.message}<br>This usually means there's a typo in your chart specification. See the javascript console for the full traceback.`));\n    }\n\n    if(typeof define === \"function\" && define.amd) {\n      requirejs.config({paths});\n      require([\"vega-embed\"], displayChart, err => showError(`Error loading script: ${err.message}`));\n    } else if (typeof vegaEmbed === \"function\") {\n      displayChart(vegaEmbed);\n    } else {\n      loadScript(\"vega\")\n        .then(() => loadScript(\"vega-lite\"))\n        .then(() => loadScript(\"vega-embed\"))\n        .catch(showError)\n        .then(() => displayChart(vegaEmbed));\n    }\n  })({\"config\": {\"view\": {\"continuousWidth\": 400, \"continuousHeight\": 300}}, \"hconcat\": [{\"layer\": [{\"mark\": {\"type\": \"line\", \"opacity\": 0.4, \"size\": 2}, \"encoding\": {\"color\": {\"type\": \"nominal\", \"field\": \"date\", \"timeUnit\": \"year\", \"title\": \"Year\"}, \"x\": {\"type\": \"temporal\", \"axis\": {\"format\": \"%b\"}, \"field\": \"date\", \"timeUnit\": \"monthdate\", \"title\": null}, \"y\": {\"type\": \"quantitative\", \"aggregate\": \"sum\", \"field\": \"deaths\", \"title\": \"Weekly Deaths\"}}, \"height\": 400, \"title\": {\"text\": \"Weekly Deaths in Sweden 2018-2020\", \"subtitle\": \"Data published 2020-07-16 by SCB\"}, \"transform\": [{\"filter\": \"year(datum.date) < 2020\"}], \"width\": 700}, {\"mark\": {\"type\": \"line\", \"opacity\": 1, \"size\": 5}, \"encoding\": {\"color\": {\"type\": \"nominal\", \"field\": \"date\", \"scale\": {\"range\": [\"#e45757\"]}, \"timeUnit\": \"year\", \"title\": null}, \"x\": {\"type\": \"temporal\", \"axis\": {\"format\": \"%b\"}, \"field\": \"date\", \"timeUnit\": \"monthdate\", \"title\": null}, \"y\": {\"type\": \"quantitative\", \"aggregate\": \"sum\", \"field\": \"deaths\"}}, \"height\": 400, \"title\": {\"text\": \"Weekly Deaths in Sweden 2018-2020\", \"subtitle\": \"Data published 2020-07-16 by SCB\"}, \"transform\": [{\"filter\": \"year(datum.date) == 2020 & week(datum.date) < 29\"}], \"width\": 700}], \"resolve\": {\"scale\": {\"color\": \"independent\"}}, \"transform\": [{\"filter\": {\"selection\": \"selector001\"}}]}, {\"mark\": {\"type\": \"square\", \"size\": 150}, \"encoding\": {\"color\": {\"condition\": {\"value\": \"#e45757\", \"selection\": \"selector001\"}, \"value\": \"lightgrey\"}, \"tooltip\": [{\"type\": \"quantitative\", \"aggregate\": \"sum\", \"field\": \"deaths\", \"title\": \"Total Deaths 2020\"}, {\"type\": \"nominal\", \"field\": \"county\"}], \"x\": {\"type\": \"quantitative\", \"aggregate\": \"sum\", \"field\": \"deaths\", \"title\": \"Total Deaths 2020\"}, \"y\": {\"type\": \"nominal\", \"axis\": {\"orient\": \"right\"}, \"field\": \"county\", \"title\": null}}, \"height\": 320, \"selection\": {\"selector001\": {\"type\": \"multi\", \"toggle\": \"true\", \"encodings\": [\"y\"]}, \"selector002\": {\"type\": \"interval\", \"bind\": \"scales\", \"encodings\": [\"x\", \"y\"]}}, \"transform\": [{\"filter\": \"year(datum.date) == 2020 & week(datum.date) < 29\"}], \"width\": 60}], \"data\": {\"url\": \"https://raw.githubusercontent.com/morberg/covid-notebook/master/data/scb.json\"}, \"$schema\": \"https://vega.github.io/schema/vega-lite/v4.8.1.json\"}, {\"mode\": \"vega-lite\"});\n</script>",
      "text/plain": "alt.HConcatChart(...)"
     },
     "metadata": {},
     "execution_count": 5
    }
   ],
   "source": [
    "last_week_to_show = latest_data_point.week\n",
    "filter = f'year(datum.date) == 2020 & week(datum.date) < {last_week_to_show}'\n",
    "\n",
    "base = alt.Chart(scb_url, height=400, width=700, title={\n",
    "        \"text\": 'Weekly Deaths in Sweden 2018-2020',\n",
    "        \"subtitle\": f'Data published {latest_data_point.date().isoformat()} by SCB'}).encode(\n",
    "    x=alt.X('monthdate(date):T', axis=alt.Axis(format=\"%b\"), title=None),\n",
    "    y=alt.Y('sum(deaths):Q', title='Weekly Deaths'),\n",
    ")\n",
    "\n",
    "history = base.mark_line(opacity=0.4, size=2).encode(color=alt.Color('year(date):N', title='Year')).transform_filter(\n",
    "    \"year(datum.date) < 2020\"\n",
    ")\n",
    "\n",
    "current = base.encode().mark_line(size=5, opacity=1).transform_filter(\n",
    "    filter\n",
    ").encode(\n",
    "    y='sum(deaths):Q',\n",
    "    color=alt.Color('year(date):N', title=None, scale=alt.Scale(range=['#e45757']))\n",
    ")\n",
    "\n",
    "selection = alt.selection_multi(toggle='true', encodings=['y'])\n",
    "\n",
    "legend = alt.Chart(scb_url, height=320, width=60).mark_square(size=150).encode(\n",
    "    y=alt.Y('county:N', axis=alt.Axis(orient='right'), title=None),\n",
    "    x=alt.X('sum(deaths):Q', title='Total Deaths 2020'),\n",
    "    color=alt.condition(selection, alt.value('#e45757'), alt.value('lightgrey')),\n",
    "    tooltip=[alt.Tooltip('sum(deaths):Q', title='Total Deaths 2020'), 'county:N'],\n",
    ").add_selection(\n",
    "    selection\n",
    ").transform_filter(\n",
    "    filter\n",
    ").interactive()\n",
    "\n",
    "(history + current).transform_filter(selection).resolve_scale(color='independent') | legend"
   ]
  },
  {
   "cell_type": "markdown",
   "metadata": {},
   "source": [
    "## Cumulative deaths 2018-2020 by County\n",
    "\n",
    "An illustration of excess deaths in 2020 per county compared to 2018 and 2019."
   ]
  },
  {
   "cell_type": "code",
   "execution_count": 6,
   "metadata": {},
   "outputs": [
    {
     "output_type": "execute_result",
     "data": {
      "text/html": "\n<div id=\"altair-viz-1d8c9631be624da69d316adbcf52b403\"></div>\n<script type=\"text/javascript\">\n  (function(spec, embedOpt){\n    let outputDiv = document.currentScript.previousElementSibling;\n    if (outputDiv.id !== \"altair-viz-1d8c9631be624da69d316adbcf52b403\") {\n      outputDiv = document.getElementById(\"altair-viz-1d8c9631be624da69d316adbcf52b403\");\n    }\n    const paths = {\n      \"vega\": \"https://cdn.jsdelivr.net/npm//vega@5?noext\",\n      \"vega-lib\": \"https://cdn.jsdelivr.net/npm//vega-lib?noext\",\n      \"vega-lite\": \"https://cdn.jsdelivr.net/npm//vega-lite@4.8.1?noext\",\n      \"vega-embed\": \"https://cdn.jsdelivr.net/npm//vega-embed@6?noext\",\n    };\n\n    function loadScript(lib) {\n      return new Promise(function(resolve, reject) {\n        var s = document.createElement('script');\n        s.src = paths[lib];\n        s.async = true;\n        s.onload = () => resolve(paths[lib]);\n        s.onerror = () => reject(`Error loading script: ${paths[lib]}`);\n        document.getElementsByTagName(\"head\")[0].appendChild(s);\n      });\n    }\n\n    function showError(err) {\n      outputDiv.innerHTML = `<div class=\"error\" style=\"color:red;\">${err}</div>`;\n      throw err;\n    }\n\n    function displayChart(vegaEmbed) {\n      vegaEmbed(outputDiv, spec, embedOpt)\n        .catch(err => showError(`Javascript Error: ${err.message}<br>This usually means there's a typo in your chart specification. See the javascript console for the full traceback.`));\n    }\n\n    if(typeof define === \"function\" && define.amd) {\n      requirejs.config({paths});\n      require([\"vega-embed\"], displayChart, err => showError(`Error loading script: ${err.message}`));\n    } else if (typeof vegaEmbed === \"function\") {\n      displayChart(vegaEmbed);\n    } else {\n      loadScript(\"vega\")\n        .then(() => loadScript(\"vega-lite\"))\n        .then(() => loadScript(\"vega-embed\"))\n        .catch(showError)\n        .then(() => displayChart(vegaEmbed));\n    }\n  })({\"config\": {\"view\": {\"continuousWidth\": 400, \"continuousHeight\": 300}}, \"data\": {\"url\": \"https://raw.githubusercontent.com/morberg/covid-notebook/master/data/scb.json\"}, \"facet\": {\"type\": \"nominal\", \"field\": \"county\", \"title\": \"Cumulative Deaths 2018-2020 by County\"}, \"spec\": {\"mark\": \"line\", \"encoding\": {\"color\": {\"type\": \"nominal\", \"field\": \"date\", \"scale\": {\"range\": [\"#d9d9d9\", \"#b9b9b9\", \"#e6550d\"]}, \"timeUnit\": \"year\", \"title\": \"Year\"}, \"tooltip\": [{\"type\": \"temporal\", \"field\": \"date\"}, {\"type\": \"quantitative\", \"field\": \"cumulative_deaths\", \"title\": \"Deaths\"}], \"x\": {\"type\": \"temporal\", \"axis\": {\"format\": \"%b\"}, \"field\": \"date\", \"timeUnit\": \"monthdate\", \"title\": \"Date\"}, \"y\": {\"type\": \"quantitative\", \"field\": \"cumulative_deaths\", \"title\": \"\"}}, \"height\": 160, \"width\": 160}, \"columns\": 4, \"resolve\": {\"scale\": {\"y\": \"independent\"}}, \"$schema\": \"https://vega.github.io/schema/vega-lite/v4.8.1.json\"}, {\"mode\": \"vega-lite\"});\n</script>",
      "text/plain": "alt.FacetChart(...)"
     },
     "metadata": {},
     "execution_count": 6
    }
   ],
   "source": [
    "alt.Chart(scb_url, height=160, width=160).mark_line().encode(\n",
    "    x=alt.X('monthdate(date):T', title='Date', axis=alt.Axis(format=\"%b\")),\n",
    "    y=alt.Y('cumulative_deaths:Q', title=''),\n",
    "    color=alt.Color('year(date):N', title='Year', scale=alt.Scale(range=['#d9d9d9', '#b9b9b9', '#e6550d'])),\n",
    "    tooltip=['date:T', alt.Tooltip('cumulative_deaths:Q', title='Deaths')]\n",
    ").facet(\n",
    "    facet=alt.Facet(\"county:N\", title=\"Cumulative Deaths 2018-2020 by County\"),\n",
    "    columns=4,\n",
    ").resolve_scale(y='independent')"
   ]
  }
 ],
 "metadata": {
  "kernelspec": {
   "display_name": "Python 3.8.0 64-bit ('3.8.0': pyenv)",
   "language": "python",
   "name": "python38064bit380pyenv663c04aa123640ccb340a8745709dbbc"
  },
  "language_info": {
   "codemirror_mode": {
    "name": "ipython",
    "version": 3
   },
   "file_extension": ".py",
   "mimetype": "text/x-python",
   "name": "python",
   "nbconvert_exporter": "python",
   "pygments_lexer": "ipython3",
   "version": "3.8.0-final"
  }
 },
 "nbformat": 4,
 "nbformat_minor": 4
}