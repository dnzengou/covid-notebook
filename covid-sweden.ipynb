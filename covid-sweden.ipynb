{
 "cells": [
  {
   "cell_type": "code",
   "execution_count": 15,
   "metadata": {},
   "outputs": [],
   "source": [
    "import altair as alt\n",
    "import pandas as pd\n",
    "import numpy as np\n",
    "import datetime as dt\n",
    "from covid import dataimport"
   ]
  },
  {
   "cell_type": "code",
   "execution_count": 16,
   "metadata": {},
   "outputs": [],
   "source": [
    "fhm_data, labels = dataimport.get_lag_data()\n",
    "local_url = 'data/fhm.json'\n",
    "fhm_data.to_json(local_url, orient='records')\n",
    "url = \"https://raw.githubusercontent.com/morberg/covid-notebook/master/data/fhm.json\""
   ]
  },
  {
   "cell_type": "markdown",
   "metadata": {},
   "source": [
    "# Covid-19 graphs for Sweden\n",
    "\n",
    "## Covid-19 death date, reporting date, and lag\n",
    "\n",
    "Interactive graph showing the number of reported Covid-19 deaths in Sweden. Select dates in the bottom *Publication Date* graph by clicking and dragging. Gray bars is a prediction based on average lag for the past three weeks. See [Adam Altmejd's repo](https://github.com/adamaltmejd/covid) for details."
   ]
  },
  {
   "cell_type": "code",
   "execution_count": 44,
   "metadata": {
    "tags": []
   },
   "outputs": [
    {
     "output_type": "stream",
     "name": "stdout",
     "text": "Total deaths reported by Monday, June 29: 5310\n"
    }
   ],
   "source": [
    "total_deaths = fhm_data[fhm_data.publication_date == fhm_data.publication_date.max()].N.sum()\n",
    "print(f'Total deaths reported by {fhm_data.publication_date.max():%A, %B %d}: {total_deaths}')"
   ]
  },
  {
   "cell_type": "code",
   "execution_count": 20,
   "metadata": {},
   "outputs": [
    {
     "output_type": "execute_result",
     "data": {
      "text/html": "\n<div id=\"altair-viz-c76a6d5659cd46e3a53d4bde20a7adb2\"></div>\n<script type=\"text/javascript\">\n  (function(spec, embedOpt){\n    let outputDiv = document.currentScript.previousElementSibling;\n    if (outputDiv.id !== \"altair-viz-c76a6d5659cd46e3a53d4bde20a7adb2\") {\n      outputDiv = document.getElementById(\"altair-viz-c76a6d5659cd46e3a53d4bde20a7adb2\");\n    }\n    const paths = {\n      \"vega\": \"https://cdn.jsdelivr.net/npm//vega@5?noext\",\n      \"vega-lib\": \"https://cdn.jsdelivr.net/npm//vega-lib?noext\",\n      \"vega-lite\": \"https://cdn.jsdelivr.net/npm//vega-lite@4.8.1?noext\",\n      \"vega-embed\": \"https://cdn.jsdelivr.net/npm//vega-embed@6?noext\",\n    };\n\n    function loadScript(lib) {\n      return new Promise(function(resolve, reject) {\n        var s = document.createElement('script');\n        s.src = paths[lib];\n        s.async = true;\n        s.onload = () => resolve(paths[lib]);\n        s.onerror = () => reject(`Error loading script: ${paths[lib]}`);\n        document.getElementsByTagName(\"head\")[0].appendChild(s);\n      });\n    }\n\n    function showError(err) {\n      outputDiv.innerHTML = `<div class=\"error\" style=\"color:red;\">${err}</div>`;\n      throw err;\n    }\n\n    function displayChart(vegaEmbed) {\n      vegaEmbed(outputDiv, spec, embedOpt)\n        .catch(err => showError(`Javascript Error: ${err.message}<br>This usually means there's a typo in your chart specification. See the javascript console for the full traceback.`));\n    }\n\n    if(typeof define === \"function\" && define.amd) {\n      requirejs.config({paths});\n      require([\"vega-embed\"], displayChart, err => showError(`Error loading script: ${err.message}`));\n    } else if (typeof vegaEmbed === \"function\") {\n      displayChart(vegaEmbed);\n    } else {\n      loadScript(\"vega\")\n        .then(() => loadScript(\"vega-lite\"))\n        .then(() => loadScript(\"vega-embed\"))\n        .catch(showError)\n        .then(() => displayChart(vegaEmbed));\n    }\n  })({\"config\": {\"view\": {\"continuousWidth\": 400, \"continuousHeight\": 300}}, \"hconcat\": [{\"vconcat\": [{\"layer\": [{\"mark\": {\"type\": \"bar\", \"color\": \"#E8E8E8\"}, \"encoding\": {\"x\": {\"type\": \"temporal\", \"field\": \"date\", \"timeUnit\": \"yearmonthdate\"}, \"y\": {\"type\": \"quantitative\", \"aggregate\": {\"argmax\": \"publication_date\"}, \"field\": \"prediction\"}}, \"transform\": [{\"filter\": {\"selection\": \"selector007\"}}]}, {\"mark\": \"bar\", \"encoding\": {\"color\": {\"type\": \"ordinal\", \"field\": \"lag\", \"scale\": {\"scheme\": \"category20c\"}, \"sort\": [\"0\", \"1\", \"2\", \"3\", \"4\", \"5\", \"6\", \"7\", \"8\", \"9\", \"10\", \"11\", \"12+\"], \"title\": \"Lag in Days\"}, \"order\": {\"type\": \"nominal\", \"field\": \"days_since_publication\", \"sort\": \"ascending\"}, \"x\": {\"type\": \"temporal\", \"field\": \"date\", \"scale\": {\"domain\": [\"2020-03-13\", \"2020-06-30\"]}, \"timeUnit\": \"yearmonthdate\", \"title\": \"Date Deceased\"}, \"y\": {\"type\": \"quantitative\", \"aggregate\": \"sum\", \"field\": \"n_diff\", \"scale\": {\"domain\": [0, 116.0]}, \"title\": \"Deceased\"}}, \"height\": 400, \"transform\": [{\"filter\": {\"selection\": \"selector007\"}}, {\"filter\": \"datum.date >= datetime(2020,2,13)\"}]}, {\"mark\": {\"type\": \"text\", \"align\": \"right\", \"fontSize\": 18, \"x\": 692, \"y\": 19}, \"encoding\": {\"text\": {\"type\": \"nominal\", \"field\": \"text\"}}, \"transform\": [{\"filter\": {\"selection\": \"selector007\"}}, {\"aggregate\": [{\"op\": \"sum\", \"field\": \"n_diff\", \"as\": \"sum_deaths\"}]}, {\"calculate\": \"('Total deaths: ' + datum.sum_deaths)\", \"as\": \"text\"}]}], \"width\": 750}, {\"mark\": \"bar\", \"encoding\": {\"tooltip\": [{\"type\": \"quantitative\", \"aggregate\": \"sum\", \"field\": \"n_diff\", \"title\": \"Reported Deaths\"}, {\"type\": \"temporal\", \"field\": \"publication_date\"}], \"x\": {\"type\": \"temporal\", \"field\": \"publication_date\", \"scale\": {\"domain\": [\"2020-03-13\", \"2020-06-30\"]}, \"timeUnit\": \"yearmonthdate\", \"title\": \"Publication Date\"}, \"y\": {\"type\": \"quantitative\", \"aggregate\": \"sum\", \"field\": \"n_diff\", \"title\": \"Reported Deaths\"}}, \"height\": 100, \"selection\": {\"selector007\": {\"type\": \"interval\", \"encodings\": [\"x\"]}}, \"width\": 750}]}, {\"mark\": \"bar\", \"encoding\": {\"color\": {\"type\": \"ordinal\", \"field\": \"lag\", \"legend\": null, \"sort\": [\"0\", \"1\", \"2\", \"3\", \"4\", \"5\", \"6\", \"7\", \"8\", \"9\", \"10\", \"11\", \"12+\"]}, \"x\": {\"type\": \"quantitative\", \"aggregate\": \"sum\", \"field\": \"n_diff\", \"title\": \"Reported Deaths\"}, \"y\": {\"type\": \"ordinal\", \"field\": \"lag\", \"sort\": [\"0\", \"1\", \"2\", \"3\", \"4\", \"5\", \"6\", \"7\", \"8\", \"9\", \"10\", \"11\", \"12+\"], \"title\": \"\"}}, \"title\": \"Lag in Days\", \"transform\": [{\"filter\": {\"selection\": \"selector007\"}}], \"width\": 50}], \"data\": {\"url\": \"https://raw.githubusercontent.com/morberg/covid-notebook/master/data/fhm.json\"}, \"$schema\": \"https://vega.github.io/schema/vega-lite/v4.8.1.json\"}, {\"mode\": \"vega-lite\"});\n</script>",
      "text/plain": "alt.HConcatChart(...)"
     },
     "metadata": {},
     "execution_count": 20
    }
   ],
   "source": [
    "domain = [\n",
    "    '2020-03-13',\n",
    "    (fhm_data.date.max() + pd.Timedelta(\"1D\")).date().isoformat(),\n",
    "]\n",
    "\n",
    "brush = alt.selection(type=\"interval\", encodings=[\"x\"])\n",
    "\n",
    "deceased = (\n",
    "    alt.Chart(url, height=400)\n",
    "    .mark_bar()\n",
    "    .encode(\n",
    "        x=alt.X(\n",
    "            \"yearmonthdate(date):T\",\n",
    "            title=\"Date Deceased\",\n",
    "            scale=alt.Scale(domain=domain),\n",
    "        ),\n",
    "        y=alt.Y(\n",
    "            \"sum(n_diff):Q\", title=\"Deceased\", scale=alt.Scale(domain=[0, fhm_data.N.max()])\n",
    "        ),\n",
    "        order=alt.Order(\n",
    "            # Sort the segments of the bars by this field\n",
    "            \"days_since_publication:N\",\n",
    "            sort=\"ascending\",\n",
    "        ),\n",
    "        color=alt.Color(\n",
    "            \"lag:O\",\n",
    "            title=\"Lag in Days\",\n",
    "            sort=labels,\n",
    "            scale=alt.Scale(scheme=\"category20c\"),\n",
    "        ),\n",
    "    )\n",
    "    .transform_filter(brush)\n",
    ").transform_filter('datum.date >= datetime(2020,2,13)')\n",
    "\n",
    "reported = (\n",
    "    alt.Chart(url, height=100)\n",
    "    .mark_bar()\n",
    "    .encode(\n",
    "        x=alt.X(\n",
    "            \"yearmonthdate(publication_date):T\",\n",
    "            title=\"Publication Date\",\n",
    "            scale=alt.Scale(domain=domain),\n",
    "        ),\n",
    "        y=alt.Y(\"sum(n_diff):Q\", title=\"Reported Deaths\"),\n",
    "        tooltip=[\n",
    "            alt.Tooltip(\"sum(n_diff):Q\", title=\"Reported Deaths\"),\n",
    "            \"publication_date:T\",\n",
    "        ],\n",
    "    )\n",
    "    .add_selection(brush)\n",
    ")\n",
    "\n",
    "legend_vert = (\n",
    "    alt.Chart(url, width=50, title=\"Lag in Days\")\n",
    "    .mark_bar()\n",
    "    .encode(\n",
    "        x=alt.X(\"sum(n_diff):Q\", title=\"Reported Deaths\"),\n",
    "        y=alt.Y(\"lag:O\", title=\"\", sort=labels),\n",
    "        color=alt.Color(\"lag:O\", sort=labels, legend=None),\n",
    "    )\n",
    "    .transform_filter(brush)\n",
    ")\n",
    "\n",
    "text = (\n",
    "    alt.Chart(url)\n",
    "    .transform_filter(brush)\n",
    "    .transform_aggregate(sum_deaths=\"sum(n_diff):Q\")\n",
    "    .transform_calculate(text=\"Total deaths: \" + alt.datum.sum_deaths)\n",
    "    .mark_text(align=\"right\", x=692, y=19, fontSize=18)\n",
    "    .encode(text=\"text:N\")\n",
    ")\n",
    "\n",
    "prediction = (\n",
    "    alt.Chart(url)\n",
    "    .mark_bar(color=\"#E8E8E8\")\n",
    "    .encode(\n",
    "        x=\"yearmonthdate(date):T\",\n",
    "        y=alt.Y(\"prediction:Q\", aggregate={\"argmax\": \"publication_date\"}),\n",
    "    )\n",
    "    .transform_filter(brush)\n",
    ")\n",
    "\n",
    "(prediction + deceased + text).properties(width=750) & reported.properties(width=750) | legend_vert"
   ]
  },
  {
   "cell_type": "markdown",
   "metadata": {},
   "source": [
    "## Weekly reported deaths\n",
    "\n",
    "Number of deaths reported each week with each publication weekday shown individually. Some weekdays (typically Saturday-Monday) tend to report lower numbers in reported deaths. This graph gives an idea of what the reported numbers have been previous weeks on the same weekday. Total for current week is number of reported deaths so far."
   ]
  },
  {
   "cell_type": "code",
   "execution_count": 21,
   "metadata": {},
   "outputs": [
    {
     "output_type": "execute_result",
     "data": {
      "text/html": "\n<div id=\"altair-viz-ba4bfbd5975d497dace3d5a01a17fc9e\"></div>\n<script type=\"text/javascript\">\n  (function(spec, embedOpt){\n    let outputDiv = document.currentScript.previousElementSibling;\n    if (outputDiv.id !== \"altair-viz-ba4bfbd5975d497dace3d5a01a17fc9e\") {\n      outputDiv = document.getElementById(\"altair-viz-ba4bfbd5975d497dace3d5a01a17fc9e\");\n    }\n    const paths = {\n      \"vega\": \"https://cdn.jsdelivr.net/npm//vega@5?noext\",\n      \"vega-lib\": \"https://cdn.jsdelivr.net/npm//vega-lib?noext\",\n      \"vega-lite\": \"https://cdn.jsdelivr.net/npm//vega-lite@4.8.1?noext\",\n      \"vega-embed\": \"https://cdn.jsdelivr.net/npm//vega-embed@6?noext\",\n    };\n\n    function loadScript(lib) {\n      return new Promise(function(resolve, reject) {\n        var s = document.createElement('script');\n        s.src = paths[lib];\n        s.async = true;\n        s.onload = () => resolve(paths[lib]);\n        s.onerror = () => reject(`Error loading script: ${paths[lib]}`);\n        document.getElementsByTagName(\"head\")[0].appendChild(s);\n      });\n    }\n\n    function showError(err) {\n      outputDiv.innerHTML = `<div class=\"error\" style=\"color:red;\">${err}</div>`;\n      throw err;\n    }\n\n    function displayChart(vegaEmbed) {\n      vegaEmbed(outputDiv, spec, embedOpt)\n        .catch(err => showError(`Javascript Error: ${err.message}<br>This usually means there's a typo in your chart specification. See the javascript console for the full traceback.`));\n    }\n\n    if(typeof define === \"function\" && define.amd) {\n      requirejs.config({paths});\n      require([\"vega-embed\"], displayChart, err => showError(`Error loading script: ${err.message}`));\n    } else if (typeof vegaEmbed === \"function\") {\n      displayChart(vegaEmbed);\n    } else {\n      loadScript(\"vega\")\n        .then(() => loadScript(\"vega-lite\"))\n        .then(() => loadScript(\"vega-embed\"))\n        .catch(showError)\n        .then(() => displayChart(vegaEmbed));\n    }\n  })({\"config\": {\"view\": {\"continuousWidth\": 400, \"continuousHeight\": 300}}, \"layer\": [{\"mark\": \"bar\", \"encoding\": {\"color\": {\"type\": \"nominal\", \"field\": \"publication_date\", \"sort\": [\"Mon\", \"Tue\", \"Wed\", \"Thu\", \"Fri\", \"Sat\", \"Sun\"], \"timeUnit\": \"day\", \"title\": \"Publication Day\"}, \"order\": {\"type\": \"nominal\", \"field\": \"publication_date\"}, \"x\": {\"type\": \"ordinal\", \"field\": \"publication_week\", \"title\": \"Publication Week\"}, \"y\": {\"type\": \"quantitative\", \"aggregate\": \"sum\", \"field\": \"n_diff\", \"stack\": \"zero\", \"title\": \"Reported Deaths\"}}, \"title\": {\"text\": \"Weekly Reported Covid-19  Deaths in Sweden\", \"subtitle\": \"Updated on Monday, June 29\"}}, {\"mark\": {\"type\": \"text\", \"baseline\": \"bottom\", \"color\": \"black\"}, \"encoding\": {\"text\": {\"type\": \"quantitative\", \"aggregate\": \"sum\", \"field\": \"n_diff\"}, \"x\": {\"type\": \"ordinal\", \"field\": \"publication_week\", \"title\": \"Publication Week\"}, \"y\": {\"type\": \"quantitative\", \"aggregate\": \"sum\", \"field\": \"n_diff\", \"stack\": \"zero\", \"title\": \"Reported Deaths\"}}, \"title\": {\"text\": \"Weekly Reported Covid-19  Deaths in Sweden\", \"subtitle\": \"Updated on Monday, June 29\"}}], \"data\": {\"url\": \"https://raw.githubusercontent.com/morberg/covid-notebook/master/data/fhm.json\"}, \"width\": 500, \"$schema\": \"https://vega.github.io/schema/vega-lite/v4.8.1.json\"}, {\"mode\": \"vega-lite\"});\n</script>",
      "text/plain": "alt.LayerChart(...)"
     },
     "metadata": {},
     "execution_count": 21
    }
   ],
   "source": [
    "week_order = [\"Mon\", \"Tue\", \"Wed\", \"Thu\", \"Fri\", \"Sat\", \"Sun\"]\n",
    "\n",
    "base = alt.Chart(url, title={\n",
    "            'text': 'Weekly Reported Covid-19  Deaths in Sweden',\n",
    "            'subtitle': f'Updated on {fhm_data.date.max().date():%A, %B %d}'}).mark_bar().encode(\n",
    "    x=alt.X('publication_week:O', title='Publication Week'),\n",
    "    y=alt.Y('sum(n_diff):Q', title='Reported Deaths', stack='zero'),\n",
    ")\n",
    "\n",
    "bars = base.mark_bar().encode(\n",
    "    order=alt.Order('publication_date:N'),\n",
    "    color=alt.Color(\n",
    "        \"day(publication_date):N\", title=\"Publication Day\", sort=week_order\n",
    "    ),\n",
    ")\n",
    "\n",
    "text = base.mark_text(color='black', baseline='bottom').encode(\n",
    "    text=alt.Text('sum(n_diff):Q')\n",
    ")\n",
    "\n",
    "(bars + text).properties(width=500)"
   ]
  },
  {
   "cell_type": "markdown",
   "metadata": {},
   "source": [
    "## Daily reported deaths and lag\n",
    "\n",
    "Number of deaths reported by day and the lag in reporting for each death. Each column is a weekday and each row a week."
   ]
  },
  {
   "cell_type": "code",
   "execution_count": 5,
   "metadata": {},
   "outputs": [
    {
     "output_type": "execute_result",
     "data": {
      "text/html": "\n<div id=\"altair-viz-061b3bf81e184508b4d2392bccb26d33\"></div>\n<script type=\"text/javascript\">\n  (function(spec, embedOpt){\n    let outputDiv = document.currentScript.previousElementSibling;\n    if (outputDiv.id !== \"altair-viz-061b3bf81e184508b4d2392bccb26d33\") {\n      outputDiv = document.getElementById(\"altair-viz-061b3bf81e184508b4d2392bccb26d33\");\n    }\n    const paths = {\n      \"vega\": \"https://cdn.jsdelivr.net/npm//vega@5?noext\",\n      \"vega-lib\": \"https://cdn.jsdelivr.net/npm//vega-lib?noext\",\n      \"vega-lite\": \"https://cdn.jsdelivr.net/npm//vega-lite@4.8.1?noext\",\n      \"vega-embed\": \"https://cdn.jsdelivr.net/npm//vega-embed@6?noext\",\n    };\n\n    function loadScript(lib) {\n      return new Promise(function(resolve, reject) {\n        var s = document.createElement('script');\n        s.src = paths[lib];\n        s.async = true;\n        s.onload = () => resolve(paths[lib]);\n        s.onerror = () => reject(`Error loading script: ${paths[lib]}`);\n        document.getElementsByTagName(\"head\")[0].appendChild(s);\n      });\n    }\n\n    function showError(err) {\n      outputDiv.innerHTML = `<div class=\"error\" style=\"color:red;\">${err}</div>`;\n      throw err;\n    }\n\n    function displayChart(vegaEmbed) {\n      vegaEmbed(outputDiv, spec, embedOpt)\n        .catch(err => showError(`Javascript Error: ${err.message}<br>This usually means there's a typo in your chart specification. See the javascript console for the full traceback.`));\n    }\n\n    if(typeof define === \"function\" && define.amd) {\n      requirejs.config({paths});\n      require([\"vega-embed\"], displayChart, err => showError(`Error loading script: ${err.message}`));\n    } else if (typeof vegaEmbed === \"function\") {\n      displayChart(vegaEmbed);\n    } else {\n      loadScript(\"vega\")\n        .then(() => loadScript(\"vega-lite\"))\n        .then(() => loadScript(\"vega-embed\"))\n        .catch(showError)\n        .then(() => displayChart(vegaEmbed));\n    }\n  })({\"config\": {\"view\": {\"continuousWidth\": 400, \"continuousHeight\": 300}}, \"data\": {\"url\": \"https://raw.githubusercontent.com/morberg/covid-notebook/master/data/fhm.json\"}, \"facet\": {\"type\": \"temporal\", \"field\": \"publication_date\", \"title\": \"Reported Deaths per Day\"}, \"spec\": {\"layer\": [{\"mark\": \"bar\", \"encoding\": {\"color\": {\"type\": \"nominal\", \"field\": \"publication_date\", \"sort\": [\"Mon\", \"Tue\", \"Wed\", \"Thu\", \"Fri\", \"Sat\", \"Sun\"], \"timeUnit\": \"day\", \"title\": \"Publication Day\"}, \"x\": {\"type\": \"ordinal\", \"field\": \"lag\", \"sort\": [\"0\", \"1\", \"2\", \"3\", \"4\", \"5\", \"6\", \"7\", \"8\", \"9\", \"10\", \"11\", \"12+\"], \"title\": \"Reporting Lag\"}, \"y\": {\"type\": \"quantitative\", \"aggregate\": \"sum\", \"field\": \"n_diff\", \"title\": \"Reported Deaths\"}}, \"height\": 100, \"width\": 100}, {\"mark\": {\"type\": \"text\", \"align\": \"right\", \"fontSize\": 20, \"x\": 95, \"y\": 28}, \"encoding\": {\"text\": {\"type\": \"quantitative\", \"aggregate\": \"sum\", \"field\": \"n_diff\"}}}]}, \"columns\": 7, \"transform\": [{\"filter\": \"datum.date >= datetime(2020,3,6)\"}], \"$schema\": \"https://vega.github.io/schema/vega-lite/v4.8.1.json\"}, {\"mode\": \"vega-lite\"});\n</script>",
      "text/plain": "alt.FacetChart(...)"
     },
     "metadata": {},
     "execution_count": 5
    }
   ],
   "source": [
    "hist = alt.Chart(url, height=100, width=100).mark_bar().encode(\n",
    "    x=alt.X(\"lag:O\", title=\"Reporting Lag\", sort=labels),\n",
    "    y=alt.Y(\"sum(n_diff):Q\", title=\"Reported Deaths\"),\n",
    "    color=alt.Color(\n",
    "        \"day(publication_date):N\", title=\"Publication Day\", sort=week_order\n",
    "    ),\n",
    ")\n",
    "\n",
    "text = (\n",
    "    alt.Chart(url)\n",
    "    .mark_text(align=\"right\", x=95, y=28, fontSize=20)\n",
    "    .encode(alt.Text(\"sum(n_diff):Q\"),)\n",
    ")\n",
    "\n",
    "(hist + text).facet(\n",
    "    facet=alt.Facet(\"publication_date:T\", title=\"Reported Deaths per Day\"),\n",
    "    columns=7,\n",
    ").transform_filter(\"datum.date >= datetime(2020,3,6)\")"
   ]
  },
  {
   "cell_type": "markdown",
   "metadata": {},
   "source": [
    "## Why is the total number different from official numbers?\n",
    "\n",
    "Total death toll in these graphs differ from official total numbers since:\n",
    "\n",
    "* Old data points with few deaths have been trimmed to make graphs more legible\n",
    "* Some death dates are unknown and are not included in these numbers\n"
   ]
  }
 ],
 "metadata": {
  "kernelspec": {
   "display_name": "Python 3.8.0 64-bit ('3.8.0': pyenv)",
   "language": "python",
   "name": "python38064bit380pyenv663c04aa123640ccb340a8745709dbbc"
  },
  "language_info": {
   "codemirror_mode": {
    "name": "ipython",
    "version": 3
   },
   "file_extension": ".py",
   "mimetype": "text/x-python",
   "name": "python",
   "nbconvert_exporter": "python",
   "pygments_lexer": "ipython3",
   "version": "3.8.0-final"
  }
 },
 "nbformat": 4,
 "nbformat_minor": 4
}